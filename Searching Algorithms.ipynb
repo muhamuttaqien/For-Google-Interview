{
 "cells": [
  {
   "cell_type": "markdown",
   "id": "a73e648b",
   "metadata": {},
   "source": [
    "List of Searching Algorithms\n",
    "\n",
    "1. Linear Search\n",
    "2. Binary Search\n",
    "3. Binary Search Tree\n",
    "4. Graphs Search\n",
    "5. Dynamic Programming"
   ]
  },
  {
   "cell_type": "markdown",
   "id": "b13e3351",
   "metadata": {},
   "source": [
    "## 1. Linear Search"
   ]
  },
  {
   "cell_type": "code",
   "execution_count": 1,
   "id": "21a66c96",
   "metadata": {},
   "outputs": [],
   "source": [
    "def linear_search(data, value):\n",
    "    \n",
    "    for i in range(len(data)):\n",
    "        \n",
    "        if data[i] == value:\n",
    "            return i\n",
    "        \n",
    "    return 'Value is not in the list.'"
   ]
  },
  {
   "cell_type": "code",
   "execution_count": 2,
   "id": "9306ba02",
   "metadata": {},
   "outputs": [
    {
     "data": {
      "text/plain": [
       "5"
      ]
     },
     "execution_count": 2,
     "metadata": {},
     "output_type": "execute_result"
    }
   ],
   "source": [
    "data = [4, 2, 7, 3, 1, 6]\n",
    "linear_search(data, 6)"
   ]
  },
  {
   "cell_type": "markdown",
   "id": "088c6c22",
   "metadata": {},
   "source": [
    "## 2. Binary Search"
   ]
  },
  {
   "cell_type": "code",
   "execution_count": 3,
   "id": "09a46817",
   "metadata": {},
   "outputs": [],
   "source": [
    "def binary_search(data, value):\n",
    "    \n",
    "    length = len(data)\n",
    "    left = 0\n",
    "    right = length - 1\n",
    "    \n",
    "    while left <= right:\n",
    "              \n",
    "        middle = (left + right) // 2\n",
    "        \n",
    "        if value < data[middle]:\n",
    "            right = middle - 1\n",
    "        elif value > data[middle]:\n",
    "            left = middle + 1\n",
    "        else:\n",
    "            return middle\n",
    "\n",
    "    return 'Value is not in the list.'"
   ]
  },
  {
   "cell_type": "code",
   "execution_count": 4,
   "id": "b0b00517",
   "metadata": {},
   "outputs": [
    {
     "data": {
      "text/plain": [
       "1"
      ]
     },
     "execution_count": 4,
     "metadata": {},
     "output_type": "execute_result"
    }
   ],
   "source": [
    "data = [4, 2, 7, 3, 1, 6, 7]\n",
    "binary_search(data, 2)"
   ]
  },
  {
   "cell_type": "markdown",
   "id": "ec1ea472",
   "metadata": {},
   "source": [
    "## 3. Binary Search Tree"
   ]
  },
  {
   "cell_type": "code",
   "execution_count": null,
   "id": "edc6080b",
   "metadata": {},
   "outputs": [],
   "source": []
  },
  {
   "cell_type": "markdown",
   "id": "541d7715",
   "metadata": {},
   "source": [
    "---"
   ]
  }
 ],
 "metadata": {
  "kernelspec": {
   "display_name": "Python 3",
   "language": "python",
   "name": "python3"
  },
  "language_info": {
   "codemirror_mode": {
    "name": "ipython",
    "version": 3
   },
   "file_extension": ".py",
   "mimetype": "text/x-python",
   "name": "python",
   "nbconvert_exporter": "python",
   "pygments_lexer": "ipython3",
   "version": "3.8.8"
  }
 },
 "nbformat": 4,
 "nbformat_minor": 5
}
