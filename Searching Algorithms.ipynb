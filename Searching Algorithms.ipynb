{
 "cells": [
  {
   "cell_type": "markdown",
   "id": "a73e648b",
   "metadata": {},
   "source": [
    "List of Searching Algorithms\n",
    "\n",
    "1. Linear Search\n",
    "2. Binary Search\n",
    "3. Binary Search Tree\n",
    "4. Graphs Search\n",
    "5. Dynamic Programming"
   ]
  },
  {
   "cell_type": "markdown",
   "id": "541d7715",
   "metadata": {},
   "source": [
    "---"
   ]
  }
 ],
 "metadata": {
  "kernelspec": {
   "display_name": "Python 3",
   "language": "python",
   "name": "python3"
  },
  "language_info": {
   "codemirror_mode": {
    "name": "ipython",
    "version": 3
   },
   "file_extension": ".py",
   "mimetype": "text/x-python",
   "name": "python",
   "nbconvert_exporter": "python",
   "pygments_lexer": "ipython3",
   "version": "3.8.8"
  }
 },
 "nbformat": 4,
 "nbformat_minor": 5
}
