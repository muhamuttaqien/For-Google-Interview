{
 "cells": [
  {
   "cell_type": "markdown",
   "id": "5f7ceff5",
   "metadata": {},
   "source": [
    "## Calculate Power Function"
   ]
  },
  {
   "cell_type": "markdown",
   "id": "e8e3cb6f",
   "metadata": {},
   "source": [
    "Asked in Google. Given two integers base and expo, write a function to compute base^expo."
   ]
  },
  {
   "cell_type": "markdown",
   "id": "b380c450",
   "metadata": {},
   "source": [
    "#### Naive Approach"
   ]
  },
  {
   "cell_type": "code",
   "execution_count": 1,
   "id": "970ec3a6",
   "metadata": {},
   "outputs": [],
   "source": [
    "def calculate_power(base, expo):\n",
    "    '''\n",
    "    Time Complexity: O(n)\n",
    "    Space Complexity: O(1)\n",
    "    '''\n",
    "    \n",
    "    is_negative = False\n",
    "    \n",
    "    if expo < 0:\n",
    "        is_negative = True\n",
    "    \n",
    "    power = 1\n",
    "    \n",
    "    for i in range(1, abs(expo)+1):\n",
    "        power = power * base \n",
    "        \n",
    "    if is_negative:\n",
    "        return 1/ power\n",
    "    else:\n",
    "        return power"
   ]
  },
  {
   "cell_type": "code",
   "execution_count": 2,
   "id": "466badc7",
   "metadata": {},
   "outputs": [
    {
     "data": {
      "text/plain": [
       "16"
      ]
     },
     "execution_count": 2,
     "metadata": {},
     "output_type": "execute_result"
    }
   ],
   "source": [
    "calculate_power(2, 4)"
   ]
  },
  {
   "cell_type": "code",
   "execution_count": 3,
   "id": "54dcec5c",
   "metadata": {},
   "outputs": [
    {
     "data": {
      "text/plain": [
       "0.0625"
      ]
     },
     "execution_count": 3,
     "metadata": {},
     "output_type": "execute_result"
    }
   ],
   "source": [
    "calculate_power(2, -4)"
   ]
  },
  {
   "cell_type": "code",
   "execution_count": 4,
   "id": "78b8e3e7",
   "metadata": {},
   "outputs": [
    {
     "data": {
      "text/plain": [
       "16"
      ]
     },
     "execution_count": 4,
     "metadata": {},
     "output_type": "execute_result"
    }
   ],
   "source": [
    "calculate_power(-2, 4)"
   ]
  },
  {
   "cell_type": "markdown",
   "id": "d9bcfe4f",
   "metadata": {},
   "source": [
    "#### Better Approach"
   ]
  },
  {
   "cell_type": "code",
   "execution_count": 5,
   "id": "027dd512",
   "metadata": {},
   "outputs": [],
   "source": [
    "def calculate_power(base, expo):\n",
    "    '''\n",
    "    Time Complexity: O(n)\n",
    "    Space Complexity: O(log n)\n",
    "    '''\n",
    "    \n",
    "    if expo == 1:\n",
    "        return base * 1\n",
    "    \n",
    "    if expo % 2 == 0:\n",
    "        if expo > 0:\n",
    "            return calculate_power(base, expo/2) * calculate_power(base, expo/2)\n",
    "        else:\n",
    "            return 1/(calculate_power(base, (abs(expo))/2) * calculate_power(base, (abs(expo))/2))\n",
    "    else:\n",
    "        if expo > 0:\n",
    "            return (calculate_power(base, (expo-1)/2) * calculate_power(base, (expo-1)/2)) * base\n",
    "        else:\n",
    "            return 1/(calculate_power(base, (abs(expo)-1)/2) * calculate_power(base, (abs(expo)-1)/2) * base)"
   ]
  },
  {
   "cell_type": "code",
   "execution_count": 6,
   "id": "f3f7986b",
   "metadata": {},
   "outputs": [
    {
     "data": {
      "text/plain": [
       "16"
      ]
     },
     "execution_count": 6,
     "metadata": {},
     "output_type": "execute_result"
    }
   ],
   "source": [
    "calculate_power(2, 4)"
   ]
  },
  {
   "cell_type": "code",
   "execution_count": 7,
   "id": "c4f768a2",
   "metadata": {
    "scrolled": false
   },
   "outputs": [
    {
     "data": {
      "text/plain": [
       "0.0625"
      ]
     },
     "execution_count": 7,
     "metadata": {},
     "output_type": "execute_result"
    }
   ],
   "source": [
    "calculate_power(2, -4)"
   ]
  },
  {
   "cell_type": "code",
   "execution_count": 8,
   "id": "c14440f7",
   "metadata": {},
   "outputs": [
    {
     "data": {
      "text/plain": [
       "16"
      ]
     },
     "execution_count": 8,
     "metadata": {},
     "output_type": "execute_result"
    }
   ],
   "source": [
    "calculate_power(-2, 4)"
   ]
  },
  {
   "cell_type": "code",
   "execution_count": 9,
   "id": "353ff364",
   "metadata": {
    "scrolled": true
   },
   "outputs": [
    {
     "data": {
      "text/plain": [
       "0.0625"
      ]
     },
     "execution_count": 9,
     "metadata": {},
     "output_type": "execute_result"
    }
   ],
   "source": [
    "calculate_power(-2, -4)"
   ]
  },
  {
   "cell_type": "code",
   "execution_count": 10,
   "id": "4fb4fe66",
   "metadata": {
    "scrolled": true
   },
   "outputs": [
    {
     "data": {
      "text/plain": [
       "32"
      ]
     },
     "execution_count": 10,
     "metadata": {},
     "output_type": "execute_result"
    }
   ],
   "source": [
    "calculate_power(2, 5)"
   ]
  },
  {
   "cell_type": "code",
   "execution_count": 11,
   "id": "34b4c473",
   "metadata": {
    "scrolled": true
   },
   "outputs": [
    {
     "data": {
      "text/plain": [
       "0.03125"
      ]
     },
     "execution_count": 11,
     "metadata": {},
     "output_type": "execute_result"
    }
   ],
   "source": [
    "calculate_power(2, -5)"
   ]
  },
  {
   "cell_type": "markdown",
   "id": "f19610fc",
   "metadata": {},
   "source": [
    "---"
   ]
  }
 ],
 "metadata": {
  "kernelspec": {
   "display_name": "Python 3",
   "language": "python",
   "name": "python3"
  },
  "language_info": {
   "codemirror_mode": {
    "name": "ipython",
    "version": 3
   },
   "file_extension": ".py",
   "mimetype": "text/x-python",
   "name": "python",
   "nbconvert_exporter": "python",
   "pygments_lexer": "ipython3",
   "version": "3.8.8"
  }
 },
 "nbformat": 4,
 "nbformat_minor": 5
}
