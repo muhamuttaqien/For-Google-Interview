{
 "cells": [
  {
   "cell_type": "markdown",
   "id": "97d7376f",
   "metadata": {},
   "source": [
    "## Search For A Range In A Sorted Array"
   ]
  },
  {
   "cell_type": "markdown",
   "id": "daaf1111",
   "metadata": {},
   "source": [
    "Level Easy. Given a sorted array arr[] with possibly duplicate elements, write a program to find indexes of first and last occurrences of a target element in the given array."
   ]
  },
  {
   "cell_type": "markdown",
   "id": "f8cd8155",
   "metadata": {},
   "source": [
    "#### Naive Iteration Approach"
   ]
  },
  {
   "cell_type": "code",
   "execution_count": 1,
   "id": "b69ba323",
   "metadata": {},
   "outputs": [],
   "source": [
    "def search_range(data, value):\n",
    "    '''\n",
    "    Time Complexity: O(n)\n",
    "    Space Complexity: O(1)\n",
    "    '''\n",
    "    lower_bound = -1\n",
    "    upper_bound = -1\n",
    "    \n",
    "    for i in range(len(data)):\n",
    "        \n",
    "        if data[i] == value:\n",
    "            \n",
    "            if lower_bound == -1:\n",
    "                lower_bound = i\n",
    "                \n",
    "            upper_bound = i\n",
    "        \n",
    "    return [lower_bound, upper_bound]"
   ]
  },
  {
   "cell_type": "code",
   "execution_count": 2,
   "id": "77e989c7",
   "metadata": {},
   "outputs": [
    {
     "data": {
      "text/plain": [
       "[2, 5]"
      ]
     },
     "execution_count": 2,
     "metadata": {},
     "output_type": "execute_result"
    }
   ],
   "source": [
    "data = [1, 3, 5, 5, 5, 5, 28, 37, 42]\n",
    "search_range(data, 5)"
   ]
  },
  {
   "cell_type": "code",
   "execution_count": 3,
   "id": "078525da",
   "metadata": {},
   "outputs": [
    {
     "data": {
      "text/plain": [
       "[6, 6]"
      ]
     },
     "execution_count": 3,
     "metadata": {},
     "output_type": "execute_result"
    }
   ],
   "source": [
    "data = [1, 3, 5, 5, 5, 5, 7, 28, 37]\n",
    "search_range(data, 7)"
   ]
  },
  {
   "cell_type": "code",
   "execution_count": 4,
   "id": "bda4cbc4",
   "metadata": {},
   "outputs": [
    {
     "data": {
      "text/plain": [
       "[-1, -1]"
      ]
     },
     "execution_count": 4,
     "metadata": {},
     "output_type": "execute_result"
    }
   ],
   "source": [
    "data = [5, 7, 7, 8, 8, 10]\n",
    "search_range(data, 11)"
   ]
  },
  {
   "cell_type": "markdown",
   "id": "7d27aac8",
   "metadata": {},
   "source": [
    "#### Better Iteration Approach"
   ]
  },
  {
   "cell_type": "code",
   "execution_count": 5,
   "id": "e33df13e",
   "metadata": {},
   "outputs": [],
   "source": [
    "def search_range(data, value):\n",
    "    '''\n",
    "    Time Complexity: O(log n)\n",
    "    Space Complexity: O(1)\n",
    "    '''\n",
    "    start_index = 0\n",
    "    end_index = len(data) - 1\n",
    "    \n",
    "    while (start_index < end_index):\n",
    "        \n",
    "        mid_index = (start_index + end_index) // 2\n",
    "\n",
    "        if (value <= data[mid_index]):\n",
    "            end_index = mid_index\n",
    "        else:\n",
    "            start_index = mid_index + 1\n",
    "            \n",
    "    lower_bound = start_index\n",
    "    end_index = len(data) - 1\n",
    "    \n",
    "    while (start_index < end_index):\n",
    "        \n",
    "        mid_index = (start_index + end_index) // 2 + 1\n",
    "        \n",
    "        if (value < data[mid_index]):\n",
    "            end_index = mid_index - 1\n",
    "        else:\n",
    "            start_index = mid_index\n",
    "            \n",
    "    upper_bound = end_index\n",
    "    \n",
    "    return [lower_bound, upper_bound]"
   ]
  },
  {
   "cell_type": "code",
   "execution_count": 6,
   "id": "ad200a36",
   "metadata": {},
   "outputs": [
    {
     "data": {
      "text/plain": [
       "[2, 5]"
      ]
     },
     "execution_count": 6,
     "metadata": {},
     "output_type": "execute_result"
    }
   ],
   "source": [
    "data = [1, 3, 5, 5, 5, 5, 28, 37, 42]\n",
    "search_range(data, 5)"
   ]
  },
  {
   "cell_type": "code",
   "execution_count": 7,
   "id": "e35d982a",
   "metadata": {},
   "outputs": [
    {
     "data": {
      "text/plain": [
       "[6, 6]"
      ]
     },
     "execution_count": 7,
     "metadata": {},
     "output_type": "execute_result"
    }
   ],
   "source": [
    "data = [1, 3, 5, 5, 5, 5, 7, 28, 37]\n",
    "search_range(data, 7)"
   ]
  },
  {
   "cell_type": "code",
   "execution_count": 8,
   "id": "fb2c75da",
   "metadata": {},
   "outputs": [
    {
     "data": {
      "text/plain": [
       "[5, 5]"
      ]
     },
     "execution_count": 8,
     "metadata": {},
     "output_type": "execute_result"
    }
   ],
   "source": [
    "data = [5, 7, 7, 8, 8, 10]\n",
    "search_range(data, 11)"
   ]
  },
  {
   "cell_type": "markdown",
   "id": "39250a24",
   "metadata": {},
   "source": [
    "#### Better Recursion Approach"
   ]
  },
  {
   "cell_type": "code",
   "execution_count": 9,
   "id": "c9d7b9e3",
   "metadata": {},
   "outputs": [],
   "source": [
    "def search_range(data, value):\n",
    "    '''\n",
    "    Time Complexity: O(log n)\n",
    "    Space Complexity: O(log n)\n",
    "    '''\n",
    "    start_index = 0\n",
    "    end_index = len(data) - 1\n",
    "    \n",
    "    left_most_index = left_most(start_index, end_index, value)\n",
    "    right_most_index = right_most(start_index, end_index, value)\n",
    "    \n",
    "    lower_bound = left_most_index\n",
    "    upper_bound = right_most_index\n",
    "    \n",
    "    return [lower_bound, upper_bound]\n",
    "\n",
    "def left_most(start_index, end_index, value):\n",
    "    \n",
    "    if (start_index == end_index):\n",
    "        return start_index\n",
    "    \n",
    "    mid_index = (start_index + end_index) // 2\n",
    "    \n",
    "    if (data[mid_index] < value):\n",
    "        return left_most(mid_index + 1, end_index, value)\n",
    "    else:\n",
    "        return left_most(start_index, mid_index, value)\n",
    "    \n",
    "def right_most(start_index, end_index, value):\n",
    "    \n",
    "    if (start_index == end_index):\n",
    "        return start_index\n",
    "    \n",
    "    mid_index = (start_index + end_index) // 2 + 1\n",
    "        \n",
    "    if (data[mid_index] > value):\n",
    "        return right_most(start_index, mid_index - 1, value)\n",
    "    else:\n",
    "        return right_most(mid_index, end_index, value)"
   ]
  },
  {
   "cell_type": "code",
   "execution_count": 10,
   "id": "afae172b",
   "metadata": {},
   "outputs": [
    {
     "data": {
      "text/plain": [
       "[2, 5]"
      ]
     },
     "execution_count": 10,
     "metadata": {},
     "output_type": "execute_result"
    }
   ],
   "source": [
    "data = [1, 3, 5, 5, 5, 5, 28, 37, 42]\n",
    "search_range(data, 5)"
   ]
  },
  {
   "cell_type": "code",
   "execution_count": 11,
   "id": "9f6dfabe",
   "metadata": {},
   "outputs": [
    {
     "data": {
      "text/plain": [
       "[6, 6]"
      ]
     },
     "execution_count": 11,
     "metadata": {},
     "output_type": "execute_result"
    }
   ],
   "source": [
    "data = [1, 3, 5, 5, 5, 5, 7, 28, 37]\n",
    "search_range(data, 7)"
   ]
  },
  {
   "cell_type": "code",
   "execution_count": 12,
   "id": "f8f5f661",
   "metadata": {},
   "outputs": [
    {
     "data": {
      "text/plain": [
       "[5, 5]"
      ]
     },
     "execution_count": 12,
     "metadata": {},
     "output_type": "execute_result"
    }
   ],
   "source": [
    "data = [5, 7, 7, 8, 8, 10]\n",
    "search_range(data, 11)"
   ]
  },
  {
   "cell_type": "markdown",
   "id": "325ebd51",
   "metadata": {},
   "source": [
    "---"
   ]
  }
 ],
 "metadata": {
  "kernelspec": {
   "display_name": "Python 3",
   "language": "python",
   "name": "python3"
  },
  "language_info": {
   "codemirror_mode": {
    "name": "ipython",
    "version": 3
   },
   "file_extension": ".py",
   "mimetype": "text/x-python",
   "name": "python",
   "nbconvert_exporter": "python",
   "pygments_lexer": "ipython3",
   "version": "3.8.8"
  }
 },
 "nbformat": 4,
 "nbformat_minor": 5
}
