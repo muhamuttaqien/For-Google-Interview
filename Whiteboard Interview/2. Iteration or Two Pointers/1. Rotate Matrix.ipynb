{
 "cells": [
  {
   "cell_type": "markdown",
   "id": "8e9ca41b",
   "metadata": {},
   "source": [
    "## 1. Rotate Matrix"
   ]
  },
  {
   "cell_type": "markdown",
   "id": "605ecf3c",
   "metadata": {},
   "source": [
    "Level medium. You are given an n x n 2D-matrix. Write a program to rotate the matrix by 90 degrees."
   ]
  },
  {
   "cell_type": "markdown",
   "id": "d3f69904",
   "metadata": {},
   "source": [
    "#### Naive Approach"
   ]
  },
  {
   "cell_type": "code",
   "execution_count": 1,
   "id": "a1a055fd",
   "metadata": {},
   "outputs": [],
   "source": [
    "def rotate_matrix(data):\n",
    "    pass"
   ]
  },
  {
   "cell_type": "markdown",
   "id": "0c93a108",
   "metadata": {},
   "source": [
    "#### Better Approach"
   ]
  },
  {
   "cell_type": "code",
   "execution_count": 2,
   "id": "3086ace4",
   "metadata": {},
   "outputs": [],
   "source": [
    "def rotate_matrix(data):\n",
    "    pass"
   ]
  },
  {
   "cell_type": "markdown",
   "id": "48ef11a3",
   "metadata": {},
   "source": [
    "---"
   ]
  }
 ],
 "metadata": {
  "kernelspec": {
   "display_name": "Python 3",
   "language": "python",
   "name": "python3"
  },
  "language_info": {
   "codemirror_mode": {
    "name": "ipython",
    "version": 3
   },
   "file_extension": ".py",
   "mimetype": "text/x-python",
   "name": "python",
   "nbconvert_exporter": "python",
   "pygments_lexer": "ipython3",
   "version": "3.8.8"
  }
 },
 "nbformat": 4,
 "nbformat_minor": 5
}
