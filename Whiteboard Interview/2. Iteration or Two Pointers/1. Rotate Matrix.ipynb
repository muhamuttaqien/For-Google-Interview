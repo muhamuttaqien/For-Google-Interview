{
 "cells": [
  {
   "cell_type": "markdown",
   "id": "76ae21b4",
   "metadata": {},
   "source": [
    "## 1. Rotate Matrix"
   ]
  },
  {
   "cell_type": "markdown",
   "id": "5a88961b",
   "metadata": {},
   "source": [
    "Level medium. You are given an n x n 2D-matrix. Write a program to rotate the matrix by 90 degrees."
   ]
  },
  {
   "cell_type": "markdown",
   "id": "829fa88b",
   "metadata": {},
   "source": [
    "#### Naive Approach"
   ]
  },
  {
   "cell_type": "code",
   "execution_count": 1,
   "id": "dde2d944",
   "metadata": {},
   "outputs": [],
   "source": [
    "def rotate_matrix(data):\n",
    "    '''\n",
    "    Time Complexity: O(n**2)\n",
    "    Space Complexity: O(1)\n",
    "    '''\n",
    "    \n",
    "    data_length = len(data)\n",
    "    \n",
    "    # transpose process\n",
    "    for i in range(data_length):\n",
    "        \n",
    "        for j in range(i, data_length):\n",
    "            \n",
    "            temp = data[i][j]\n",
    "            data[i][j] = data[j][i]\n",
    "            data[j][i] = temp\n",
    "    \n",
    "    # perform rotation of each row\n",
    "    for i in range(data_length):\n",
    "        \n",
    "        for j in range(data_length//2):\n",
    "            \n",
    "            temp = data[i][j]\n",
    "            data[i][j] = data[i][data_length-1-j]\n",
    "            data[i][data_length-1-j] = temp\n",
    "    \n",
    "    return data"
   ]
  },
  {
   "cell_type": "code",
   "execution_count": 2,
   "id": "d894ff79",
   "metadata": {},
   "outputs": [],
   "source": [
    "data = [[7, 8, 9], \n",
    "        [1, 2, 3], \n",
    "        [4, 5, 6]]"
   ]
  },
  {
   "cell_type": "code",
   "execution_count": 3,
   "id": "4798d823",
   "metadata": {},
   "outputs": [
    {
     "data": {
      "text/plain": [
       "[[4, 1, 7], [5, 2, 8], [6, 3, 9]]"
      ]
     },
     "execution_count": 3,
     "metadata": {},
     "output_type": "execute_result"
    }
   ],
   "source": [
    "rotate_matrix(data)"
   ]
  },
  {
   "cell_type": "code",
   "execution_count": 4,
   "id": "07c33b78",
   "metadata": {},
   "outputs": [],
   "source": [
    "data = [[1, 2, 3, 4], \n",
    "        [5, 6, 7, 8], \n",
    "        [9, 10, 11, 12], \n",
    "        [13, 14, 15, 16]]"
   ]
  },
  {
   "cell_type": "code",
   "execution_count": 5,
   "id": "f6e10837",
   "metadata": {},
   "outputs": [
    {
     "data": {
      "text/plain": [
       "[[13, 9, 5, 1], [14, 10, 6, 2], [15, 11, 7, 3], [16, 12, 8, 4]]"
      ]
     },
     "execution_count": 5,
     "metadata": {},
     "output_type": "execute_result"
    }
   ],
   "source": [
    "rotate_matrix(data)"
   ]
  },
  {
   "cell_type": "markdown",
   "id": "74d98217",
   "metadata": {},
   "source": [
    "#### Better Approach"
   ]
  },
  {
   "cell_type": "code",
   "execution_count": 6,
   "id": "98cb2fd5",
   "metadata": {},
   "outputs": [],
   "source": [
    "def rotate_matrix(data):\n",
    "    '''\n",
    "    Time Complexity: O(n**2)\n",
    "    Space Complexity: O(1)\n",
    "    '''\n",
    "    \n",
    "    layer = 0\n",
    "    data_length = len(data)\n",
    "    \n",
    "    while layer < data_length //2:\n",
    "        \n",
    "        low = layer\n",
    "        high = data_length - 1 - layer\n",
    "        \n",
    "        for i in range(low, high):\n",
    "            \n",
    "            temp = data[low][i]\n",
    "            data[low][i] = data[data_length-1-i][low]\n",
    "            data[data_length-1-i][low] = data[data_length-1-low][data_length-1-i]\n",
    "            data[data_length-1-low][data_length-1-i] = data[i][data_length-1-low]\n",
    "            data[i][data_length-1-low] = temp\n",
    "            \n",
    "        layer = layer + 1\n",
    "        \n",
    "    return data"
   ]
  },
  {
   "cell_type": "code",
   "execution_count": 7,
   "id": "413ebd8b",
   "metadata": {},
   "outputs": [],
   "source": [
    "data = [[7, 8, 9], \n",
    "        [1, 2, 3], \n",
    "        [4, 5, 6]]"
   ]
  },
  {
   "cell_type": "code",
   "execution_count": 8,
   "id": "a26b00f4",
   "metadata": {},
   "outputs": [
    {
     "data": {
      "text/plain": [
       "[[4, 1, 7], [5, 2, 8], [6, 3, 9]]"
      ]
     },
     "execution_count": 8,
     "metadata": {},
     "output_type": "execute_result"
    }
   ],
   "source": [
    "rotate_matrix(data)"
   ]
  },
  {
   "cell_type": "code",
   "execution_count": 9,
   "id": "3bd6d7ee",
   "metadata": {},
   "outputs": [],
   "source": [
    "data = [[1, 2, 3, 4], \n",
    "        [5, 6, 7, 8], \n",
    "        [9, 10, 11, 12], \n",
    "        [13, 14, 15, 16]]"
   ]
  },
  {
   "cell_type": "code",
   "execution_count": 10,
   "id": "7d33d890",
   "metadata": {},
   "outputs": [
    {
     "data": {
      "text/plain": [
       "[[13, 9, 5, 1], [14, 10, 6, 2], [15, 11, 7, 3], [16, 12, 8, 4]]"
      ]
     },
     "execution_count": 10,
     "metadata": {},
     "output_type": "execute_result"
    }
   ],
   "source": [
    "rotate_matrix(data)"
   ]
  },
  {
   "cell_type": "markdown",
   "id": "af444f50",
   "metadata": {},
   "source": [
    "---"
   ]
  }
 ],
 "metadata": {
  "kernelspec": {
   "display_name": "Python 3",
   "language": "python",
   "name": "python3"
  },
  "language_info": {
   "codemirror_mode": {
    "name": "ipython",
    "version": 3
   },
   "file_extension": ".py",
   "mimetype": "text/x-python",
   "name": "python",
   "nbconvert_exporter": "python",
   "pygments_lexer": "ipython3",
   "version": "3.8.8"
  }
 },
 "nbformat": 4,
 "nbformat_minor": 5
}
