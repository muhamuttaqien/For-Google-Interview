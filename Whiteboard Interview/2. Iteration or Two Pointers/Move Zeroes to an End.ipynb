{
 "cells": [
  {
   "cell_type": "markdown",
   "id": "89543e50",
   "metadata": {},
   "source": [
    "## Move Zeroes to an End"
   ]
  },
  {
   "cell_type": "markdown",
   "id": "64efe8df",
   "metadata": {},
   "source": [
    "Given an array arr[] of n elements filled with several integers, some of them being zeroes, write a program to move all the zeroes to the end."
   ]
  },
  {
   "cell_type": "markdown",
   "id": "d45fa818",
   "metadata": {},
   "source": [
    "#### Naive Approach"
   ]
  },
  {
   "cell_type": "code",
   "execution_count": 1,
   "id": "64724e91",
   "metadata": {},
   "outputs": [],
   "source": [
    "def move_zeroes(data):\n",
    "    \n",
    "    return data"
   ]
  },
  {
   "cell_type": "code",
   "execution_count": 2,
   "id": "74be2da7",
   "metadata": {},
   "outputs": [
    {
     "data": {
      "text/plain": [
       "[1, 8, 0, 2, 0, 1, 13, 0]"
      ]
     },
     "execution_count": 2,
     "metadata": {},
     "output_type": "execute_result"
    }
   ],
   "source": [
    "data = [1, 8, 0, 2, 0, 1, 13, 0]\n",
    "move_zeroes(data)"
   ]
  },
  {
   "cell_type": "code",
   "execution_count": 3,
   "id": "c36c1f05",
   "metadata": {},
   "outputs": [
    {
     "data": {
      "text/plain": [
       "[0, 0, 0, 23, 2]"
      ]
     },
     "execution_count": 3,
     "metadata": {},
     "output_type": "execute_result"
    }
   ],
   "source": [
    "data = [0, 0, 0, 23, 2]\n",
    "move_zeroes(data)"
   ]
  },
  {
   "cell_type": "markdown",
   "id": "4b459396",
   "metadata": {},
   "source": [
    "#### Better Approach"
   ]
  },
  {
   "cell_type": "code",
   "execution_count": null,
   "id": "6aa2963a",
   "metadata": {},
   "outputs": [],
   "source": []
  },
  {
   "cell_type": "markdown",
   "id": "a422b504",
   "metadata": {},
   "source": [
    "---"
   ]
  }
 ],
 "metadata": {
  "kernelspec": {
   "display_name": "Python 3",
   "language": "python",
   "name": "python3"
  },
  "language_info": {
   "codemirror_mode": {
    "name": "ipython",
    "version": 3
   },
   "file_extension": ".py",
   "mimetype": "text/x-python",
   "name": "python",
   "nbconvert_exporter": "python",
   "pygments_lexer": "ipython3",
   "version": "3.8.8"
  }
 },
 "nbformat": 4,
 "nbformat_minor": 5
}
