{
 "cells": [
  {
   "cell_type": "markdown",
   "id": "ac29b424",
   "metadata": {},
   "source": [
    "## 2. Spiral Matrix"
   ]
  },
  {
   "cell_type": "markdown",
   "id": "abdaa8c5",
   "metadata": {},
   "source": [
    "Level Medium. Given a matrix of m x n elements, where m is the number of rows and n is the number of columns. Write a program to return all elements of the matrix in spiral orde"
   ]
  },
  {
   "cell_type": "markdown",
   "id": "08d3e25f",
   "metadata": {},
   "source": [
    "#### Naive Approach"
   ]
  },
  {
   "cell_type": "code",
   "execution_count": 1,
   "id": "78bd7240",
   "metadata": {},
   "outputs": [],
   "source": [
    "def spiral_matrix(data):\n",
    "    '''\n",
    "    Time Complexity: O(n*m)\n",
    "    Space Complexity: O(1)\n",
    "    '''\n",
    "    \n",
    "    start_row = 0\n",
    "    start_col = 0\n",
    "    \n",
    "    end_row = len(data)\n",
    "    end_col = len(data)\n",
    "    \n",
    "    spiral_data = []\n",
    "    \n",
    "    while (start_row < end_row) and (start_col < end_col):\n",
    "        \n",
    "        for i in range(start_col, end_col):\n",
    "            spiral_data.append(data[start_row][i])\n",
    "            \n",
    "        start_row = start_row + 1\n",
    "        \n",
    "        for i in range(start_row, end_row):\n",
    "            spiral_data.append(data[i][end_col-1])\n",
    "            \n",
    "        end_col = end_col - 1\n",
    "        \n",
    "        if (start_row < end_row):\n",
    "                        \n",
    "            for i in range(end_col-1, start_col-1, -1):\n",
    "                spiral_data.append(data[end_row-1][i])\n",
    "                \n",
    "            end_row = end_row - 1\n",
    "            \n",
    "        if (start_col < end_col):\n",
    "            \n",
    "            for i in range(end_row-1, start_row-1, -1):\n",
    "                spiral_data.append(data[i][start_col])\n",
    "                \n",
    "            start_col = start_col + 1\n",
    "            \n",
    "    return spiral_data"
   ]
  },
  {
   "cell_type": "code",
   "execution_count": 2,
   "id": "d34f1a26",
   "metadata": {},
   "outputs": [],
   "source": [
    "data = [[1, 2],\n",
    "        [3, 4]]"
   ]
  },
  {
   "cell_type": "code",
   "execution_count": 3,
   "id": "8a6d37f1",
   "metadata": {},
   "outputs": [
    {
     "data": {
      "text/plain": [
       "[1, 2, 4, 3]"
      ]
     },
     "execution_count": 3,
     "metadata": {},
     "output_type": "execute_result"
    }
   ],
   "source": [
    "spiral_matrix(data)"
   ]
  },
  {
   "cell_type": "code",
   "execution_count": 4,
   "id": "2a9accf0",
   "metadata": {},
   "outputs": [],
   "source": [
    "data = [[5, 8, 3], \n",
    "        [3, 8, 6], \n",
    "        [4, 7, 3]]"
   ]
  },
  {
   "cell_type": "code",
   "execution_count": 5,
   "id": "b29b8dfd",
   "metadata": {},
   "outputs": [
    {
     "data": {
      "text/plain": [
       "[5, 8, 3, 6, 3, 7, 4, 3, 8]"
      ]
     },
     "execution_count": 5,
     "metadata": {},
     "output_type": "execute_result"
    }
   ],
   "source": [
    "spiral_matrix(data)"
   ]
  },
  {
   "cell_type": "code",
   "execution_count": 6,
   "id": "15e007b1",
   "metadata": {},
   "outputs": [],
   "source": [
    "data = [[1, 2, 3, 4], \n",
    "        [5, 6, 7, 8],\n",
    "        [9, 10, 11, 12],\n",
    "        [13, 14, 15, 16]]"
   ]
  },
  {
   "cell_type": "code",
   "execution_count": 7,
   "id": "a37526e9",
   "metadata": {},
   "outputs": [
    {
     "data": {
      "text/plain": [
       "[1, 2, 3, 4, 8, 12, 16, 15, 14, 13, 9, 5, 6, 7, 11, 10]"
      ]
     },
     "execution_count": 7,
     "metadata": {},
     "output_type": "execute_result"
    }
   ],
   "source": [
    "spiral_matrix(data)"
   ]
  },
  {
   "cell_type": "markdown",
   "id": "6854f7da",
   "metadata": {},
   "source": [
    "#### Better Approach"
   ]
  },
  {
   "cell_type": "code",
   "execution_count": 8,
   "id": "6fe5b18b",
   "metadata": {},
   "outputs": [],
   "source": [
    "def spiral_matrix(data, start_row, start_col, end_row, end_col):\n",
    "    '''\n",
    "    Time Complexity: O(n*m)\n",
    "    Space Complexity: O(log 1)\n",
    "    '''\n",
    "    \n",
    "    if (start_row >= end_row) or (start_col >= end_col):\n",
    "        return\n",
    "    \n",
    "    for i in range(start_row, end_col):\n",
    "        print(data[start_row][i])\n",
    "        \n",
    "    for i in range(start_row+1, end_row):\n",
    "        print(data[i][end_col-1])\n",
    "        \n",
    "    if ((end_row-1) != start_row):\n",
    "        \n",
    "        for i in range(end_col-2, start_col-1, -1):\n",
    "            print(data[end_row-1][i])\n",
    "            \n",
    "    if ((end_col-1) != start_col):\n",
    "        \n",
    "        for i in range(end_row-2, start_row, -1):\n",
    "            print(data[i][start_col])\n",
    "            \n",
    "    spiral_matrix(data, start_row+1, start_col+1, end_row-1, end_col-1)"
   ]
  },
  {
   "cell_type": "code",
   "execution_count": 9,
   "id": "fbb83689",
   "metadata": {},
   "outputs": [],
   "source": [
    "data = [[1, 2],\n",
    "        [3, 4]]"
   ]
  },
  {
   "cell_type": "code",
   "execution_count": 10,
   "id": "f2886c1d",
   "metadata": {
    "scrolled": true
   },
   "outputs": [
    {
     "name": "stdout",
     "output_type": "stream",
     "text": [
      "1\n",
      "2\n",
      "4\n",
      "3\n"
     ]
    }
   ],
   "source": [
    "spiral_matrix(data, start_row=0, start_col=0, end_row=len(data), end_col=len(data))"
   ]
  },
  {
   "cell_type": "code",
   "execution_count": 11,
   "id": "8fc6d774",
   "metadata": {},
   "outputs": [],
   "source": [
    "data = [[5, 8, 3], \n",
    "        [3, 8, 6], \n",
    "        [4, 7, 3]]"
   ]
  },
  {
   "cell_type": "code",
   "execution_count": 12,
   "id": "a9364bfd",
   "metadata": {},
   "outputs": [
    {
     "name": "stdout",
     "output_type": "stream",
     "text": [
      "5\n",
      "8\n",
      "3\n",
      "6\n",
      "3\n",
      "7\n",
      "4\n",
      "3\n",
      "8\n"
     ]
    }
   ],
   "source": [
    "spiral_matrix(data, start_row=0, start_col=0, end_row=len(data), end_col=len(data))"
   ]
  },
  {
   "cell_type": "code",
   "execution_count": 13,
   "id": "34992fcb",
   "metadata": {},
   "outputs": [],
   "source": [
    "data = [[1, 2, 3, 4], \n",
    "        [5, 6, 7, 8],\n",
    "        [9, 10, 11, 12],\n",
    "        [13, 14, 15, 16]]"
   ]
  },
  {
   "cell_type": "code",
   "execution_count": 14,
   "id": "c2c2ecdb",
   "metadata": {},
   "outputs": [
    {
     "name": "stdout",
     "output_type": "stream",
     "text": [
      "1\n",
      "2\n",
      "3\n",
      "4\n",
      "8\n",
      "12\n",
      "16\n",
      "15\n",
      "14\n",
      "13\n",
      "9\n",
      "5\n",
      "6\n",
      "7\n",
      "11\n",
      "10\n"
     ]
    }
   ],
   "source": [
    "spiral_matrix(data, start_row=0, start_col=0, end_row=len(data), end_col=len(data))"
   ]
  },
  {
   "cell_type": "markdown",
   "id": "fabed89e",
   "metadata": {},
   "source": [
    "---"
   ]
  }
 ],
 "metadata": {
  "kernelspec": {
   "display_name": "Python 3",
   "language": "python",
   "name": "python3"
  },
  "language_info": {
   "codemirror_mode": {
    "name": "ipython",
    "version": 3
   },
   "file_extension": ".py",
   "mimetype": "text/x-python",
   "name": "python",
   "nbconvert_exporter": "python",
   "pygments_lexer": "ipython3",
   "version": "3.8.8"
  }
 },
 "nbformat": 4,
 "nbformat_minor": 5
}
