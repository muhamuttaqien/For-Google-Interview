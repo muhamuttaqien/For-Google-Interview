{
 "cells": [
  {
   "cell_type": "markdown",
   "id": "2a937629",
   "metadata": {},
   "source": [
    "## 2. Spiral Matrix"
   ]
  },
  {
   "cell_type": "markdown",
   "id": "fec1ea51",
   "metadata": {},
   "source": [
    "Level Medium. Given a matrix of m x n elements, where m is the number of rows and n is the number of columns. Write a program to return all elements of the matrix in spiral orde"
   ]
  },
  {
   "cell_type": "markdown",
   "id": "60f480f8",
   "metadata": {},
   "source": [
    "#### Naive Approach"
   ]
  },
  {
   "cell_type": "code",
   "execution_count": 1,
   "id": "ab32d786",
   "metadata": {},
   "outputs": [],
   "source": [
    "def spiral_matrix(data):\n",
    "    pass"
   ]
  },
  {
   "cell_type": "markdown",
   "id": "bcf04ac8",
   "metadata": {},
   "source": [
    "#### Better Approach"
   ]
  },
  {
   "cell_type": "code",
   "execution_count": 2,
   "id": "e8fa31ba",
   "metadata": {},
   "outputs": [],
   "source": [
    "def spiral_matrix(data):\n",
    "    pass"
   ]
  },
  {
   "cell_type": "markdown",
   "id": "6f5d482c",
   "metadata": {},
   "source": [
    "---"
   ]
  }
 ],
 "metadata": {
  "kernelspec": {
   "display_name": "Python 3",
   "language": "python",
   "name": "python3"
  },
  "language_info": {
   "codemirror_mode": {
    "name": "ipython",
    "version": 3
   },
   "file_extension": ".py",
   "mimetype": "text/x-python",
   "name": "python",
   "nbconvert_exporter": "python",
   "pygments_lexer": "ipython3",
   "version": "3.8.8"
  }
 },
 "nbformat": 4,
 "nbformat_minor": 5
}
