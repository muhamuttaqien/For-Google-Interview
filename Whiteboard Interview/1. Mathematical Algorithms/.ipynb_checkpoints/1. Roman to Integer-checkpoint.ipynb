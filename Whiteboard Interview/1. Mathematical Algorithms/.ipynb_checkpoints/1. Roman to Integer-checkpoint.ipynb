{
 "cells": [
  {
   "cell_type": "markdown",
   "id": "d04d3f02",
   "metadata": {},
   "source": [
    "## 1. Roman to Integer"
   ]
  },
  {
   "cell_type": "markdown",
   "id": "ae9c57b6",
   "metadata": {},
   "source": [
    "Level medium. Given a string s representing a roman numeral. Convert s into an integer."
   ]
  },
  {
   "cell_type": "markdown",
   "id": "bfda4028",
   "metadata": {},
   "source": [
    "#### Naive Approach"
   ]
  },
  {
   "cell_type": "code",
   "execution_count": 1,
   "id": "69fde28f",
   "metadata": {},
   "outputs": [],
   "source": [
    "def roman_to_int(data):\n",
    "    '''\n",
    "    Time Complexity: O(n)\n",
    "    Space Complexity: O(1)\n",
    "    '''\n",
    "    \n",
    "    dictionary = {\"I\": 1, \n",
    "                  \"V\": 5,\n",
    "                  \"X\": 10,\n",
    "                  \"L\": 50,\n",
    "                  \"C\": 100,\n",
    "                  \"D\": 500,\n",
    "                  \"M\": 1000}\n",
    "\n",
    "    prev_data = 0\n",
    "    integer = 0\n",
    "    \n",
    "    for i in data:\n",
    "        \n",
    "        lookup_data = dictionary[i.capitalize()]\n",
    "        \n",
    "        if prev_data < lookup_data and prev_data != 0:\n",
    "            integer_sub = lookup_data - prev_data\n",
    "            integer += integer_sub - prev_data\n",
    "        else:\n",
    "            integer += lookup_data\n",
    "         \n",
    "        prev_data = lookup_data\n",
    "    \n",
    "    data = integer\n",
    "    \n",
    "    return data"
   ]
  },
  {
   "cell_type": "code",
   "execution_count": 2,
   "id": "7ee82d45",
   "metadata": {},
   "outputs": [
    {
     "data": {
      "text/plain": [
       "7"
      ]
     },
     "execution_count": 2,
     "metadata": {},
     "output_type": "execute_result"
    }
   ],
   "source": [
    "data = \"VII\"\n",
    "roman_to_int(data)"
   ]
  },
  {
   "cell_type": "code",
   "execution_count": 3,
   "id": "76d2e3ec",
   "metadata": {},
   "outputs": [
    {
     "data": {
      "text/plain": [
       "4"
      ]
     },
     "execution_count": 3,
     "metadata": {},
     "output_type": "execute_result"
    }
   ],
   "source": [
    "data = \"IV\"\n",
    "roman_to_int(data)"
   ]
  },
  {
   "cell_type": "code",
   "execution_count": 4,
   "id": "eb5a5808",
   "metadata": {},
   "outputs": [
    {
     "data": {
      "text/plain": [
       "90"
      ]
     },
     "execution_count": 4,
     "metadata": {},
     "output_type": "execute_result"
    }
   ],
   "source": [
    "data = \"XC\"\n",
    "roman_to_int(data)"
   ]
  },
  {
   "cell_type": "code",
   "execution_count": 5,
   "id": "2c500adf",
   "metadata": {},
   "outputs": [
    {
     "data": {
      "text/plain": [
       "17"
      ]
     },
     "execution_count": 5,
     "metadata": {},
     "output_type": "execute_result"
    }
   ],
   "source": [
    "data = \"XVII\"\n",
    "roman_to_int(data)"
   ]
  },
  {
   "cell_type": "code",
   "execution_count": 6,
   "id": "724f8167",
   "metadata": {},
   "outputs": [
    {
     "data": {
      "text/plain": [
       "400"
      ]
     },
     "execution_count": 6,
     "metadata": {},
     "output_type": "execute_result"
    }
   ],
   "source": [
    "data = \"CD\"\n",
    "roman_to_int(data)"
   ]
  },
  {
   "cell_type": "code",
   "execution_count": 7,
   "id": "10652f34",
   "metadata": {},
   "outputs": [
    {
     "data": {
      "text/plain": [
       "900"
      ]
     },
     "execution_count": 7,
     "metadata": {},
     "output_type": "execute_result"
    }
   ],
   "source": [
    "data = \"CM\"\n",
    "roman_to_int(data)"
   ]
  },
  {
   "cell_type": "code",
   "execution_count": 8,
   "id": "e4f69d20",
   "metadata": {},
   "outputs": [
    {
     "data": {
      "text/plain": [
       "1004"
      ]
     },
     "execution_count": 8,
     "metadata": {},
     "output_type": "execute_result"
    }
   ],
   "source": [
    "data = \"MIV\"\n",
    "roman_to_int(data)"
   ]
  },
  {
   "cell_type": "code",
   "execution_count": 9,
   "id": "df50bd8e",
   "metadata": {},
   "outputs": [
    {
     "data": {
      "text/plain": [
       "1008"
      ]
     },
     "execution_count": 9,
     "metadata": {},
     "output_type": "execute_result"
    }
   ],
   "source": [
    "data = \"MVIII\"\n",
    "roman_to_int(data)"
   ]
  },
  {
   "cell_type": "markdown",
   "id": "5ac87a61",
   "metadata": {},
   "source": [
    "---"
   ]
  }
 ],
 "metadata": {
  "kernelspec": {
   "display_name": "Python 3",
   "language": "python",
   "name": "python3"
  },
  "language_info": {
   "codemirror_mode": {
    "name": "ipython",
    "version": 3
   },
   "file_extension": ".py",
   "mimetype": "text/x-python",
   "name": "python",
   "nbconvert_exporter": "python",
   "pygments_lexer": "ipython3",
   "version": "3.8.8"
  }
 },
 "nbformat": 4,
 "nbformat_minor": 5
}
