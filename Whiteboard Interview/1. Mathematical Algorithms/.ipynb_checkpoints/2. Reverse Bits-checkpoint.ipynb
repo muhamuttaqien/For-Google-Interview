{
 "cells": [
  {
   "cell_type": "markdown",
   "id": "1cceb014",
   "metadata": {},
   "source": [
    "## 2. Reverse Bits"
   ]
  },
  {
   "cell_type": "markdown",
   "id": "6e31b4e3",
   "metadata": {},
   "source": [
    "Level easy. Given a non-negative integer num, write a program to return the number obtained after reversing the bits of num."
   ]
  },
  {
   "cell_type": "markdown",
   "id": "baeb6a6c",
   "metadata": {},
   "source": [
    "#### Naive Approach"
   ]
  },
  {
   "cell_type": "code",
   "execution_count": 1,
   "id": "5cb308fc",
   "metadata": {},
   "outputs": [],
   "source": [
    "def reverse_bits(data, bits_length=10):\n",
    "    '''\n",
    "    Time Complexity: O(n**2)\n",
    "    Space Complexity: O(n)\n",
    "    '''\n",
    "    \n",
    "    total_int = 0\n",
    "    converted_int = 0\n",
    "    total_bit = []\n",
    "\n",
    "    powers = [2**(i-1) for i in range(bits_length, 0, -1)]\n",
    "    bits = [1 if power < data else 0 for power in powers]\n",
    "\n",
    "    for bit, power in zip(bits, powers):\n",
    "\n",
    "        if bit == 1:\n",
    "\n",
    "            total_int += power\n",
    "\n",
    "            if total_int <= data:\n",
    "                total_bit.append(1)\n",
    "            else:\n",
    "                total_int -= power\n",
    "                total_bit.append(0)\n",
    "    \n",
    "    total_int = 0\n",
    "    for i, bit in enumerate(total_bit):\n",
    "        \n",
    "        if bit == 1:\n",
    "            total_int += 2**i\n",
    "        \n",
    "    data = total_int\n",
    "    \n",
    "    return data"
   ]
  },
  {
   "cell_type": "code",
   "execution_count": 43,
   "id": "2f9ce0e9",
   "metadata": {},
   "outputs": [
    {
     "data": {
      "text/plain": [
       "0"
      ]
     },
     "execution_count": 43,
     "metadata": {},
     "output_type": "execute_result"
    }
   ],
   "source": [
    "reverse_bits(0)"
   ]
  },
  {
   "cell_type": "code",
   "execution_count": 44,
   "id": "57a590f7",
   "metadata": {},
   "outputs": [
    {
     "data": {
      "text/plain": [
       "3"
      ]
     },
     "execution_count": 44,
     "metadata": {},
     "output_type": "execute_result"
    }
   ],
   "source": [
    "reverse_bits(6)"
   ]
  },
  {
   "cell_type": "code",
   "execution_count": 45,
   "id": "aa9a5fcb",
   "metadata": {
    "scrolled": true
   },
   "outputs": [
    {
     "data": {
      "text/plain": [
       "11"
      ]
     },
     "execution_count": 45,
     "metadata": {},
     "output_type": "execute_result"
    }
   ],
   "source": [
    "reverse_bits(13)"
   ]
  },
  {
   "cell_type": "code",
   "execution_count": 46,
   "id": "741a0ed1",
   "metadata": {},
   "outputs": [
    {
     "data": {
      "text/plain": [
       "5"
      ]
     },
     "execution_count": 46,
     "metadata": {},
     "output_type": "execute_result"
    }
   ],
   "source": [
    "reverse_bits(20)"
   ]
  },
  {
   "cell_type": "code",
   "execution_count": 47,
   "id": "35a89c30",
   "metadata": {},
   "outputs": [
    {
     "data": {
      "text/plain": [
       "137"
      ]
     },
     "execution_count": 47,
     "metadata": {},
     "output_type": "execute_result"
    }
   ],
   "source": [
    "reverse_bits(290)"
   ]
  },
  {
   "cell_type": "code",
   "execution_count": 48,
   "id": "a591c27f",
   "metadata": {},
   "outputs": [
    {
     "data": {
      "text/plain": [
       "77196195995317"
      ]
     },
     "execution_count": 48,
     "metadata": {},
     "output_type": "execute_result"
    }
   ],
   "source": [
    "reverse_bits(int(1e20))"
   ]
  },
  {
   "cell_type": "markdown",
   "id": "4851b4f4",
   "metadata": {},
   "source": [
    "#### Better Approach"
   ]
  },
  {
   "cell_type": "code",
   "execution_count": 50,
   "id": "0c2f46de",
   "metadata": {},
   "outputs": [],
   "source": [
    "def reverse_bits(data):\n",
    "    '''\n",
    "    Time Complexity: O(n)\n",
    "    Space Complexity: O(1)\n",
    "    '''\n",
    "    \n",
    "    result = 0\n",
    "    \n",
    "    while data:\n",
    "        result = (result << 1) + (data & 1)\n",
    "        data >>= 1\n",
    "\n",
    "    return result"
   ]
  },
  {
   "cell_type": "code",
   "execution_count": 42,
   "id": "bdf09c51",
   "metadata": {},
   "outputs": [
    {
     "data": {
      "text/plain": [
       "0"
      ]
     },
     "execution_count": 42,
     "metadata": {},
     "output_type": "execute_result"
    }
   ],
   "source": [
    "reverse_bits(0)"
   ]
  },
  {
   "cell_type": "code",
   "execution_count": 36,
   "id": "a79cc38f",
   "metadata": {},
   "outputs": [
    {
     "data": {
      "text/plain": [
       "3"
      ]
     },
     "execution_count": 36,
     "metadata": {},
     "output_type": "execute_result"
    }
   ],
   "source": [
    "reverse_bits(6)"
   ]
  },
  {
   "cell_type": "code",
   "execution_count": 37,
   "id": "e05379dc",
   "metadata": {},
   "outputs": [
    {
     "data": {
      "text/plain": [
       "11"
      ]
     },
     "execution_count": 37,
     "metadata": {},
     "output_type": "execute_result"
    }
   ],
   "source": [
    "reverse_bits(13)"
   ]
  },
  {
   "cell_type": "code",
   "execution_count": 38,
   "id": "275db876",
   "metadata": {},
   "outputs": [
    {
     "data": {
      "text/plain": [
       "5"
      ]
     },
     "execution_count": 38,
     "metadata": {},
     "output_type": "execute_result"
    }
   ],
   "source": [
    "reverse_bits(20)"
   ]
  },
  {
   "cell_type": "code",
   "execution_count": 39,
   "id": "fc436e4a",
   "metadata": {},
   "outputs": [
    {
     "data": {
      "text/plain": [
       "137"
      ]
     },
     "execution_count": 39,
     "metadata": {},
     "output_type": "execute_result"
    }
   ],
   "source": [
    "reverse_bits(290)"
   ]
  },
  {
   "cell_type": "code",
   "execution_count": 40,
   "id": "f4976525",
   "metadata": {},
   "outputs": [
    {
     "data": {
      "text/plain": [
       "77196195995317"
      ]
     },
     "execution_count": 40,
     "metadata": {},
     "output_type": "execute_result"
    }
   ],
   "source": [
    "reverse_bits(int(1e20))"
   ]
  },
  {
   "cell_type": "markdown",
   "id": "d0718050",
   "metadata": {},
   "source": [
    "---"
   ]
  }
 ],
 "metadata": {
  "kernelspec": {
   "display_name": "Python 3",
   "language": "python",
   "name": "python3"
  },
  "language_info": {
   "codemirror_mode": {
    "name": "ipython",
    "version": 3
   },
   "file_extension": ".py",
   "mimetype": "text/x-python",
   "name": "python",
   "nbconvert_exporter": "python",
   "pygments_lexer": "ipython3",
   "version": "3.8.8"
  }
 },
 "nbformat": 4,
 "nbformat_minor": 5
}
