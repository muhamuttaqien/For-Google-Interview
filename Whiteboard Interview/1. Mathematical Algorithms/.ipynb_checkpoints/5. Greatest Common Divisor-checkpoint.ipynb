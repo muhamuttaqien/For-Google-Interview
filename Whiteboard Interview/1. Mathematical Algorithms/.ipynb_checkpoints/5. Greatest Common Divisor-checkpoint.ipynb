{
 "cells": [
  {
   "cell_type": "markdown",
   "id": "a5bbdd18",
   "metadata": {},
   "source": [
    "## 5. Greatest Common Divisor"
   ]
  },
  {
   "cell_type": "markdown",
   "id": "1b17290b",
   "metadata": {},
   "source": [
    "Level Medium. Given two non-negative integers num1 and num2, write a program to find the greatest common divisor (GCD) of both the numbers."
   ]
  },
  {
   "cell_type": "markdown",
   "id": "4c3a4474",
   "metadata": {},
   "source": [
    "#### Naive Approach #1"
   ]
  },
  {
   "cell_type": "code",
   "execution_count": 1,
   "id": "e8291061",
   "metadata": {},
   "outputs": [],
   "source": [
    "def find_GCD(num1, num2):\n",
    "    '''\n",
    "    Time Complexity: O(n log n)\n",
    "    Space Complexity: O(n)\n",
    "    '''\n",
    "    \n",
    "    collector_set = dict()\n",
    "\n",
    "    for i, num in enumerate([num1, num2]):\n",
    "        \n",
    "        index = 0\n",
    "        left_pair = 1\n",
    "        collector = []\n",
    "\n",
    "        while (left_pair < num/left_pair):\n",
    "\n",
    "            if (num % left_pair == 0):\n",
    "\n",
    "                right_pair = num / left_pair\n",
    "                collector.insert(index, int(left_pair))\n",
    "                collector.insert(index+1, int(right_pair))\n",
    "\n",
    "                index += 1\n",
    "\n",
    "            left_pair += 1\n",
    "            \n",
    "        collector_set[i+1] = set(collector)\n",
    "        \n",
    "    collector = collector_set[1].intersection(collector_set[2])\n",
    "    result = max(collector)\n",
    "    \n",
    "    return result"
   ]
  },
  {
   "cell_type": "code",
   "execution_count": 5,
   "id": "2d1166af",
   "metadata": {},
   "outputs": [
    {
     "data": {
      "text/plain": [
       "5"
      ]
     },
     "execution_count": 5,
     "metadata": {},
     "output_type": "execute_result"
    }
   ],
   "source": [
    "find_GCD(10, 15)"
   ]
  },
  {
   "cell_type": "code",
   "execution_count": 2,
   "id": "599a1888",
   "metadata": {},
   "outputs": [
    {
     "data": {
      "text/plain": [
       "6"
      ]
     },
     "execution_count": 2,
     "metadata": {},
     "output_type": "execute_result"
    }
   ],
   "source": [
    "find_GCD(54, 24)"
   ]
  },
  {
   "cell_type": "code",
   "execution_count": 7,
   "id": "99b82f5f",
   "metadata": {},
   "outputs": [
    {
     "data": {
      "text/plain": [
       "12"
      ]
     },
     "execution_count": 7,
     "metadata": {},
     "output_type": "execute_result"
    }
   ],
   "source": [
    "find_GCD(36, 48)"
   ]
  },
  {
   "cell_type": "markdown",
   "id": "abf357ef",
   "metadata": {},
   "source": [
    "#### Naive Approach #2"
   ]
  },
  {
   "cell_type": "code",
   "execution_count": 33,
   "id": "f6f29042",
   "metadata": {},
   "outputs": [],
   "source": [
    "def find_GCD(num1, num2):\n",
    "    '''\n",
    "    Time Complexity: O(n)\n",
    "    Space Complexity: O(1)\n",
    "    '''\n",
    "    \n",
    "    result = 1\n",
    "    \n",
    "    for i in range(2, min(num1, num2)+1):\n",
    "        \n",
    "        if (num1 % i == 0) and (num2 % i == 0):\n",
    "            result = i\n",
    "            \n",
    "    return result"
   ]
  },
  {
   "cell_type": "code",
   "execution_count": 36,
   "id": "9aef3f04",
   "metadata": {},
   "outputs": [
    {
     "data": {
      "text/plain": [
       "5"
      ]
     },
     "execution_count": 36,
     "metadata": {},
     "output_type": "execute_result"
    }
   ],
   "source": [
    "find_GCD(10, 15)"
   ]
  },
  {
   "cell_type": "code",
   "execution_count": 37,
   "id": "4e795718",
   "metadata": {},
   "outputs": [
    {
     "data": {
      "text/plain": [
       "6"
      ]
     },
     "execution_count": 37,
     "metadata": {},
     "output_type": "execute_result"
    }
   ],
   "source": [
    "find_GCD(54, 24)"
   ]
  },
  {
   "cell_type": "code",
   "execution_count": 38,
   "id": "a1d7483a",
   "metadata": {},
   "outputs": [
    {
     "data": {
      "text/plain": [
       "12"
      ]
     },
     "execution_count": 38,
     "metadata": {},
     "output_type": "execute_result"
    }
   ],
   "source": [
    "find_GCD(36, 48)"
   ]
  },
  {
   "cell_type": "markdown",
   "id": "4609fcbf",
   "metadata": {},
   "source": [
    "#### Better Approach"
   ]
  },
  {
   "cell_type": "code",
   "execution_count": null,
   "id": "a9f0e9e3",
   "metadata": {},
   "outputs": [],
   "source": []
  },
  {
   "cell_type": "markdown",
   "id": "aff88c56",
   "metadata": {},
   "source": [
    "---"
   ]
  }
 ],
 "metadata": {
  "kernelspec": {
   "display_name": "Python 3",
   "language": "python",
   "name": "python3"
  },
  "language_info": {
   "codemirror_mode": {
    "name": "ipython",
    "version": 3
   },
   "file_extension": ".py",
   "mimetype": "text/x-python",
   "name": "python",
   "nbconvert_exporter": "python",
   "pygments_lexer": "ipython3",
   "version": "3.8.8"
  }
 },
 "nbformat": 4,
 "nbformat_minor": 5
}
