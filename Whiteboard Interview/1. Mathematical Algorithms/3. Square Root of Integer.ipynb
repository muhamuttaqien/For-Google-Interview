{
 "cells": [
  {
   "cell_type": "markdown",
   "id": "f60f3151",
   "metadata": {},
   "source": [
    "## 3. Square Root of Integer"
   ]
  },
  {
   "cell_type": "code",
   "execution_count": null,
   "id": "69517e1f",
   "metadata": {},
   "outputs": [],
   "source": []
  },
  {
   "cell_type": "markdown",
   "id": "beb374b3",
   "metadata": {},
   "source": [
    "#### Naive Approach"
   ]
  },
  {
   "cell_type": "code",
   "execution_count": null,
   "id": "bba253c9",
   "metadata": {},
   "outputs": [],
   "source": []
  },
  {
   "cell_type": "markdown",
   "id": "8a54c2a0",
   "metadata": {},
   "source": [
    "#### Better Approach"
   ]
  },
  {
   "cell_type": "code",
   "execution_count": null,
   "id": "1b3c9933",
   "metadata": {},
   "outputs": [],
   "source": []
  },
  {
   "cell_type": "markdown",
   "id": "5b20b562",
   "metadata": {},
   "source": [
    "---"
   ]
  }
 ],
 "metadata": {
  "kernelspec": {
   "display_name": "Python 3",
   "language": "python",
   "name": "python3"
  },
  "language_info": {
   "codemirror_mode": {
    "name": "ipython",
    "version": 3
   },
   "file_extension": ".py",
   "mimetype": "text/x-python",
   "name": "python",
   "nbconvert_exporter": "python",
   "pygments_lexer": "ipython3",
   "version": "3.8.8"
  }
 },
 "nbformat": 4,
 "nbformat_minor": 5
}
