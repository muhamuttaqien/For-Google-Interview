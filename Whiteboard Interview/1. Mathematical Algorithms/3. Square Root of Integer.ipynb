{
 "cells": [
  {
   "cell_type": "markdown",
   "id": "f60f3151",
   "metadata": {},
   "source": [
    "## 3. Square Root of Integer"
   ]
  },
  {
   "cell_type": "markdown",
   "id": "ad83605a",
   "metadata": {},
   "source": [
    "Level Medium. Write a program to compute and return the square root of an integer num."
   ]
  },
  {
   "cell_type": "markdown",
   "id": "8a54c2a0",
   "metadata": {},
   "source": [
    "#### Naive Approach"
   ]
  },
  {
   "cell_type": "code",
   "execution_count": 1,
   "id": "6f47ecae",
   "metadata": {},
   "outputs": [],
   "source": [
    "def int_sqr(data):    \n",
    "    '''\n",
    "    Time Complexity: O(n)\n",
    "    Space Complexity: O(1)\n",
    "    '''\n",
    "    \n",
    "    if (data == 1) or (data == 0):\n",
    "        return data\n",
    "        \n",
    "    i = 1\n",
    "    square = 1\n",
    "        \n",
    "    while (square <= data):\n",
    "        i += 1\n",
    "        square = i*i\n",
    "        \n",
    "    data = i-1\n",
    "    \n",
    "    return data"
   ]
  },
  {
   "cell_type": "code",
   "execution_count": 2,
   "id": "dc2e99f8",
   "metadata": {},
   "outputs": [
    {
     "data": {
      "text/plain": [
       "2"
      ]
     },
     "execution_count": 2,
     "metadata": {},
     "output_type": "execute_result"
    }
   ],
   "source": [
    "int_sqr(4)"
   ]
  },
  {
   "cell_type": "code",
   "execution_count": 3,
   "id": "a3fa73e6",
   "metadata": {},
   "outputs": [
    {
     "data": {
      "text/plain": [
       "3"
      ]
     },
     "execution_count": 3,
     "metadata": {},
     "output_type": "execute_result"
    }
   ],
   "source": [
    "int_sqr(11)"
   ]
  },
  {
   "cell_type": "markdown",
   "id": "af8c1a4d",
   "metadata": {},
   "source": [
    "#### Better Approach #1"
   ]
  },
  {
   "cell_type": "code",
   "execution_count": 4,
   "id": "9cfc13c6",
   "metadata": {},
   "outputs": [],
   "source": [
    "def int_sqr(data):\n",
    "    '''\n",
    "    Time Complexity: O(log n)\n",
    "    Space Complexity: O(1)\n",
    "    '''\n",
    "    \n",
    "    if (data == 1) or (data == 0):\n",
    "        return data\n",
    "        \n",
    "    start = 1\n",
    "    end = data\n",
    "    square = 1\n",
    "    \n",
    "    while (start <= end):\n",
    "        \n",
    "        middle = (start + end) // 2\n",
    "\n",
    "        if (middle * middle == data):\n",
    "            return middle\n",
    "        \n",
    "        if (middle * middle < data):\n",
    "            start = middle + 1\n",
    "            square = middle\n",
    "        else:\n",
    "            end = middle - 1\n",
    "        \n",
    "    data = square\n",
    "    \n",
    "    return data"
   ]
  },
  {
   "cell_type": "code",
   "execution_count": 5,
   "id": "b6ccf8cd",
   "metadata": {},
   "outputs": [
    {
     "data": {
      "text/plain": [
       "2"
      ]
     },
     "execution_count": 5,
     "metadata": {},
     "output_type": "execute_result"
    }
   ],
   "source": [
    "int_sqr(4)"
   ]
  },
  {
   "cell_type": "code",
   "execution_count": 6,
   "id": "3d0479d6",
   "metadata": {},
   "outputs": [
    {
     "data": {
      "text/plain": [
       "3"
      ]
     },
     "execution_count": 6,
     "metadata": {},
     "output_type": "execute_result"
    }
   ],
   "source": [
    "int_sqr(11)"
   ]
  },
  {
   "cell_type": "markdown",
   "id": "beb374b3",
   "metadata": {},
   "source": [
    "#### Better Approach #2"
   ]
  },
  {
   "cell_type": "code",
   "execution_count": 7,
   "id": "bba253c9",
   "metadata": {},
   "outputs": [],
   "source": [
    "def int_sqr(data):\n",
    "    '''\n",
    "    Time Complexity: O(log n)\n",
    "    Space Complexity: O(1)\n",
    "    '''\n",
    "    int_result = abs(data) ** (1/2)\n",
    "    int_result = int(int_result)\n",
    "    \n",
    "    data = int_result\n",
    "    \n",
    "    return data"
   ]
  },
  {
   "cell_type": "code",
   "execution_count": 8,
   "id": "53e2a984",
   "metadata": {},
   "outputs": [
    {
     "data": {
      "text/plain": [
       "2"
      ]
     },
     "execution_count": 8,
     "metadata": {},
     "output_type": "execute_result"
    }
   ],
   "source": [
    "int_sqr(4)"
   ]
  },
  {
   "cell_type": "code",
   "execution_count": 9,
   "id": "0b931357",
   "metadata": {
    "scrolled": true
   },
   "outputs": [
    {
     "data": {
      "text/plain": [
       "3"
      ]
     },
     "execution_count": 9,
     "metadata": {},
     "output_type": "execute_result"
    }
   ],
   "source": [
    "int_sqr(11)"
   ]
  },
  {
   "cell_type": "markdown",
   "id": "5b20b562",
   "metadata": {},
   "source": [
    "---"
   ]
  }
 ],
 "metadata": {
  "kernelspec": {
   "display_name": "Python 3",
   "language": "python",
   "name": "python3"
  },
  "language_info": {
   "codemirror_mode": {
    "name": "ipython",
    "version": 3
   },
   "file_extension": ".py",
   "mimetype": "text/x-python",
   "name": "python",
   "nbconvert_exporter": "python",
   "pygments_lexer": "ipython3",
   "version": "3.8.8"
  }
 },
 "nbformat": 4,
 "nbformat_minor": 5
}
