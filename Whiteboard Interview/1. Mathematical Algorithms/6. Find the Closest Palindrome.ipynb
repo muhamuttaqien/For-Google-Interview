{
 "cells": [
  {
   "cell_type": "markdown",
   "id": "a5bbdd18",
   "metadata": {},
   "source": [
    "## 6. Find the Closest Palindrome"
   ]
  },
  {
   "cell_type": "markdown",
   "id": "42203371",
   "metadata": {},
   "source": [
    "Level Hard. Given an integer num, write a program to find the closest palindrome to integer num. (excluding num). The output need not be larger than num. It can be smaller or larger than num."
   ]
  },
  {
   "cell_type": "markdown",
   "id": "4c3a4474",
   "metadata": {},
   "source": [
    "#### Naive Approach"
   ]
  },
  {
   "cell_type": "code",
   "execution_count": 1,
   "id": "67ea1e71",
   "metadata": {},
   "outputs": [],
   "source": [
    "def reverse(list_data):\n",
    "    \n",
    "    length = len(list_data)\n",
    "    new_data = [None] * length\n",
    "\n",
    "    for i, item in enumerate(list_data):\n",
    "        index = len(list_data) - (i+1)\n",
    "        new_data[index] = item\n",
    "        \n",
    "    return new_data\n",
    "\n",
    "def is_palindrome(data):\n",
    "    \n",
    "    data = str(data)\n",
    "    list_data = list(data)\n",
    "    list_data = reverse(list_data)\n",
    "    reversed_data = \"\".join(list_data)\n",
    "    \n",
    "    if reversed_data == data:\n",
    "        return True\n",
    "    else:\n",
    "        return False"
   ]
  },
  {
   "cell_type": "code",
   "execution_count": 2,
   "id": "e8291061",
   "metadata": {},
   "outputs": [],
   "source": [
    "def get_nearest_palindrome(data):\n",
    "    '''\n",
    "    Time Complexity: O(n log n)\n",
    "    Space Complexity: O(1)\n",
    "    '''\n",
    "    \n",
    "    data = int(data)\n",
    "    middle = data//2\n",
    "    \n",
    "    for i in range(1, middle):\n",
    "        \n",
    "        if is_palindrome(data-i):\n",
    "            return data-i\n",
    "        \n",
    "        if is_palindrome(data+i):\n",
    "            return data+i"
   ]
  },
  {
   "cell_type": "code",
   "execution_count": 3,
   "id": "a3ed8c43",
   "metadata": {},
   "outputs": [
    {
     "data": {
      "text/plain": [
       "4"
      ]
     },
     "execution_count": 3,
     "metadata": {},
     "output_type": "execute_result"
    }
   ],
   "source": [
    "get_nearest_palindrome(\"5\")"
   ]
  },
  {
   "cell_type": "code",
   "execution_count": 4,
   "id": "4cb8a59c",
   "metadata": {},
   "outputs": [
    {
     "data": {
      "text/plain": [
       "9"
      ]
     },
     "execution_count": 4,
     "metadata": {},
     "output_type": "execute_result"
    }
   ],
   "source": [
    "get_nearest_palindrome(\"10\")"
   ]
  },
  {
   "cell_type": "code",
   "execution_count": 5,
   "id": "1be39c97",
   "metadata": {},
   "outputs": [
    {
     "data": {
      "text/plain": [
       "88"
      ]
     },
     "execution_count": 5,
     "metadata": {},
     "output_type": "execute_result"
    }
   ],
   "source": [
    "get_nearest_palindrome(\"87\")"
   ]
  },
  {
   "cell_type": "code",
   "execution_count": 6,
   "id": "9547d27b",
   "metadata": {},
   "outputs": [
    {
     "data": {
      "text/plain": [
       "101"
      ]
     },
     "execution_count": 6,
     "metadata": {},
     "output_type": "execute_result"
    }
   ],
   "source": [
    "get_nearest_palindrome(\"99\")"
   ]
  },
  {
   "cell_type": "code",
   "execution_count": 7,
   "id": "16872da2",
   "metadata": {},
   "outputs": [
    {
     "data": {
      "text/plain": [
       "181"
      ]
     },
     "execution_count": 7,
     "metadata": {},
     "output_type": "execute_result"
    }
   ],
   "source": [
    "get_nearest_palindrome(\"191\")"
   ]
  },
  {
   "cell_type": "code",
   "execution_count": 8,
   "id": "e58306ad",
   "metadata": {},
   "outputs": [
    {
     "data": {
      "text/plain": [
       "191"
      ]
     },
     "execution_count": 8,
     "metadata": {},
     "output_type": "execute_result"
    }
   ],
   "source": [
    "get_nearest_palindrome(\"190\")"
   ]
  },
  {
   "cell_type": "markdown",
   "id": "4609fcbf",
   "metadata": {},
   "source": [
    "#### Better Approach"
   ]
  },
  {
   "cell_type": "code",
   "execution_count": 9,
   "id": "a9f0e9e3",
   "metadata": {},
   "outputs": [],
   "source": [
    "def get_nearest_palindrome(data):        \n",
    "    '''\n",
    "    Time Complexity: O(sqr n)\n",
    "    Space Complexity: O(1)\n",
    "    '''\n",
    "\n",
    "    data = int(data)\n",
    "    lower = data - 1\n",
    "\n",
    "    while(is_palindrome(lower) is not True):\n",
    "        lower -= 1\n",
    "\n",
    "    upper = data + 1\n",
    "\n",
    "    while (is_palindrome(upper) is not True):\n",
    "        upper += 1\n",
    "\n",
    "    if (data - lower <= upper - data):\n",
    "        return lower\n",
    "    else:\n",
    "        return upper"
   ]
  },
  {
   "cell_type": "code",
   "execution_count": 10,
   "id": "429a1bc2",
   "metadata": {},
   "outputs": [
    {
     "data": {
      "text/plain": [
       "4"
      ]
     },
     "execution_count": 10,
     "metadata": {},
     "output_type": "execute_result"
    }
   ],
   "source": [
    "get_nearest_palindrome(\"5\")"
   ]
  },
  {
   "cell_type": "code",
   "execution_count": 11,
   "id": "a58d7d0b",
   "metadata": {},
   "outputs": [
    {
     "data": {
      "text/plain": [
       "9"
      ]
     },
     "execution_count": 11,
     "metadata": {},
     "output_type": "execute_result"
    }
   ],
   "source": [
    "get_nearest_palindrome(\"10\")"
   ]
  },
  {
   "cell_type": "code",
   "execution_count": 12,
   "id": "24fcd2ae",
   "metadata": {},
   "outputs": [
    {
     "data": {
      "text/plain": [
       "88"
      ]
     },
     "execution_count": 12,
     "metadata": {},
     "output_type": "execute_result"
    }
   ],
   "source": [
    "get_nearest_palindrome(\"87\")"
   ]
  },
  {
   "cell_type": "code",
   "execution_count": 13,
   "id": "209f3294",
   "metadata": {},
   "outputs": [
    {
     "data": {
      "text/plain": [
       "101"
      ]
     },
     "execution_count": 13,
     "metadata": {},
     "output_type": "execute_result"
    }
   ],
   "source": [
    "get_nearest_palindrome(\"99\")"
   ]
  },
  {
   "cell_type": "code",
   "execution_count": 14,
   "id": "fb1d0a1c",
   "metadata": {},
   "outputs": [
    {
     "data": {
      "text/plain": [
       "181"
      ]
     },
     "execution_count": 14,
     "metadata": {},
     "output_type": "execute_result"
    }
   ],
   "source": [
    "get_nearest_palindrome(\"191\")"
   ]
  },
  {
   "cell_type": "code",
   "execution_count": 15,
   "id": "9f918d48",
   "metadata": {},
   "outputs": [
    {
     "data": {
      "text/plain": [
       "191"
      ]
     },
     "execution_count": 15,
     "metadata": {},
     "output_type": "execute_result"
    }
   ],
   "source": [
    "get_nearest_palindrome(\"190\")"
   ]
  },
  {
   "cell_type": "markdown",
   "id": "aff88c56",
   "metadata": {},
   "source": [
    "---"
   ]
  }
 ],
 "metadata": {
  "kernelspec": {
   "display_name": "Python 3",
   "language": "python",
   "name": "python3"
  },
  "language_info": {
   "codemirror_mode": {
    "name": "ipython",
    "version": 3
   },
   "file_extension": ".py",
   "mimetype": "text/x-python",
   "name": "python",
   "nbconvert_exporter": "python",
   "pygments_lexer": "ipython3",
   "version": "3.8.8"
  }
 },
 "nbformat": 4,
 "nbformat_minor": 5
}
