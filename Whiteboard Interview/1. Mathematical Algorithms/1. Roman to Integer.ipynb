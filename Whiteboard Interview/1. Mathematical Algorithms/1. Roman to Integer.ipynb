{
 "cells": [
  {
   "cell_type": "markdown",
   "id": "d04d3f02",
   "metadata": {},
   "source": [
    "## 1. Roman to Integer"
   ]
  },
  {
   "cell_type": "code",
   "execution_count": null,
   "id": "69fde28f",
   "metadata": {},
   "outputs": [],
   "source": []
  },
  {
   "cell_type": "markdown",
   "id": "50b745e0",
   "metadata": {},
   "source": [
    "#### Naive Approach"
   ]
  },
  {
   "cell_type": "code",
   "execution_count": null,
   "id": "ff290875",
   "metadata": {},
   "outputs": [],
   "source": []
  },
  {
   "cell_type": "markdown",
   "id": "566511a1",
   "metadata": {},
   "source": [
    "#### Better Approach"
   ]
  },
  {
   "cell_type": "code",
   "execution_count": null,
   "id": "13a01967",
   "metadata": {},
   "outputs": [],
   "source": []
  },
  {
   "cell_type": "markdown",
   "id": "5ac87a61",
   "metadata": {},
   "source": [
    "---"
   ]
  }
 ],
 "metadata": {
  "kernelspec": {
   "display_name": "Python 3",
   "language": "python",
   "name": "python3"
  },
  "language_info": {
   "codemirror_mode": {
    "name": "ipython",
    "version": 3
   },
   "file_extension": ".py",
   "mimetype": "text/x-python",
   "name": "python",
   "nbconvert_exporter": "python",
   "pygments_lexer": "ipython3",
   "version": "3.8.8"
  }
 },
 "nbformat": 4,
 "nbformat_minor": 5
}
