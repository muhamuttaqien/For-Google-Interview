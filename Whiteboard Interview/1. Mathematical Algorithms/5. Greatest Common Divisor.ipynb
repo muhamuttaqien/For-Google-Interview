{
 "cells": [
  {
   "cell_type": "markdown",
   "id": "a5bbdd18",
   "metadata": {},
   "source": [
    "## 5. Greatest Common Divisor"
   ]
  },
  {
   "cell_type": "markdown",
   "id": "179aed50",
   "metadata": {},
   "source": [
    "Level Medium. Given two non-negative integers num1 and num2, write a program to find the greatest common divisor (GCD) of both the numbers."
   ]
  },
  {
   "cell_type": "markdown",
   "id": "4c3a4474",
   "metadata": {},
   "source": [
    "#### Naive Approach #1"
   ]
  },
  {
   "cell_type": "code",
   "execution_count": 1,
   "id": "e8291061",
   "metadata": {},
   "outputs": [],
   "source": [
    "def find_GCD(num1, num2):\n",
    "    '''\n",
    "    Time Complexity: O(n log n)\n",
    "    Space Complexity: O(n)\n",
    "    '''\n",
    "    \n",
    "    collector_set = dict()\n",
    "\n",
    "    for i, num in enumerate([num1, num2]):\n",
    "        \n",
    "        index = 0\n",
    "        left_pair = 1\n",
    "        collector = []\n",
    "\n",
    "        while (left_pair < num/left_pair):\n",
    "\n",
    "            if (num % left_pair == 0):\n",
    "\n",
    "                right_pair = num / left_pair\n",
    "                collector.insert(index, int(left_pair))\n",
    "                collector.insert(index+1, int(right_pair))\n",
    "\n",
    "                index += 1\n",
    "\n",
    "            left_pair += 1\n",
    "            \n",
    "        collector_set[i+1] = set(collector)\n",
    "        \n",
    "    collector = collector_set[1].intersection(collector_set[2])\n",
    "    result = max(collector)\n",
    "    \n",
    "    return result"
   ]
  },
  {
   "cell_type": "code",
   "execution_count": 2,
   "id": "070ba75f",
   "metadata": {},
   "outputs": [
    {
     "data": {
      "text/plain": [
       "5"
      ]
     },
     "execution_count": 2,
     "metadata": {},
     "output_type": "execute_result"
    }
   ],
   "source": [
    "find_GCD(10, 15)"
   ]
  },
  {
   "cell_type": "code",
   "execution_count": 3,
   "id": "1b644f3f",
   "metadata": {},
   "outputs": [
    {
     "data": {
      "text/plain": [
       "6"
      ]
     },
     "execution_count": 3,
     "metadata": {},
     "output_type": "execute_result"
    }
   ],
   "source": [
    "find_GCD(54, 24)"
   ]
  },
  {
   "cell_type": "code",
   "execution_count": 4,
   "id": "4630ebbe",
   "metadata": {},
   "outputs": [
    {
     "data": {
      "text/plain": [
       "12"
      ]
     },
     "execution_count": 4,
     "metadata": {},
     "output_type": "execute_result"
    }
   ],
   "source": [
    "find_GCD(36, 48)"
   ]
  },
  {
   "cell_type": "markdown",
   "id": "ddabc433",
   "metadata": {},
   "source": [
    "#### Naive Approach #2"
   ]
  },
  {
   "cell_type": "code",
   "execution_count": 5,
   "id": "fb33da74",
   "metadata": {},
   "outputs": [],
   "source": [
    "def find_GCD(num1, num2):\n",
    "    '''\n",
    "    Time Complexity: O(n)\n",
    "    Space Complexity: O(1)\n",
    "    '''\n",
    "    \n",
    "    result = 1\n",
    "    \n",
    "    for i in range(2, min(num1, num2)+1):\n",
    "        \n",
    "        if (num1 % i == 0) and (num2 % i == 0):\n",
    "            result = i\n",
    "            \n",
    "    return result"
   ]
  },
  {
   "cell_type": "code",
   "execution_count": 6,
   "id": "0a4859ba",
   "metadata": {},
   "outputs": [
    {
     "data": {
      "text/plain": [
       "5"
      ]
     },
     "execution_count": 6,
     "metadata": {},
     "output_type": "execute_result"
    }
   ],
   "source": [
    "find_GCD(10, 15)"
   ]
  },
  {
   "cell_type": "code",
   "execution_count": 7,
   "id": "587bd980",
   "metadata": {},
   "outputs": [
    {
     "data": {
      "text/plain": [
       "6"
      ]
     },
     "execution_count": 7,
     "metadata": {},
     "output_type": "execute_result"
    }
   ],
   "source": [
    "find_GCD(54, 24)"
   ]
  },
  {
   "cell_type": "code",
   "execution_count": 8,
   "id": "62c62b5c",
   "metadata": {},
   "outputs": [
    {
     "data": {
      "text/plain": [
       "12"
      ]
     },
     "execution_count": 8,
     "metadata": {},
     "output_type": "execute_result"
    }
   ],
   "source": [
    "find_GCD(36, 48)"
   ]
  },
  {
   "cell_type": "markdown",
   "id": "4609fcbf",
   "metadata": {},
   "source": [
    "#### Better Approach #1"
   ]
  },
  {
   "cell_type": "code",
   "execution_count": 9,
   "id": "a9f0e9e3",
   "metadata": {},
   "outputs": [],
   "source": [
    "def find_GCD(num1, num2):\n",
    "    '''\n",
    "    Time Complexity: O(max(num1, num2))\n",
    "    Space Complexity: O(1)\n",
    "    '''\n",
    "    \n",
    "    while (num1 != num2):\n",
    "        \n",
    "        if (num1 > num2):\n",
    "            num1 = num1 - num2\n",
    "        else:\n",
    "            num2 = num2 - num1\n",
    "            \n",
    "    return num1"
   ]
  },
  {
   "cell_type": "code",
   "execution_count": 10,
   "id": "210e0682",
   "metadata": {
    "scrolled": true
   },
   "outputs": [
    {
     "data": {
      "text/plain": [
       "5"
      ]
     },
     "execution_count": 10,
     "metadata": {},
     "output_type": "execute_result"
    }
   ],
   "source": [
    "find_GCD(10, 15)"
   ]
  },
  {
   "cell_type": "code",
   "execution_count": 11,
   "id": "a1fd1d1b",
   "metadata": {},
   "outputs": [
    {
     "data": {
      "text/plain": [
       "6"
      ]
     },
     "execution_count": 11,
     "metadata": {},
     "output_type": "execute_result"
    }
   ],
   "source": [
    "find_GCD(54, 24)"
   ]
  },
  {
   "cell_type": "code",
   "execution_count": 12,
   "id": "a8a279d3",
   "metadata": {},
   "outputs": [
    {
     "data": {
      "text/plain": [
       "12"
      ]
     },
     "execution_count": 12,
     "metadata": {},
     "output_type": "execute_result"
    }
   ],
   "source": [
    "find_GCD(36, 48)"
   ]
  },
  {
   "cell_type": "markdown",
   "id": "467952ec",
   "metadata": {},
   "source": [
    "#### Better Approach #2"
   ]
  },
  {
   "cell_type": "code",
   "execution_count": 13,
   "id": "9df80f28",
   "metadata": {},
   "outputs": [],
   "source": [
    "def find_GCD(num1, num2):\n",
    "    '''\n",
    "    Time Complexity: O(log(num1, num2))\n",
    "    Space Complexity: O(log(num1, num2))\n",
    "    '''\n",
    "    \n",
    "    if num2 == 0:\n",
    "        return num1\n",
    "    \n",
    "    return find_GCD(num2, num1 % num2)"
   ]
  },
  {
   "cell_type": "code",
   "execution_count": 14,
   "id": "b295c5bb",
   "metadata": {
    "scrolled": true
   },
   "outputs": [
    {
     "data": {
      "text/plain": [
       "5"
      ]
     },
     "execution_count": 14,
     "metadata": {},
     "output_type": "execute_result"
    }
   ],
   "source": [
    "find_GCD(10, 15)"
   ]
  },
  {
   "cell_type": "code",
   "execution_count": 15,
   "id": "68a13ae7",
   "metadata": {},
   "outputs": [
    {
     "data": {
      "text/plain": [
       "6"
      ]
     },
     "execution_count": 15,
     "metadata": {},
     "output_type": "execute_result"
    }
   ],
   "source": [
    "find_GCD(54, 24)"
   ]
  },
  {
   "cell_type": "code",
   "execution_count": 16,
   "id": "2f9cfc94",
   "metadata": {},
   "outputs": [
    {
     "data": {
      "text/plain": [
       "12"
      ]
     },
     "execution_count": 16,
     "metadata": {},
     "output_type": "execute_result"
    }
   ],
   "source": [
    "find_GCD(36, 48)z"
   ]
  },
  {
   "cell_type": "markdown",
   "id": "aff88c56",
   "metadata": {},
   "source": [
    "---"
   ]
  }
 ],
 "metadata": {
  "kernelspec": {
   "display_name": "Python 3",
   "language": "python",
   "name": "python3"
  },
  "language_info": {
   "codemirror_mode": {
    "name": "ipython",
    "version": 3
   },
   "file_extension": ".py",
   "mimetype": "text/x-python",
   "name": "python",
   "nbconvert_exporter": "python",
   "pygments_lexer": "ipython3",
   "version": "3.8.8"
  }
 },
 "nbformat": 4,
 "nbformat_minor": 5
}
