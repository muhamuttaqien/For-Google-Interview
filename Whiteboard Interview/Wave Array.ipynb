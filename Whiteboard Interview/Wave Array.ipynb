{
 "cells": [
  {
   "cell_type": "markdown",
   "id": "d7ab515b",
   "metadata": {},
   "source": [
    "## Wave Array"
   ]
  },
  {
   "cell_type": "markdown",
   "id": "1cb32b64",
   "metadata": {},
   "source": [
    "Asked in Google (Level Easy). You are given an unsorted array of integers (arr) of length n, write a program to sort it in wave form."
   ]
  },
  {
   "cell_type": "markdown",
   "id": "d13ca3df",
   "metadata": {},
   "source": [
    "#### Naive Approach"
   ]
  },
  {
   "cell_type": "code",
   "execution_count": 1,
   "id": "1d76935c",
   "metadata": {},
   "outputs": [],
   "source": [
    "def wave_form(data):\n",
    "    '''\n",
    "    Time Complexity: O(n log n)\n",
    "    Space Complexity: O(1)\n",
    "    '''\n",
    "    \n",
    "    data.sort()\n",
    "    \n",
    "    i = 0\n",
    "    \n",
    "    while i < len(data)-1:\n",
    "        \n",
    "        if data[i] <= data[i+1]:\n",
    "            \n",
    "            temp = data[i+1]\n",
    "            data[i+1] =  data[i]\n",
    "            data[i] = temp\n",
    "            \n",
    "        i = i + 2\n",
    "        \n",
    "    return data"
   ]
  },
  {
   "cell_type": "code",
   "execution_count": 2,
   "id": "7ecc0c40",
   "metadata": {},
   "outputs": [
    {
     "data": {
      "text/plain": [
       "[2, 1, 2, 2, 5, 3, 10, 9, 21, 13]"
      ]
     },
     "execution_count": 2,
     "metadata": {},
     "output_type": "execute_result"
    }
   ],
   "source": [
    "data = wave_form([5, 2, 9, 3, 2, 10, 1, 13, 21, 2])\n",
    "data"
   ]
  },
  {
   "cell_type": "markdown",
   "id": "65fd9958",
   "metadata": {},
   "source": [
    "#### Better Approach"
   ]
  },
  {
   "cell_type": "code",
   "execution_count": 3,
   "id": "6f17a18b",
   "metadata": {},
   "outputs": [],
   "source": [
    "def wave_form(data):\n",
    "    '''\n",
    "    Time Complexity: O(n)\n",
    "    Space Complexity: O(1)\n",
    "    '''\n",
    "    \n",
    "    i = 0\n",
    "    \n",
    "    while i < len(data):\n",
    "        \n",
    "        if (i > 0 and data[i-1] > data[i]):\n",
    "            temp = data[i]\n",
    "            data[i] = data[i-1]\n",
    "            data[i-1] = temp\n",
    "        \n",
    "        if (i < len(data) and data[i] < data[i+1]):\n",
    "            temp = data[i+1]\n",
    "            data[i+1] = data[i]\n",
    "            data[i] = temp\n",
    "            \n",
    "        i = i + 2\n",
    "    \n",
    "    return data"
   ]
  },
  {
   "cell_type": "code",
   "execution_count": 4,
   "id": "1a6ff15a",
   "metadata": {},
   "outputs": [
    {
     "data": {
      "text/plain": [
       "[5, 2, 9, 2, 10, 1, 13, 3, 21, 2]"
      ]
     },
     "execution_count": 4,
     "metadata": {},
     "output_type": "execute_result"
    }
   ],
   "source": [
    "data = wave_form([5, 2, 9, 3, 2, 10, 1, 13, 21, 2])\n",
    "data"
   ]
  },
  {
   "cell_type": "markdown",
   "id": "0b61ef57",
   "metadata": {},
   "source": [
    "---"
   ]
  }
 ],
 "metadata": {
  "kernelspec": {
   "display_name": "Python 3",
   "language": "python",
   "name": "python3"
  },
  "language_info": {
   "codemirror_mode": {
    "name": "ipython",
    "version": 3
   },
   "file_extension": ".py",
   "mimetype": "text/x-python",
   "name": "python",
   "nbconvert_exporter": "python",
   "pygments_lexer": "ipython3",
   "version": "3.8.8"
  }
 },
 "nbformat": 4,
 "nbformat_minor": 5
}
