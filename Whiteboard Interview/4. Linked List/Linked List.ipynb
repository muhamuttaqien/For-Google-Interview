{
 "cells": [
  {
   "cell_type": "code",
   "execution_count": 1,
   "id": "52964d34",
   "metadata": {},
   "outputs": [],
   "source": [
    "class Node:\n",
    "    \n",
    "    def __init__(self, data=None, next=None):\n",
    "        \n",
    "        self.data = data\n",
    "        self.next = next"
   ]
  },
  {
   "cell_type": "code",
   "execution_count": 2,
   "id": "22b8ddf5",
   "metadata": {},
   "outputs": [],
   "source": [
    "class LinkedList:\n",
    "    \n",
    "    def __init__(self):\n",
    "        self.head = None\n",
    "        \n",
    "    def insert(self, data):\n",
    "        \n",
    "        new_node = Node(data)\n",
    "        \n",
    "        if (self.head):\n",
    "            current = self.head\n",
    "            \n",
    "            while (current.next):\n",
    "                current = self.head\n",
    "                \n",
    "                while(current.next):\n",
    "                    current = current.next\n",
    "                    \n",
    "                current.next = new_node\n",
    "            \n",
    "        else:\n",
    "            self.head = new_node\n",
    "            \n",
    "    def info(self):\n",
    "        \n",
    "        current = self.head\n",
    "        while (current):\n",
    "            \n",
    "            print(current.data)\n",
    "            current = current.next"
   ]
  },
  {
   "cell_type": "code",
   "execution_count": 3,
   "id": "fa0f9cb5",
   "metadata": {},
   "outputs": [],
   "source": [
    "my_list = LinkedList()\n",
    "my_list.insert(1)\n",
    "my_list.insert(2)\n",
    "my_list.insert(3)"
   ]
  },
  {
   "cell_type": "code",
   "execution_count": 4,
   "id": "fbf40dbc",
   "metadata": {},
   "outputs": [
    {
     "name": "stdout",
     "output_type": "stream",
     "text": [
      "1\n"
     ]
    }
   ],
   "source": [
    "my_list.info()"
   ]
  },
  {
   "cell_type": "markdown",
   "id": "75adcbda",
   "metadata": {},
   "source": [
    "---"
   ]
  }
 ],
 "metadata": {
  "kernelspec": {
   "display_name": "Python 3",
   "language": "python",
   "name": "python3"
  },
  "language_info": {
   "codemirror_mode": {
    "name": "ipython",
    "version": 3
   },
   "file_extension": ".py",
   "mimetype": "text/x-python",
   "name": "python",
   "nbconvert_exporter": "python",
   "pygments_lexer": "ipython3",
   "version": "3.8.8"
  }
 },
 "nbformat": 4,
 "nbformat_minor": 5
}
