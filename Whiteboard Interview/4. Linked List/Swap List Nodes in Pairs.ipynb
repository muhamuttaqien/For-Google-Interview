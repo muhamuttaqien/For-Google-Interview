{
 "cells": [
  {
   "cell_type": "markdown",
   "id": "4fc97322",
   "metadata": {},
   "source": [
    "## Swap List Nodes in Pairs"
   ]
  },
  {
   "cell_type": "code",
   "execution_count": 1,
   "id": "16024689",
   "metadata": {},
   "outputs": [],
   "source": [
    "class Node:\n",
    "    \n",
    "    def __init__(self, data=None, next=None):\n",
    "        \n",
    "        self.data = data\n",
    "        self.next = next"
   ]
  },
  {
   "cell_type": "code",
   "execution_count": 2,
   "id": "bb63f5df",
   "metadata": {},
   "outputs": [],
   "source": [
    "class LinkedList:\n",
    "    '''\n",
    "    Time Complexity: O(n)\n",
    "    Space Complexity: O(1)\n",
    "    '''\n",
    "    \n",
    "    def __init__(self):\n",
    "        self.head = None\n",
    "        \n",
    "    def swap_in_pairs(self):\n",
    "        \n",
    "        current = self.head\n",
    "        \n",
    "        # there are no nodes in linked list\n",
    "        if current is None:\n",
    "            return\n",
    "        \n",
    "        # traverse further only if there are at least two left\n",
    "        while (current and current.next):\n",
    "            \n",
    "            # if both nodes are same no need to swap data\n",
    "            if (current.data != current.next.data):\n",
    "                \n",
    "                # swap data of node with its enxt node's data\n",
    "                current.data, current.next.data = current.next.data, current.data\n",
    "                \n",
    "            # move temp by 2 to the next pair\n",
    "            current = current.next.next\n",
    "            \n",
    "    # function to insert a new node at the beginning\n",
    "    def push(self, data):\n",
    "        \n",
    "        new_node = Node(data)\n",
    "        new_node.next = self.head\n",
    "        self.head = new_node\n",
    "        \n",
    "    # utility function to print the linked list\n",
    "    def info(self):\n",
    "        \n",
    "        current = self.head\n",
    "        while (current):\n",
    "            \n",
    "            print(current.data)\n",
    "            current = current.next"
   ]
  },
  {
   "cell_type": "code",
   "execution_count": 3,
   "id": "5be103d9",
   "metadata": {},
   "outputs": [],
   "source": [
    "my_list = LinkedList()\n",
    "my_list.push(5)\n",
    "my_list.push(4)\n",
    "my_list.push(3)\n",
    "my_list.push(2)\n",
    "my_list.push(1)"
   ]
  },
  {
   "cell_type": "code",
   "execution_count": 4,
   "id": "54cb18d4",
   "metadata": {},
   "outputs": [
    {
     "name": "stdout",
     "output_type": "stream",
     "text": [
      "1\n",
      "2\n",
      "3\n",
      "4\n",
      "5\n"
     ]
    }
   ],
   "source": [
    "my_list.info()"
   ]
  },
  {
   "cell_type": "code",
   "execution_count": 5,
   "id": "0600f8b5",
   "metadata": {},
   "outputs": [],
   "source": [
    "my_list.swap_in_pairs()"
   ]
  },
  {
   "cell_type": "code",
   "execution_count": 6,
   "id": "a60b052d",
   "metadata": {},
   "outputs": [
    {
     "name": "stdout",
     "output_type": "stream",
     "text": [
      "2\n",
      "1\n",
      "4\n",
      "3\n",
      "5\n"
     ]
    }
   ],
   "source": [
    "my_list.info()"
   ]
  },
  {
   "cell_type": "markdown",
   "id": "f4c5d047",
   "metadata": {},
   "source": [
    "---"
   ]
  }
 ],
 "metadata": {
  "kernelspec": {
   "display_name": "Python 3",
   "language": "python",
   "name": "python3"
  },
  "language_info": {
   "codemirror_mode": {
    "name": "ipython",
    "version": 3
   },
   "file_extension": ".py",
   "mimetype": "text/x-python",
   "name": "python",
   "nbconvert_exporter": "python",
   "pygments_lexer": "ipython3",
   "version": "3.8.8"
  }
 },
 "nbformat": 4,
 "nbformat_minor": 5
}
