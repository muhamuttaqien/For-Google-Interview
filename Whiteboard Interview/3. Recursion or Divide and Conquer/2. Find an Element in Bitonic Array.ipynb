{
 "cells": [
  {
   "cell_type": "markdown",
   "id": "0b246f7e",
   "metadata": {},
   "source": [
    "## Find an Element in Bitonic Array"
   ]
  },
  {
   "cell_type": "markdown",
   "id": "24346f41",
   "metadata": {},
   "source": [
    "Level Easy. Given a bitonic sequence arr[] of n distinct elements, write a program to search a given element k in the bitonic sequence."
   ]
  },
  {
   "cell_type": "markdown",
   "id": "dadecab2",
   "metadata": {},
   "source": [
    "#### Naive Approach"
   ]
  },
  {
   "cell_type": "code",
   "execution_count": 1,
   "id": "1658ebca",
   "metadata": {},
   "outputs": [],
   "source": [
    "def find_bitonic(data, value):\n",
    "    '''\n",
    "    Time Complexity: O(n)\n",
    "    Space Complexity: O(1)\n",
    "    '''\n",
    "    \n",
    "    len_data = len(data)\n",
    "    \n",
    "    for i in range(len_data):\n",
    "        \n",
    "        if (data[i] == value):\n",
    "            return i\n",
    "        \n",
    "    return -1"
   ]
  },
  {
   "cell_type": "code",
   "execution_count": 2,
   "id": "663baf56",
   "metadata": {},
   "outputs": [
    {
     "data": {
      "text/plain": [
       "2"
      ]
     },
     "execution_count": 2,
     "metadata": {},
     "output_type": "execute_result"
    }
   ],
   "source": [
    "data = [-2, 5, 10, 20, 15, 4, 1]\n",
    "find_bitonic(data, 10)"
   ]
  },
  {
   "cell_type": "code",
   "execution_count": 3,
   "id": "ee1f1ba1",
   "metadata": {},
   "outputs": [
    {
     "data": {
      "text/plain": [
       "6"
      ]
     },
     "execution_count": 3,
     "metadata": {},
     "output_type": "execute_result"
    }
   ],
   "source": [
    "data = [-2, 5, 10, 20, 15, 4, 1]\n",
    "find_bitonic(data, 1)"
   ]
  },
  {
   "cell_type": "code",
   "execution_count": 4,
   "id": "59d2fc0a",
   "metadata": {},
   "outputs": [
    {
     "data": {
      "text/plain": [
       "-1"
      ]
     },
     "execution_count": 4,
     "metadata": {},
     "output_type": "execute_result"
    }
   ],
   "source": [
    "data = [-2, 5, 10, 20, 15, 4, 1]\n",
    "find_bitonic(data, 14)"
   ]
  },
  {
   "cell_type": "markdown",
   "id": "5a49007e",
   "metadata": {},
   "source": [
    "#### Better Approach"
   ]
  },
  {
   "cell_type": "code",
   "execution_count": 5,
   "id": "ba7c500d",
   "metadata": {},
   "outputs": [],
   "source": [
    "def find_peak_element_iteration(data, low, high):\n",
    "    '''\n",
    "    Space Complexity: O(1)\n",
    "    '''\n",
    "    \n",
    "    while (low < high):\n",
    "        \n",
    "        middle = (low + high) // 2\n",
    "        if (data[middle] > data[middle+1]):\n",
    "            high = middle\n",
    "        else:\n",
    "            low = middle + 1\n",
    "            \n",
    "    return low"
   ]
  },
  {
   "cell_type": "code",
   "execution_count": 6,
   "id": "220d8891",
   "metadata": {},
   "outputs": [],
   "source": [
    "def find_peak_element_recursion(data, low, high):\n",
    "    '''\n",
    "    Space Complexity: O(log n)\n",
    "    '''\n",
    "    \n",
    "    if (low == high):\n",
    "        return low\n",
    "    \n",
    "    middle = (low + high) // 2\n",
    "    \n",
    "    if (data[middle] > data[middle+1]):\n",
    "        return find_peak_element_recursion(data, low, middle)\n",
    "\n",
    "    return find_peak_element_recursion(data, middle+1, high)"
   ]
  },
  {
   "cell_type": "code",
   "execution_count": 7,
   "id": "36ea29c8",
   "metadata": {},
   "outputs": [],
   "source": [
    "def ascending_binary_search(data, low, high, value):\n",
    "    \n",
    "    while low <= high:\n",
    "        \n",
    "        middle = low + (high-low) // 2\n",
    "        \n",
    "        if (data[middle] == value):\n",
    "            return middle\n",
    "        \n",
    "        if (data[middle] > value):\n",
    "            high = middle - 1\n",
    "        else:\n",
    "            low = middle + 1\n",
    "            \n",
    "    return -1"
   ]
  },
  {
   "cell_type": "code",
   "execution_count": 8,
   "id": "53a354bb",
   "metadata": {},
   "outputs": [],
   "source": [
    "def descending_binary_search(data, low, high, value):\n",
    "    \n",
    "    while (low <= high):\n",
    "        \n",
    "        middle = low + (high-low) // 2\n",
    "        \n",
    "        if (data[middle] == value):\n",
    "            return middle\n",
    "        \n",
    "        if (data[middle] < value):\n",
    "            high = middle - 1\n",
    "        else:\n",
    "            low = middle + 1\n",
    "    \n",
    "    return -1"
   ]
  },
  {
   "cell_type": "code",
   "execution_count": 9,
   "id": "7b519bec",
   "metadata": {},
   "outputs": [],
   "source": [
    "def find_bitonic(data, value):\n",
    "    '''\n",
    "    Time Complexity: O(log n)\n",
    "    Space Complexity: O(log n)\n",
    "    '''\n",
    "    \n",
    "    len_data = len(data)\n",
    "    \n",
    "    peak_index = find_peak_element_iteration(data, 0, len_data-1)\n",
    "    \n",
    "    if (value > data[peak_index]):\n",
    "        return - 1\n",
    "    elif (value == data[peak_index]):\n",
    "        return peak_index\n",
    "    else:\n",
    "        temp = ascending_binary_search(data, 0, peak_index-1, value)\n",
    "        if (temp != -1):\n",
    "            return temp\n",
    "        \n",
    "        temp = descending_binary_search(data, peak_index+1, len_data-1, value)\n",
    "        if (temp != -1):\n",
    "            return temp\n",
    "        \n",
    "    return -1"
   ]
  },
  {
   "cell_type": "code",
   "execution_count": 10,
   "id": "0ebc6ef5",
   "metadata": {},
   "outputs": [
    {
     "data": {
      "text/plain": [
       "2"
      ]
     },
     "execution_count": 10,
     "metadata": {},
     "output_type": "execute_result"
    }
   ],
   "source": [
    "data = [-2, 5, 10, 20, 15, 4, 1]\n",
    "find_bitonic(data, 10)"
   ]
  },
  {
   "cell_type": "code",
   "execution_count": 11,
   "id": "153fe39d",
   "metadata": {},
   "outputs": [
    {
     "data": {
      "text/plain": [
       "6"
      ]
     },
     "execution_count": 11,
     "metadata": {},
     "output_type": "execute_result"
    }
   ],
   "source": [
    "data = [-2, 5, 10, 20, 15, 4, 1]\n",
    "find_bitonic(data, 1)"
   ]
  },
  {
   "cell_type": "code",
   "execution_count": 12,
   "id": "644fd04f",
   "metadata": {},
   "outputs": [
    {
     "data": {
      "text/plain": [
       "-1"
      ]
     },
     "execution_count": 12,
     "metadata": {},
     "output_type": "execute_result"
    }
   ],
   "source": [
    "data = [-2, 5, 10, 20, 15, 4, 1]\n",
    "find_bitonic(data, 14)"
   ]
  },
  {
   "cell_type": "markdown",
   "id": "7827b7c0",
   "metadata": {},
   "source": [
    "---"
   ]
  }
 ],
 "metadata": {
  "kernelspec": {
   "display_name": "Python 3",
   "language": "python",
   "name": "python3"
  },
  "language_info": {
   "codemirror_mode": {
    "name": "ipython",
    "version": 3
   },
   "file_extension": ".py",
   "mimetype": "text/x-python",
   "name": "python",
   "nbconvert_exporter": "python",
   "pygments_lexer": "ipython3",
   "version": "3.8.8"
  }
 },
 "nbformat": 4,
 "nbformat_minor": 5
}
