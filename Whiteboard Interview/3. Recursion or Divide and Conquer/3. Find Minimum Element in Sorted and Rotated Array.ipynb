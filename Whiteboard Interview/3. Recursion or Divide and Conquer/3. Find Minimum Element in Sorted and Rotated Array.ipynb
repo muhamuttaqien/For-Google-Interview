{
 "cells": [
  {
   "cell_type": "markdown",
   "id": "c4e1b247",
   "metadata": {},
   "source": [
    "## Find Minimum Element in Sorted and Rotated Array"
   ]
  },
  {
   "cell_type": "markdown",
   "id": "ecb748d0",
   "metadata": {},
   "source": [
    "Level Medium. You have a sorted and rotated array arr[] of size n where elements are sorted and rotated circularly. Write a program to find the minimum element in the array."
   ]
  },
  {
   "cell_type": "markdown",
   "id": "c73aa43f",
   "metadata": {},
   "source": [
    "#### Naive Approach"
   ]
  },
  {
   "cell_type": "code",
   "execution_count": 1,
   "id": "dca88ac8",
   "metadata": {},
   "outputs": [],
   "source": [
    "def find_min_element(data):\n",
    "    '''\n",
    "    Time Complexity: O(n)\n",
    "    Space Complexity: O(1)\n",
    "    '''\n",
    "    \n",
    "    min_num = None\n",
    "    \n",
    "    for i in range(len(data)):\n",
    "        \n",
    "        if min_num == None or min_num > data[i]:\n",
    "            min_num = data[i]\n",
    "        \n",
    "    return min_num"
   ]
  },
  {
   "cell_type": "code",
   "execution_count": 2,
   "id": "4a34c2f5",
   "metadata": {},
   "outputs": [
    {
     "data": {
      "text/plain": [
       "1"
      ]
     },
     "execution_count": 2,
     "metadata": {},
     "output_type": "execute_result"
    }
   ],
   "source": [
    "data = [4, 5, 6, 7, 1, 2, 3]\n",
    "find_min_element(data)"
   ]
  },
  {
   "cell_type": "code",
   "execution_count": 3,
   "id": "927933bc",
   "metadata": {},
   "outputs": [
    {
     "data": {
      "text/plain": [
       "4"
      ]
     },
     "execution_count": 3,
     "metadata": {},
     "output_type": "execute_result"
    }
   ],
   "source": [
    "data = [8, 9, 4, 5, 6, 7]\n",
    "find_min_element(data)"
   ]
  },
  {
   "cell_type": "code",
   "execution_count": 4,
   "id": "8c7c3399",
   "metadata": {},
   "outputs": [
    {
     "data": {
      "text/plain": [
       "3"
      ]
     },
     "execution_count": 4,
     "metadata": {},
     "output_type": "execute_result"
    }
   ],
   "source": [
    "data = [3, 4, 5, 6, 7]\n",
    "find_min_element(data)"
   ]
  },
  {
   "cell_type": "code",
   "execution_count": 5,
   "id": "0cee95e7",
   "metadata": {},
   "outputs": [
    {
     "data": {
      "text/plain": [
       "2"
      ]
     },
     "execution_count": 5,
     "metadata": {},
     "output_type": "execute_result"
    }
   ],
   "source": [
    "data = [3, 2]\n",
    "find_min_element(data)"
   ]
  },
  {
   "cell_type": "markdown",
   "id": "15a39f00",
   "metadata": {},
   "source": [
    "#### Better Iteration Approach"
   ]
  },
  {
   "cell_type": "code",
   "execution_count": 6,
   "id": "332cc681",
   "metadata": {},
   "outputs": [],
   "source": [
    "def find_min_element(data):\n",
    "    '''\n",
    "    Time Complexity: O(log n)\n",
    "    Space Complexity: O(1)\n",
    "    '''\n",
    "    \n",
    "    len_data = len(data)\n",
    "    \n",
    "    left = 0\n",
    "    right = len_data - 1\n",
    "    \n",
    "    while (left < right):\n",
    "        \n",
    "        if (data[left] < data[right]):\n",
    "            return data[left]\n",
    "        \n",
    "        middle = left + (right-left) // 2\n",
    "        \n",
    "        if (data[middle] > data[right]):\n",
    "            left = middle + 1\n",
    "        else:\n",
    "            right = middle\n",
    "            \n",
    "    return data[left]"
   ]
  },
  {
   "cell_type": "code",
   "execution_count": 7,
   "id": "e867d573",
   "metadata": {},
   "outputs": [
    {
     "data": {
      "text/plain": [
       "1"
      ]
     },
     "execution_count": 7,
     "metadata": {},
     "output_type": "execute_result"
    }
   ],
   "source": [
    "data = [4, 5, 6, 7, 8, 1, 2, 3]\n",
    "find_min_element(data)"
   ]
  },
  {
   "cell_type": "code",
   "execution_count": 8,
   "id": "7285c76b",
   "metadata": {},
   "outputs": [
    {
     "data": {
      "text/plain": [
       "4"
      ]
     },
     "execution_count": 8,
     "metadata": {},
     "output_type": "execute_result"
    }
   ],
   "source": [
    "data = [8, 9, 4, 5, 6, 7]\n",
    "find_min_element(data)"
   ]
  },
  {
   "cell_type": "code",
   "execution_count": 9,
   "id": "d409317f",
   "metadata": {
    "scrolled": true
   },
   "outputs": [
    {
     "data": {
      "text/plain": [
       "3"
      ]
     },
     "execution_count": 9,
     "metadata": {},
     "output_type": "execute_result"
    }
   ],
   "source": [
    "data = [3, 4, 5, 6, 7]\n",
    "find_min_element(data)"
   ]
  },
  {
   "cell_type": "code",
   "execution_count": 10,
   "id": "91fc579a",
   "metadata": {
    "scrolled": true
   },
   "outputs": [
    {
     "data": {
      "text/plain": [
       "2"
      ]
     },
     "execution_count": 10,
     "metadata": {},
     "output_type": "execute_result"
    }
   ],
   "source": [
    "data = [3, 2]\n",
    "find_min_element(data)"
   ]
  },
  {
   "cell_type": "markdown",
   "id": "38dc9d1a",
   "metadata": {},
   "source": [
    "#### Better Recursion Approach"
   ]
  },
  {
   "cell_type": "code",
   "execution_count": 11,
   "id": "162ea537",
   "metadata": {},
   "outputs": [],
   "source": [
    "def binary_search(data, left, right):\n",
    "    \n",
    "    if (left < right):\n",
    "        \n",
    "        if (data[left] < data[right]):\n",
    "            return data[left]\n",
    "        \n",
    "        middle = left + (right - left) // 2\n",
    "        if (data[middle] > data[right]):\n",
    "            return binary_search(data, middle + 1, right)\n",
    "        else:\n",
    "            return binary_search(data, left, middle)\n",
    "        \n",
    "    return data[left]"
   ]
  },
  {
   "cell_type": "code",
   "execution_count": 12,
   "id": "a0fda073",
   "metadata": {},
   "outputs": [],
   "source": [
    "def find_min_element(data):\n",
    "    '''\n",
    "    Time Complexity: O(log n)\n",
    "    Space Complexity: O(1)\n",
    "    '''\n",
    "    len_data = len(data)\n",
    "    \n",
    "    return binary_search(data, 0, len_data-1)"
   ]
  },
  {
   "cell_type": "code",
   "execution_count": 13,
   "id": "9079f72c",
   "metadata": {},
   "outputs": [
    {
     "data": {
      "text/plain": [
       "1"
      ]
     },
     "execution_count": 13,
     "metadata": {},
     "output_type": "execute_result"
    }
   ],
   "source": [
    "data = [4, 5, 6, 7, 8, 1, 2, 3]\n",
    "find_min_element(data)"
   ]
  },
  {
   "cell_type": "code",
   "execution_count": 14,
   "id": "7f82f813",
   "metadata": {},
   "outputs": [
    {
     "data": {
      "text/plain": [
       "4"
      ]
     },
     "execution_count": 14,
     "metadata": {},
     "output_type": "execute_result"
    }
   ],
   "source": [
    "data = [8, 9, 4, 5, 6, 7]\n",
    "find_min_element(data)"
   ]
  },
  {
   "cell_type": "code",
   "execution_count": 15,
   "id": "8fd39b8b",
   "metadata": {
    "scrolled": true
   },
   "outputs": [
    {
     "data": {
      "text/plain": [
       "3"
      ]
     },
     "execution_count": 15,
     "metadata": {},
     "output_type": "execute_result"
    }
   ],
   "source": [
    "data = [3, 4, 5, 6, 7]\n",
    "find_min_element(data)"
   ]
  },
  {
   "cell_type": "code",
   "execution_count": 16,
   "id": "b4526310",
   "metadata": {
    "scrolled": true
   },
   "outputs": [
    {
     "data": {
      "text/plain": [
       "2"
      ]
     },
     "execution_count": 16,
     "metadata": {},
     "output_type": "execute_result"
    }
   ],
   "source": [
    "data = [3, 2]\n",
    "find_min_element(data)"
   ]
  },
  {
   "cell_type": "markdown",
   "id": "7c9e0069",
   "metadata": {},
   "source": [
    "---"
   ]
  }
 ],
 "metadata": {
  "kernelspec": {
   "display_name": "Python 3",
   "language": "python",
   "name": "python3"
  },
  "language_info": {
   "codemirror_mode": {
    "name": "ipython",
    "version": 3
   },
   "file_extension": ".py",
   "mimetype": "text/x-python",
   "name": "python",
   "nbconvert_exporter": "python",
   "pygments_lexer": "ipython3",
   "version": "3.8.8"
  }
 },
 "nbformat": 4,
 "nbformat_minor": 5
}
