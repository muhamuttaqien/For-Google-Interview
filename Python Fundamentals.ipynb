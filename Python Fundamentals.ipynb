{
 "cells": [
  {
   "cell_type": "code",
   "execution_count": null,
   "id": "c880b8fc",
   "metadata": {},
   "outputs": [],
   "source": [
    "assert 3 > 5, \"wrong!\""
   ]
  },
  {
   "cell_type": "code",
   "execution_count": null,
   "id": "4ab2339b",
   "metadata": {},
   "outputs": [],
   "source": [
    "import asyncio\n",
    "\n",
    "async def main():\n",
    "    print('Hello')\n",
    "    await asyncio.sleep(1)\n",
    "    print('world')"
   ]
  },
  {
   "cell_type": "code",
   "execution_count": null,
   "id": "bbd090a7",
   "metadata": {},
   "outputs": [],
   "source": [
    "# asyncio.run(main())"
   ]
  },
  {
   "cell_type": "code",
   "execution_count": null,
   "id": "b3547a1b",
   "metadata": {},
   "outputs": [],
   "source": [
    "# def double(x): return x * 2\n",
    "double = lambda x: x*2"
   ]
  },
  {
   "cell_type": "code",
   "execution_count": null,
   "id": "196d365d",
   "metadata": {},
   "outputs": [],
   "source": [
    "for i in range(1, 6):\n",
    "    print(double(i))"
   ]
  },
  {
   "cell_type": "code",
   "execution_count": null,
   "id": "99e1926d",
   "metadata": {},
   "outputs": [],
   "source": [
    "# Program to filter out only the even items from a list\n",
    "my_list = [1, 5, 4, 6, 8, 11, 3, 12]\n",
    "\n",
    "new_list = list(filter(lambda x: (x%2 == 0) , my_list))\n",
    "\n",
    "print(new_list)"
   ]
  },
  {
   "cell_type": "code",
   "execution_count": null,
   "id": "62984cb9",
   "metadata": {},
   "outputs": [],
   "source": [
    "# Program to double each item in a list using map()\n",
    "\n",
    "my_list = [1, 5, 4, 6, 8, 11, 3, 12]\n",
    "\n",
    "new_list = list(map(lambda x: x * 2 , my_list))\n",
    "\n",
    "print(new_list)"
   ]
  },
  {
   "cell_type": "code",
   "execution_count": null,
   "id": "dd95df50",
   "metadata": {},
   "outputs": [],
   "source": [
    "g = (2**x for x in range(100))"
   ]
  },
  {
   "cell_type": "code",
   "execution_count": null,
   "id": "29e4c5af",
   "metadata": {},
   "outputs": [],
   "source": [
    "next(g)"
   ]
  },
  {
   "cell_type": "code",
   "execution_count": null,
   "id": "7ab8f245",
   "metadata": {},
   "outputs": [],
   "source": [
    "def generator():\n",
    "    for i in range(6):\n",
    "        yield i*i"
   ]
  },
  {
   "cell_type": "code",
   "execution_count": null,
   "id": "3329754a",
   "metadata": {},
   "outputs": [],
   "source": [
    "g = generator()"
   ]
  },
  {
   "cell_type": "code",
   "execution_count": null,
   "id": "22724189",
   "metadata": {},
   "outputs": [],
   "source": [
    "next(g)"
   ]
  },
  {
   "cell_type": "code",
   "execution_count": null,
   "id": "1e71d724",
   "metadata": {},
   "outputs": [],
   "source": [
    "def double(num):\n",
    "    \"\"\"Function to double the value\"\"\"\n",
    "    return 2*num"
   ]
  },
  {
   "cell_type": "code",
   "execution_count": null,
   "id": "8603b317",
   "metadata": {},
   "outputs": [],
   "source": [
    "double.__doc__"
   ]
  },
  {
   "cell_type": "code",
   "execution_count": null,
   "id": "1f95d8f2",
   "metadata": {},
   "outputs": [],
   "source": [
    "def printHello():\n",
    "    print('Hello')"
   ]
  },
  {
   "cell_type": "code",
   "execution_count": null,
   "id": "004bebfc",
   "metadata": {},
   "outputs": [],
   "source": [
    "a = printHello"
   ]
  },
  {
   "cell_type": "code",
   "execution_count": null,
   "id": "1920ccd8",
   "metadata": {},
   "outputs": [],
   "source": [
    "a()"
   ]
  },
  {
   "cell_type": "code",
   "execution_count": null,
   "id": "b3b26558",
   "metadata": {},
   "outputs": [],
   "source": [
    "def greet(*names):\n",
    "    \"\"\"This function greets all\n",
    "    the person in the names tuple.\"\"\"\n",
    "\n",
    "    # names is a tuple with arguments\n",
    "    for name in names:\n",
    "        print(\"Hello\", name)\n",
    "\n",
    "\n",
    "greet(\"Monica\", \"Luke\", \"Steve\", \"John\")"
   ]
  },
  {
   "cell_type": "code",
   "execution_count": null,
   "id": "5ca4173b",
   "metadata": {},
   "outputs": [],
   "source": [
    "def greet(*names):\n",
    "    \"\"\"This function greets all\n",
    "    the person in the names tuple.\"\"\"\n",
    "\n",
    "    # names is a tuple with arguments\n",
    "    print(\"Hello\", *names)\n",
    "    \n",
    "greet(\"Monica\", \"Luke\", \"Steve\", \"John\")"
   ]
  },
  {
   "cell_type": "code",
   "execution_count": null,
   "id": "e0fb9788",
   "metadata": {},
   "outputs": [],
   "source": [
    "def factorial(x):\n",
    "    \"\"\"This is a recursive function\n",
    "    to find the factorial of an integer\"\"\"\n",
    "\n",
    "    if x == 1:\n",
    "        return 1\n",
    "    else:\n",
    "        return (x * factorial(x-1))\n",
    "\n",
    "\n",
    "num = 3\n",
    "print(\"The factorial of\", num, \"is\", factorial(num))"
   ]
  },
  {
   "cell_type": "code",
   "execution_count": null,
   "id": "9f6adc6e",
   "metadata": {},
   "outputs": [],
   "source": [
    "odd = [1, 9]\n",
    "odd.insert(1,3)\n",
    "\n",
    "print(odd)\n",
    "\n",
    "odd[2:2] = [5, 7]\n",
    "\n",
    "print(odd)"
   ]
  },
  {
   "cell_type": "code",
   "execution_count": null,
   "id": "b1d179a4",
   "metadata": {},
   "outputs": [],
   "source": [
    "odd.insert(3, 7)"
   ]
  },
  {
   "cell_type": "code",
   "execution_count": null,
   "id": "e7490d0d",
   "metadata": {},
   "outputs": [],
   "source": [
    "odd"
   ]
  },
  {
   "cell_type": "code",
   "execution_count": null,
   "id": "4ab7eac2",
   "metadata": {},
   "outputs": [],
   "source": [
    "odd[0:2] = [5, 7]"
   ]
  },
  {
   "cell_type": "code",
   "execution_count": null,
   "id": "51b56ea3",
   "metadata": {},
   "outputs": [],
   "source": [
    "odd"
   ]
  },
  {
   "cell_type": "code",
   "execution_count": null,
   "id": "055f1b9d",
   "metadata": {
    "scrolled": true
   },
   "outputs": [],
   "source": [
    "# Deleting list items\n",
    "my_list = ['p', 'r', 'o', 'b', 'l', 'e', 'm']\n",
    "\n",
    "# delete one item\n",
    "del my_list[2]\n",
    "\n",
    "# Deleting list items\n",
    "my_list = ['p', 'r', 'o', 'b', 'l', 'e', 'm']\n",
    "\n",
    "print(my_list)\n",
    "\n",
    "# Deleting list items\n",
    "my_list = ['p', 'r', 'o', 'b', 'l', 'e', 'm']\n",
    "\n",
    "# delete multiple items\n",
    "del my_list[1:5]\n",
    "\n",
    "# Deleting list items\n",
    "my_list = ['p', 'r', 'o', 'b', 'l', 'e', 'm']\n",
    "\n",
    "print(my_list)\n",
    "\n",
    "# delete entire list\n",
    "del my_list\n",
    "\n",
    "# Deleting list items\n",
    "my_list = ['p', 'r', 'o', 'b', 'l', 'e', 'm']\n",
    "\n",
    "# Error: List not defined\n",
    "print(my_list)"
   ]
  },
  {
   "cell_type": "code",
   "execution_count": null,
   "id": "6da05dc8",
   "metadata": {},
   "outputs": [],
   "source": [
    "my_list = ['p','r','o','b','l','e','m']\n",
    "my_list.remove('p')\n",
    "\n",
    "# Output: ['r', 'o', 'b', 'l', 'e', 'm']\n",
    "print(my_list)\n",
    "\n",
    "# Output: 'o'\n",
    "print(my_list.pop(1))\n",
    "\n",
    "# Output: ['r', 'b', 'l', 'e', 'm']\n",
    "print(my_list)\n",
    "\n",
    "# Output: 'm'\n",
    "print(my_list.pop())\n",
    "\n",
    "# Output: ['r', 'b', 'l', 'e']\n",
    "print(my_list)\n",
    "\n",
    "my_list.clear()\n",
    "\n",
    "# Output: []\n",
    "print(my_list)"
   ]
  },
  {
   "cell_type": "code",
   "execution_count": null,
   "id": "3f78ec2d",
   "metadata": {},
   "outputs": [],
   "source": [
    "# Python list methods\n",
    "my_list = [3, 8, 1, 6, 0, 8, 4]\n",
    "\n",
    "# Output: 1\n",
    "print(my_list.index(8))\n",
    "\n",
    "# Output: 2\n",
    "print(my_list.count(8))\n",
    "\n",
    "my_list.sort()\n",
    "\n",
    "# Output: [0, 1, 3, 4, 6, 8, 8]\n",
    "print(my_list)\n",
    "\n",
    "my_list.reverse()\n",
    "\n",
    "# Output: [8, 8, 6, 4, 3, 1, 0]\n",
    "print(my_list)"
   ]
  },
  {
   "cell_type": "code",
   "execution_count": null,
   "id": "74f1fc54",
   "metadata": {},
   "outputs": [],
   "source": [
    "pow2 = [2 ** x for x in range(10) if x > 5]\n",
    "pow2"
   ]
  },
  {
   "cell_type": "code",
   "execution_count": null,
   "id": "a120c6da",
   "metadata": {},
   "outputs": [],
   "source": [
    "[x+y for x in ['Python ','C '] for y in ['Language','Programming']]"
   ]
  },
  {
   "cell_type": "code",
   "execution_count": null,
   "id": "1294e445",
   "metadata": {},
   "outputs": [],
   "source": [
    "# Intersection of sets\n",
    "# initialize A and B\n",
    "A = {1, 2, 3, 4, 5}\n",
    "B = {4, 5, 6, 7, 8}\n",
    "\n",
    "# use & operator\n",
    "# Output: {4, 5}\n",
    "print(A & B)"
   ]
  },
  {
   "cell_type": "code",
   "execution_count": null,
   "id": "cf4be3d5",
   "metadata": {},
   "outputs": [],
   "source": [
    "A.intersection(B)"
   ]
  },
  {
   "cell_type": "code",
   "execution_count": null,
   "id": "b5473fb0",
   "metadata": {},
   "outputs": [],
   "source": [
    "# Dictionary Methods\n",
    "marks = {}.fromkeys(['Math', 'English', 'Science'], 0)\n",
    "# Output: {'English': 0, 'Math': 0, 'Science': 0}\n",
    "print(marks)"
   ]
  },
  {
   "cell_type": "code",
   "execution_count": null,
   "id": "0c7ce831",
   "metadata": {},
   "outputs": [],
   "source": [
    "for item in marks.items():\n",
    "    print(item)"
   ]
  },
  {
   "cell_type": "code",
   "execution_count": null,
   "id": "75ed58e0",
   "metadata": {},
   "outputs": [],
   "source": [
    "marks.keys()"
   ]
  },
  {
   "cell_type": "code",
   "execution_count": null,
   "id": "bf09e341",
   "metadata": {},
   "outputs": [],
   "source": [
    "# Dictionary Comprehension\n",
    "squares = {x: x*x for x in range(6)}\n",
    "\n",
    "print(squares)"
   ]
  },
  {
   "cell_type": "code",
   "execution_count": null,
   "id": "9b7eaafc",
   "metadata": {},
   "outputs": [],
   "source": [
    "# Dictionary Comprehension with if conditional\n",
    "odd_squares = {x: x*x for x in range(11) if x % 2 == 1}\n",
    "\n",
    "print(odd_squares)"
   ]
  },
  {
   "cell_type": "code",
   "execution_count": null,
   "id": "f2aa9f1a",
   "metadata": {},
   "outputs": [],
   "source": [
    "# Iterating through a Dictionary\n",
    "squares = {1: 1, 3: 9, 5: 25, 7: 49, 9: 81}\n",
    "for i in squares:\n",
    "    print(squares[i])"
   ]
  },
  {
   "cell_type": "markdown",
   "id": "10900e37",
   "metadata": {},
   "source": [
    "---"
   ]
  }
 ],
 "metadata": {
  "kernelspec": {
   "display_name": "Python 3",
   "language": "python",
   "name": "python3"
  },
  "language_info": {
   "codemirror_mode": {
    "name": "ipython",
    "version": 3
   },
   "file_extension": ".py",
   "mimetype": "text/x-python",
   "name": "python",
   "nbconvert_exporter": "python",
   "pygments_lexer": "ipython3",
   "version": "3.8.8"
  }
 },
 "nbformat": 4,
 "nbformat_minor": 5
}
