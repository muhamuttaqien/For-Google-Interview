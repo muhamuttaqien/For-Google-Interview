{
 "cells": [
  {
   "cell_type": "markdown",
   "id": "2d223b76",
   "metadata": {},
   "source": [
    "List of Sorting Algorithms\n",
    "\n",
    "1. Quicksort\n",
    "2. Mergesort\n",
    "3. Timsort\n",
    "4. Heapsort\n",
    "5. Bubble Sort\n",
    "6. Insertion Sort\n",
    "7. Selection Sort\n",
    "8. Tree Sort\n",
    "9. Shell Sort\n",
    "10. Bucket Sort\n",
    "11. Radix Sort\n",
    "12. Counting Sort\n",
    "13. Cubesort"
   ]
  },
  {
   "cell_type": "markdown",
   "id": "ef2d5c03",
   "metadata": {},
   "source": [
    "## 1. Quicksort"
   ]
  },
  {
   "cell_type": "code",
   "execution_count": 1,
   "id": "e0572396",
   "metadata": {},
   "outputs": [],
   "source": [
    "def quick_sort(data):\n",
    "    \n",
    "    # base case\n",
    "    len_data = len(data)\n",
    "    if len_data < 2: return data\n",
    "        \n",
    "    pivot_index = 0\n",
    "    partitioner_index = 0\n",
    "    \n",
    "    for i in range(1, len_data):\n",
    "        \n",
    "        if data[i] <= data[pivot_index]:\n",
    "            \n",
    "            partitioner_index += 1\n",
    "            temp = data[i]\n",
    "            data[i] = data[partitioner_index]\n",
    "            data[partitioner_index] = temp\n",
    "            \n",
    "    # change pivot\n",
    "    temp = data[pivot_index]\n",
    "    data[pivot_index] = data[partitioner_index]\n",
    "    data[partitioner_index] = temp\n",
    "    \n",
    "    left = quick_sort(data[0:partitioner_index])\n",
    "    right = quick_sort(data[partitioner_index+1:len_data])\n",
    "    data = left + [data[partitioner_index]] + right\n",
    "    \n",
    "    return data"
   ]
  },
  {
   "cell_type": "code",
   "execution_count": 2,
   "id": "0d8c537e",
   "metadata": {},
   "outputs": [
    {
     "data": {
      "text/plain": [
       "[1, 2, 3, 4, 6, 7]"
      ]
     },
     "execution_count": 2,
     "metadata": {},
     "output_type": "execute_result"
    }
   ],
   "source": [
    "data = [4, 2, 7, 3, 1, 6]\n",
    "quick_sort(data)"
   ]
  },
  {
   "cell_type": "markdown",
   "id": "8528748a",
   "metadata": {},
   "source": [
    "## 2. Mergesort"
   ]
  },
  {
   "cell_type": "code",
   "execution_count": 3,
   "id": "db05c168",
   "metadata": {},
   "outputs": [],
   "source": [
    "def merge_sort(data):\n",
    "    pass"
   ]
  },
  {
   "cell_type": "markdown",
   "id": "d0db0e8d",
   "metadata": {},
   "source": [
    "---"
   ]
  }
 ],
 "metadata": {
  "kernelspec": {
   "display_name": "Python 3",
   "language": "python",
   "name": "python3"
  },
  "language_info": {
   "codemirror_mode": {
    "name": "ipython",
    "version": 3
   },
   "file_extension": ".py",
   "mimetype": "text/x-python",
   "name": "python",
   "nbconvert_exporter": "python",
   "pygments_lexer": "ipython3",
   "version": "3.8.8"
  }
 },
 "nbformat": 4,
 "nbformat_minor": 5
}
