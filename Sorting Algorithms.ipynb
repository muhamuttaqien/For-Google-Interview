{
 "cells": [
  {
   "cell_type": "markdown",
   "id": "2d223b76",
   "metadata": {},
   "source": [
    "List of Sorting Algorithms\n",
    "\n",
    "1. Quicksort\n",
    "2. Mergesort\n",
    "3. Timsort\n",
    "4. Heapsort\n",
    "5. Bubble Sort\n",
    "6. Insertion Sort\n",
    "7. Selection Sort\n",
    "8. Tree Sort\n",
    "9. Shell Sort\n",
    "10. Bucket Sort\n",
    "11. Radix Sort\n",
    "12. Counting Sort\n",
    "13. Cubesort"
   ]
  },
  {
   "cell_type": "markdown",
   "id": "d0db0e8d",
   "metadata": {},
   "source": [
    "---"
   ]
  }
 ],
 "metadata": {
  "kernelspec": {
   "display_name": "Python 3",
   "language": "python",
   "name": "python3"
  },
  "language_info": {
   "codemirror_mode": {
    "name": "ipython",
    "version": 3
   },
   "file_extension": ".py",
   "mimetype": "text/x-python",
   "name": "python",
   "nbconvert_exporter": "python",
   "pygments_lexer": "ipython3",
   "version": "3.8.8"
  }
 },
 "nbformat": 4,
 "nbformat_minor": 5
}
