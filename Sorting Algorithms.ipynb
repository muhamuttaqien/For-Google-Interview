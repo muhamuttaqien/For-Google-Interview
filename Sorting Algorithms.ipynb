{
 "cells": [
  {
   "cell_type": "markdown",
   "id": "2d223b76",
   "metadata": {},
   "source": [
    "List of Sorting Algorithms\n",
    "\n",
    "1. Bubble Sort\n",
    "2. Selection Sort\n",
    "3. Heapsort\n",
    "4. Quicksort\n",
    "5. Mergesort\n",
    "6. Insertion Sort\n",
    "7. Timsort \n",
    "8. Tree Sort\n",
    "9. Shell Sort\n",
    "10. Bucket Sort\n",
    "11. Radix Sort\n",
    "12. Counting Sort\n",
    "13. Cubesort"
   ]
  },
  {
   "cell_type": "markdown",
   "id": "967e3a92",
   "metadata": {},
   "source": [
    "## 1. Bubblesort"
   ]
  },
  {
   "cell_type": "code",
   "execution_count": 1,
   "id": "92bc0a27",
   "metadata": {},
   "outputs": [],
   "source": [
    "def bubble_sort(data):\n",
    "    \n",
    "    swapped = True\n",
    "    \n",
    "    while swapped:\n",
    "        \n",
    "        swapped = False\n",
    "        for i in range(len(data)-1):\n",
    "            if data[i] > data[i+1]:\n",
    "                data[i], data[i+1] = data[i+1], data[i]\n",
    "                swapped = True\n",
    "                \n",
    "    return data"
   ]
  },
  {
   "cell_type": "code",
   "execution_count": 6,
   "id": "0c08953e",
   "metadata": {},
   "outputs": [
    {
     "data": {
      "text/plain": [
       "[1, 2, 3, 4, 6, 7, 7, 9]"
      ]
     },
     "execution_count": 6,
     "metadata": {},
     "output_type": "execute_result"
    }
   ],
   "source": [
    "data = [4, 2, 7, 3, 1, 7, 6, 9]\n",
    "bubble_sort(data)"
   ]
  },
  {
   "cell_type": "markdown",
   "id": "924ba7f0",
   "metadata": {},
   "source": [
    "## 2. Selection Sort"
   ]
  },
  {
   "cell_type": "code",
   "execution_count": null,
   "id": "d45f913b",
   "metadata": {},
   "outputs": [],
   "source": []
  },
  {
   "cell_type": "markdown",
   "id": "898d93b0",
   "metadata": {},
   "source": [
    "## 3. Heapsort"
   ]
  },
  {
   "cell_type": "code",
   "execution_count": null,
   "id": "ef9bc50f",
   "metadata": {},
   "outputs": [],
   "source": []
  },
  {
   "cell_type": "markdown",
   "id": "19e5965d",
   "metadata": {},
   "source": [
    "## 4. Quicksort"
   ]
  },
  {
   "cell_type": "code",
   "execution_count": 2,
   "id": "9c85e7c7",
   "metadata": {},
   "outputs": [],
   "source": [
    "def quick_sort(data):\n",
    "    \n",
    "    # base case\n",
    "    len_data = len(data)\n",
    "    if len_data < 2: return data\n",
    "        \n",
    "    pivot_index = 0\n",
    "    partitioner_index = 0\n",
    "    \n",
    "    for i in range(1, len_data):\n",
    "        \n",
    "        if data[i] <= data[pivot_index]:\n",
    "            \n",
    "            partitioner_index += 1\n",
    "            temp = data[i]\n",
    "            data[i] = data[partitioner_index]\n",
    "            data[partitioner_index] = temp\n",
    "            \n",
    "    # change pivot\n",
    "    temp = data[pivot_index]\n",
    "    data[pivot_index] = data[partitioner_index]\n",
    "    data[partitioner_index] = temp\n",
    "    \n",
    "    # recursion\n",
    "    left = quick_sort(data[0:partitioner_index])\n",
    "    right = quick_sort(data[partitioner_index+1:len_data])\n",
    "    \n",
    "    data = left + [data[partitioner_index]] + right\n",
    "    \n",
    "    return data"
   ]
  },
  {
   "cell_type": "code",
   "execution_count": 3,
   "id": "be737af1",
   "metadata": {
    "scrolled": true
   },
   "outputs": [
    {
     "data": {
      "text/plain": [
       "[1, 2, 3, 4, 6, 7, 7, 9]"
      ]
     },
     "execution_count": 3,
     "metadata": {},
     "output_type": "execute_result"
    }
   ],
   "source": [
    "data = [4, 2, 7, 3, 1, 7, 6, 9]\n",
    "quick_sort(data)"
   ]
  },
  {
   "cell_type": "markdown",
   "id": "0b90ddf5",
   "metadata": {},
   "source": [
    "## 5. Mergesort"
   ]
  },
  {
   "cell_type": "code",
   "execution_count": 4,
   "id": "7e961cb6",
   "metadata": {},
   "outputs": [],
   "source": [
    "def merge_sort(data):\n",
    "    \n",
    "    # base case\n",
    "    len_data = len(data)\n",
    "    if len_data < 2: return data\n",
    "        \n",
    "    middle = len(data) // 2\n",
    "    left_data = data[:middle]\n",
    "    right_data = data[middle:]\n",
    "    \n",
    "    # recursion\n",
    "    merge_sort(left_data)\n",
    "    merge_sort(right_data)\n",
    "    \n",
    "    left_index = 0\n",
    "    right_index = 0\n",
    "    data_index = 0\n",
    "    \n",
    "    while left_index < len(left_data) and right_index < len(right_data):\n",
    "        \n",
    "        if left_data[left_index] < right_data[right_index]:\n",
    "            data[data_index] = left_data[left_index]\n",
    "            left_index += 1\n",
    "        else:\n",
    "            data[data_index] = right_data[right_index]\n",
    "            right_index += 1\n",
    "            \n",
    "        data_index += 1\n",
    "    \n",
    "    if left_index < len(left_data):\n",
    "        del data[data_index:]\n",
    "        data += left_data[left_index:]\n",
    "        \n",
    "    elif right_index < len(right_data):\n",
    "        del data[data_index:]\n",
    "        data += right_data[right_index:]\n",
    "        \n",
    "    return data"
   ]
  },
  {
   "cell_type": "code",
   "execution_count": 5,
   "id": "2060da0c",
   "metadata": {
    "scrolled": true
   },
   "outputs": [
    {
     "data": {
      "text/plain": [
       "[1, 2, 3, 4, 6, 7, 7, 9]"
      ]
     },
     "execution_count": 5,
     "metadata": {},
     "output_type": "execute_result"
    }
   ],
   "source": [
    "data = [4, 2, 7, 3, 1, 7, 6, 9]\n",
    "merge_sort(data)"
   ]
  },
  {
   "cell_type": "markdown",
   "id": "b4edc2a8",
   "metadata": {},
   "source": [
    "## 6. Insertion Sort"
   ]
  },
  {
   "cell_type": "code",
   "execution_count": null,
   "id": "c6a507d2",
   "metadata": {},
   "outputs": [],
   "source": []
  },
  {
   "cell_type": "markdown",
   "id": "4ebbcc70",
   "metadata": {},
   "source": [
    "---"
   ]
  }
 ],
 "metadata": {
  "kernelspec": {
   "display_name": "Python 3",
   "language": "python",
   "name": "python3"
  },
  "language_info": {
   "codemirror_mode": {
    "name": "ipython",
    "version": 3
   },
   "file_extension": ".py",
   "mimetype": "text/x-python",
   "name": "python",
   "nbconvert_exporter": "python",
   "pygments_lexer": "ipython3",
   "version": "3.8.8"
  }
 },
 "nbformat": 4,
 "nbformat_minor": 5
}
