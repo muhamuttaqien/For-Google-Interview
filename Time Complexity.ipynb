{
 "cells": [
  {
   "cell_type": "code",
   "execution_count": 1,
   "id": "29f14fab",
   "metadata": {},
   "outputs": [],
   "source": [
    "import time"
   ]
  },
  {
   "cell_type": "markdown",
   "id": "730c96f0",
   "metadata": {},
   "source": [
    "## Constant Time — O(1)"
   ]
  },
  {
   "cell_type": "code",
   "execution_count": 2,
   "id": "c46367e0",
   "metadata": {},
   "outputs": [],
   "source": [
    "def get_first(data):\n",
    "    return data[0]"
   ]
  },
  {
   "cell_type": "code",
   "execution_count": 3,
   "id": "fbe12f38",
   "metadata": {},
   "outputs": [
    {
     "name": "stdout",
     "output_type": "stream",
     "text": [
      "Result: 1\n",
      "Runtime: 0.001\n"
     ]
    }
   ],
   "source": [
    "data = [1, 2, 9, 8, 3, 4, 7, 6, 5]\n",
    "\n",
    "tick = time.time()\n",
    "result = get_first(data)\n",
    "print(f'Result: {result}')\n",
    "tock = time.time()\n",
    "\n",
    "print(f'Runtime: {tock-tick:.3f}')"
   ]
  },
  {
   "cell_type": "code",
   "execution_count": 4,
   "id": "e212939a",
   "metadata": {},
   "outputs": [
    {
     "name": "stdout",
     "output_type": "stream",
     "text": [
      "Result: 1\n",
      "Runtime: 0.000\n"
     ]
    }
   ],
   "source": [
    "data = data = [1, 2, 9, 8, 3, 4, 7, 6, 5, 1, 2, 9, 8, 3, 4, 7, 6, 5]\n",
    "\n",
    "tick = time.time()\n",
    "result = get_first(data)\n",
    "print(f'Result: {result}')\n",
    "tock = time.time()\n",
    "\n",
    "print(f'Runtime: {tock-tick:.3f}')"
   ]
  },
  {
   "cell_type": "markdown",
   "id": "ecd3189c",
   "metadata": {},
   "source": [
    "## Logarithmic Time — O(log n)"
   ]
  },
  {
   "cell_type": "code",
   "execution_count": 5,
   "id": "b6d87c7d",
   "metadata": {},
   "outputs": [],
   "source": [
    "def binary_search(data, value):\n",
    "    \n",
    "    length = len(data)\n",
    "    left = 0\n",
    "    right = length - 1\n",
    "    \n",
    "    while left <= right:\n",
    "        \n",
    "        middle = (left + right) // 2\n",
    "        \n",
    "        if value < data[middle]:\n",
    "            right = middle - 1\n",
    "        elif value > data[middle]:\n",
    "            left = middle + 1\n",
    "        else:\n",
    "            return middle\n",
    "\n",
    "    return 'Value is not in the list.'"
   ]
  },
  {
   "cell_type": "code",
   "execution_count": 6,
   "id": "f9ed1548",
   "metadata": {},
   "outputs": [
    {
     "name": "stdout",
     "output_type": "stream",
     "text": [
      "Result: Value is not in the list.\n",
      "Runtime: 0.00028\n"
     ]
    }
   ],
   "source": [
    "data = [1, 2, 9, 8, 3, 4, 7, 6, 5] * 1\n",
    "\n",
    "tick = time.time()\n",
    "result = binary_search(data, 10)\n",
    "print(f'Result: {result}')\n",
    "tock = time.time()\n",
    "\n",
    "print(f'Runtime: {tock-tick:.5f}')"
   ]
  },
  {
   "cell_type": "code",
   "execution_count": 7,
   "id": "86257f51",
   "metadata": {},
   "outputs": [
    {
     "name": "stdout",
     "output_type": "stream",
     "text": [
      "Result: Value is not in the list.\n",
      "Runtime: 0.00051\n"
     ]
    }
   ],
   "source": [
    "data = [1, 2, 9, 8, 3, 4, 7, 6, 5] * 1024\n",
    "\n",
    "tick = time.time()\n",
    "result = binary_search(data, 10)\n",
    "print(f'Result: {result}')\n",
    "tock = time.time()\n",
    "\n",
    "print(f'Runtime: {tock-tick:.5f}')"
   ]
  },
  {
   "cell_type": "markdown",
   "id": "76d1aab1",
   "metadata": {},
   "source": [
    "## Linear Time — O(n)"
   ]
  },
  {
   "cell_type": "code",
   "execution_count": 8,
   "id": "34e4e6d3",
   "metadata": {},
   "outputs": [],
   "source": [
    "def linear_search(data, value):\n",
    "    \n",
    "    for index in range(len(data)):\n",
    "        if value == data[index]:\n",
    "            return index\n",
    "        \n",
    "    return 'Value is not in the list.'"
   ]
  },
  {
   "cell_type": "code",
   "execution_count": 9,
   "id": "086c32e0",
   "metadata": {},
   "outputs": [
    {
     "name": "stdout",
     "output_type": "stream",
     "text": [
      "Result: 9\n",
      "Runtime: 0.00028\n"
     ]
    }
   ],
   "source": [
    "data = [1, 2, 9, 8, 3, 4, 7, 6, 5] * 1 + [10]\n",
    "\n",
    "tick = time.time()\n",
    "result = linear_search(data, 10)\n",
    "print(f'Result: {result}')\n",
    "tock = time.time()\n",
    "\n",
    "print(f'Runtime: {tock-tick:.5f}')"
   ]
  },
  {
   "cell_type": "code",
   "execution_count": 10,
   "id": "8317d590",
   "metadata": {},
   "outputs": [
    {
     "name": "stdout",
     "output_type": "stream",
     "text": [
      "Result: 9216\n",
      "Runtime: 0.00172\n"
     ]
    }
   ],
   "source": [
    "data = [1, 2, 9, 8, 3, 4, 7, 6, 5] * 1024 + [10]\n",
    "\n",
    "tick = time.time()\n",
    "result = linear_search(data, 10)\n",
    "print(f'Result: {result}')\n",
    "tock = time.time()\n",
    "\n",
    "print(f'Runtime: {tock-tick:.5f}')"
   ]
  },
  {
   "cell_type": "markdown",
   "id": "169bfd36",
   "metadata": {},
   "source": [
    "## Quasilinear Time — O(n log n)"
   ]
  },
  {
   "cell_type": "code",
   "execution_count": 11,
   "id": "2217e65b",
   "metadata": {},
   "outputs": [],
   "source": [
    "def merge_sort(data):\n",
    "    \n",
    "    if len(data) <= 1:\n",
    "        return\n",
    "    \n",
    "    middle = len(data) // 2\n",
    "    left_data = data[:middle]\n",
    "    right_data = data[middle:]\n",
    "    \n",
    "    # recursion\n",
    "    merge_sort(left_data)\n",
    "    merge_sort(right_data)\n",
    "    \n",
    "    left_index = 0\n",
    "    right_index = 0\n",
    "    data_index = 0\n",
    "    \n",
    "    while left_index < len(left_data) and right_index < len(right_data):\n",
    "        \n",
    "        if left_data[left_index] < right_data[right_index]:\n",
    "            data[data_index] = left_data[left_index]\n",
    "            left_index += 1\n",
    "        else:\n",
    "            data[data_index] = right_data[right_index]\n",
    "            right_index += 1\n",
    "        \n",
    "        data_index += 1\n",
    "    \n",
    "    if left_index < len(left_data):\n",
    "        del data[data_index:]\n",
    "        data += left_data[left_index:]\n",
    "        \n",
    "    elif right_index < len(right_data):\n",
    "        del data[data_index:]\n",
    "        data += right_data[right_index:]\n",
    "        \n",
    "    return data"
   ]
  },
  {
   "cell_type": "code",
   "execution_count": 12,
   "id": "ab5c0cad",
   "metadata": {},
   "outputs": [
    {
     "name": "stdout",
     "output_type": "stream",
     "text": [
      "Result: [1, 2, 3, 4, 5, 6, 7, 8, 9]\n",
      "Runtime: 0.00036\n"
     ]
    }
   ],
   "source": [
    "data = [1, 2, 9, 8, 3, 4, 7, 6, 5]\n",
    "\n",
    "tick = time.time()\n",
    "result = merge_sort(data)\n",
    "print(f'Result: {result}')\n",
    "tock = time.time()\n",
    "\n",
    "print(f'Runtime: {tock-tick:.5f}')"
   ]
  },
  {
   "cell_type": "code",
   "execution_count": 13,
   "id": "25331f69",
   "metadata": {},
   "outputs": [
    {
     "name": "stdout",
     "output_type": "stream",
     "text": [
      "Result: [1, 1, 1, 1, 1, 1, 1, 1, 1, 1, 1, 1, 1, 1, 1, 1, 2, 2, 2, 2, 2, 2, 2, 2, 2, 2, 2, 2, 2, 2, 2, 2, 3, 3, 3, 3, 3, 3, 3, 3, 3, 3, 3, 3, 3, 3, 3, 3, 4, 4, 4, 4, 4, 4, 4, 4, 4, 4, 4, 4, 4, 4, 4, 4, 5, 5, 5, 5, 5, 5, 5, 5, 5, 5, 5, 5, 5, 5, 5, 5, 6, 6, 6, 6, 6, 6, 6, 6, 6, 6, 6, 6, 6, 6, 6, 6, 7, 7, 7, 7, 7, 7, 7, 7, 7, 7, 7, 7, 7, 7, 7, 7, 8, 8, 8, 8, 8, 8, 8, 8, 8, 8, 8, 8, 8, 8, 8, 8, 9, 9, 9, 9, 9, 9, 9, 9, 9, 9, 9, 9, 9, 9, 9, 9]\n",
      "Runtime: 0.00441\n"
     ]
    }
   ],
   "source": [
    "data = [1, 2, 9, 8, 3, 4, 7, 6, 5] * 16\n",
    "\n",
    "tick = time.time()\n",
    "result = merge_sort(data)\n",
    "print(f'Result: {result}')\n",
    "tock = time.time()\n",
    "\n",
    "print(f'Runtime: {tock-tick:.5f}')"
   ]
  },
  {
   "cell_type": "markdown",
   "id": "6450d325",
   "metadata": {},
   "source": [
    "## Quadratic Time — O(n²)"
   ]
  },
  {
   "cell_type": "code",
   "execution_count": 14,
   "id": "446e7515",
   "metadata": {},
   "outputs": [],
   "source": [
    "def bubble_sort(data):\n",
    "    \n",
    "    swapped = True\n",
    "    \n",
    "    while swapped:\n",
    "        \n",
    "        swapped = False\n",
    "        for i in range(len(data)-1):\n",
    "            if data[i] > data[i+1]:\n",
    "                data[i], data[i+1] = data[i+1], data[i]\n",
    "                swapped = True\n",
    "                \n",
    "    return data"
   ]
  },
  {
   "cell_type": "code",
   "execution_count": 15,
   "id": "4b7d6c26",
   "metadata": {},
   "outputs": [
    {
     "name": "stdout",
     "output_type": "stream",
     "text": [
      "Result: [1, 2, 3, 4, 5, 6, 7, 8, 9]\n",
      "Runtime: 0.00092\n"
     ]
    }
   ],
   "source": [
    "data = [1, 2, 9, 8, 3, 4, 7, 6, 5]\n",
    "\n",
    "tick = time.time()\n",
    "result = bubble_sort(data)\n",
    "print(f'Result: {result}')\n",
    "tock = time.time()\n",
    "\n",
    "print(f'Runtime: {tock-tick:.5f}')"
   ]
  },
  {
   "cell_type": "code",
   "execution_count": 16,
   "id": "a7794df0",
   "metadata": {},
   "outputs": [
    {
     "name": "stdout",
     "output_type": "stream",
     "text": [
      "Result: [1, 1, 1, 1, 1, 1, 1, 1, 1, 1, 1, 1, 1, 1, 1, 1, 2, 2, 2, 2, 2, 2, 2, 2, 2, 2, 2, 2, 2, 2, 2, 2, 3, 3, 3, 3, 3, 3, 3, 3, 3, 3, 3, 3, 3, 3, 3, 3, 4, 4, 4, 4, 4, 4, 4, 4, 4, 4, 4, 4, 4, 4, 4, 4, 5, 5, 5, 5, 5, 5, 5, 5, 5, 5, 5, 5, 5, 5, 5, 5, 6, 6, 6, 6, 6, 6, 6, 6, 6, 6, 6, 6, 6, 6, 6, 6, 7, 7, 7, 7, 7, 7, 7, 7, 7, 7, 7, 7, 7, 7, 7, 7, 8, 8, 8, 8, 8, 8, 8, 8, 8, 8, 8, 8, 8, 8, 8, 8, 9, 9, 9, 9, 9, 9, 9, 9, 9, 9, 9, 9, 9, 9, 9, 9]\n",
      "Runtime: 0.00686\n"
     ]
    }
   ],
   "source": [
    "data = [1, 2, 9, 8, 3, 4, 7, 6, 5] * 16\n",
    "\n",
    "tick = time.time()\n",
    "result = bubble_sort(data)\n",
    "print(f'Result: {result}')\n",
    "tock = time.time()\n",
    "\n",
    "print(f'Runtime: {tock-tick:.5f}')"
   ]
  },
  {
   "cell_type": "markdown",
   "id": "75328bdc",
   "metadata": {},
   "source": [
    "## Exponential Time — O(2^n)"
   ]
  },
  {
   "cell_type": "code",
   "execution_count": 17,
   "id": "01dc2d62",
   "metadata": {},
   "outputs": [],
   "source": [
    "def fibonacci(size):\n",
    "    \n",
    "    if size <= 1:\n",
    "        return size\n",
    "    \n",
    "    return fibonacci(size-1) + fibonacci(size-2)"
   ]
  },
  {
   "cell_type": "code",
   "execution_count": 18,
   "id": "31d83c58",
   "metadata": {},
   "outputs": [
    {
     "name": "stdout",
     "output_type": "stream",
     "text": [
      "Result: 3\n",
      "Runtime: 0.00036\n"
     ]
    }
   ],
   "source": [
    "tick = time.time()\n",
    "result = fibonacci(size=4)\n",
    "print(f'Result: {result}')\n",
    "tock = time.time()\n",
    "\n",
    "print(f'Runtime: {tock-tick:.5f}')"
   ]
  },
  {
   "cell_type": "code",
   "execution_count": 19,
   "id": "c7ded8fb",
   "metadata": {},
   "outputs": [
    {
     "name": "stdout",
     "output_type": "stream",
     "text": [
      "Result: 987\n",
      "Runtime: 0.00499\n"
     ]
    }
   ],
   "source": [
    "tick = time.time()\n",
    "result = fibonacci(size=16)\n",
    "print(f'Result: {result}')\n",
    "tock = time.time()\n",
    "\n",
    "print(f'Runtime: {tock-tick:.5f}')"
   ]
  },
  {
   "cell_type": "markdown",
   "id": "ae36a929",
   "metadata": {},
   "source": [
    "## Factorial — O(n!)"
   ]
  },
  {
   "cell_type": "code",
   "execution_count": 20,
   "id": "45fddb3f",
   "metadata": {},
   "outputs": [],
   "source": [
    "def heap_permutation(data, size):\n",
    "    \n",
    "    if size == 1:\n",
    "        print(data)\n",
    "        return\n",
    "    \n",
    "    for i in range(size):\n",
    "        \n",
    "        heap_permutation(data, size-1)\n",
    "        \n",
    "        if size % 2 == 0:\n",
    "            data[i], data[size-1] = data[size-1], data[i]\n",
    "        else:\n",
    "            data[0], data[size-1] = data[size-1], data[0]"
   ]
  },
  {
   "cell_type": "code",
   "execution_count": 21,
   "id": "a3e76478",
   "metadata": {},
   "outputs": [
    {
     "name": "stdout",
     "output_type": "stream",
     "text": [
      "[1, 2, 3]\n",
      "[2, 1, 3]\n",
      "[3, 1, 2]\n",
      "[1, 3, 2]\n",
      "[2, 3, 1]\n",
      "[3, 2, 1]\n",
      "Result: None\n",
      "Runtime: 0.00365\n"
     ]
    }
   ],
   "source": [
    "data = [1, 2, 3]\n",
    "\n",
    "tick = time.time()\n",
    "result = heap_permutation(data, size=len(data))\n",
    "print(f'Result: {result}')\n",
    "tock = time.time()\n",
    "\n",
    "print(f'Runtime: {tock-tick:.5f}')"
   ]
  },
  {
   "cell_type": "code",
   "execution_count": 22,
   "id": "11a3aae1",
   "metadata": {},
   "outputs": [
    {
     "name": "stdout",
     "output_type": "stream",
     "text": [
      "[1, 2, 3, 4, 5]\n",
      "[2, 1, 3, 4, 5]\n",
      "[3, 1, 2, 4, 5]\n",
      "[1, 3, 2, 4, 5]\n",
      "[2, 3, 1, 4, 5]\n",
      "[3, 2, 1, 4, 5]\n",
      "[4, 2, 3, 1, 5]\n",
      "[2, 4, 3, 1, 5]\n",
      "[3, 4, 2, 1, 5]\n",
      "[4, 3, 2, 1, 5]\n",
      "[2, 3, 4, 1, 5]\n",
      "[3, 2, 4, 1, 5]\n",
      "[4, 1, 3, 2, 5]\n",
      "[1, 4, 3, 2, 5]\n",
      "[3, 4, 1, 2, 5]\n",
      "[4, 3, 1, 2, 5]\n",
      "[1, 3, 4, 2, 5]\n",
      "[3, 1, 4, 2, 5]\n",
      "[4, 1, 2, 3, 5]\n",
      "[1, 4, 2, 3, 5]\n",
      "[2, 4, 1, 3, 5]\n",
      "[4, 2, 1, 3, 5]\n",
      "[1, 2, 4, 3, 5]\n",
      "[2, 1, 4, 3, 5]\n",
      "[5, 1, 2, 3, 4]\n",
      "[1, 5, 2, 3, 4]\n",
      "[2, 5, 1, 3, 4]\n",
      "[5, 2, 1, 3, 4]\n",
      "[1, 2, 5, 3, 4]\n",
      "[2, 1, 5, 3, 4]\n",
      "[3, 1, 2, 5, 4]\n",
      "[1, 3, 2, 5, 4]\n",
      "[2, 3, 1, 5, 4]\n",
      "[3, 2, 1, 5, 4]\n",
      "[1, 2, 3, 5, 4]\n",
      "[2, 1, 3, 5, 4]\n",
      "[3, 5, 2, 1, 4]\n",
      "[5, 3, 2, 1, 4]\n",
      "[2, 3, 5, 1, 4]\n",
      "[3, 2, 5, 1, 4]\n",
      "[5, 2, 3, 1, 4]\n",
      "[2, 5, 3, 1, 4]\n",
      "[3, 5, 1, 2, 4]\n",
      "[5, 3, 1, 2, 4]\n",
      "[1, 3, 5, 2, 4]\n",
      "[3, 1, 5, 2, 4]\n",
      "[5, 1, 3, 2, 4]\n",
      "[1, 5, 3, 2, 4]\n",
      "[4, 5, 1, 2, 3]\n",
      "[5, 4, 1, 2, 3]\n",
      "[1, 4, 5, 2, 3]\n",
      "[4, 1, 5, 2, 3]\n",
      "[5, 1, 4, 2, 3]\n",
      "[1, 5, 4, 2, 3]\n",
      "[2, 5, 1, 4, 3]\n",
      "[5, 2, 1, 4, 3]\n",
      "[1, 2, 5, 4, 3]\n",
      "[2, 1, 5, 4, 3]\n",
      "[5, 1, 2, 4, 3]\n",
      "[1, 5, 2, 4, 3]\n",
      "[2, 4, 1, 5, 3]\n",
      "[4, 2, 1, 5, 3]\n",
      "[1, 2, 4, 5, 3]\n",
      "[2, 1, 4, 5, 3]\n",
      "[4, 1, 2, 5, 3]\n",
      "[1, 4, 2, 5, 3]\n",
      "[2, 4, 5, 1, 3]\n",
      "[4, 2, 5, 1, 3]\n",
      "[5, 2, 4, 1, 3]\n",
      "[2, 5, 4, 1, 3]\n",
      "[4, 5, 2, 1, 3]\n",
      "[5, 4, 2, 1, 3]\n",
      "[3, 4, 5, 1, 2]\n",
      "[4, 3, 5, 1, 2]\n",
      "[5, 3, 4, 1, 2]\n",
      "[3, 5, 4, 1, 2]\n",
      "[4, 5, 3, 1, 2]\n",
      "[5, 4, 3, 1, 2]\n",
      "[1, 4, 5, 3, 2]\n",
      "[4, 1, 5, 3, 2]\n",
      "[5, 1, 4, 3, 2]\n",
      "[1, 5, 4, 3, 2]\n",
      "[4, 5, 1, 3, 2]\n",
      "[5, 4, 1, 3, 2]\n",
      "[1, 3, 5, 4, 2]\n",
      "[3, 1, 5, 4, 2]\n",
      "[5, 1, 3, 4, 2]\n",
      "[1, 5, 3, 4, 2]\n",
      "[3, 5, 1, 4, 2]\n",
      "[5, 3, 1, 4, 2]\n",
      "[1, 3, 4, 5, 2]\n",
      "[3, 1, 4, 5, 2]\n",
      "[4, 1, 3, 5, 2]\n",
      "[1, 4, 3, 5, 2]\n",
      "[3, 4, 1, 5, 2]\n",
      "[4, 3, 1, 5, 2]\n",
      "[2, 3, 4, 5, 1]\n",
      "[3, 2, 4, 5, 1]\n",
      "[4, 2, 3, 5, 1]\n",
      "[2, 4, 3, 5, 1]\n",
      "[3, 4, 2, 5, 1]\n",
      "[4, 3, 2, 5, 1]\n",
      "[5, 3, 4, 2, 1]\n",
      "[3, 5, 4, 2, 1]\n",
      "[4, 5, 3, 2, 1]\n",
      "[5, 4, 3, 2, 1]\n",
      "[3, 4, 5, 2, 1]\n",
      "[4, 3, 5, 2, 1]\n",
      "[5, 2, 4, 3, 1]\n",
      "[2, 5, 4, 3, 1]\n",
      "[4, 5, 2, 3, 1]\n",
      "[5, 4, 2, 3, 1]\n",
      "[2, 4, 5, 3, 1]\n",
      "[4, 2, 5, 3, 1]\n",
      "[5, 2, 3, 4, 1]\n",
      "[2, 5, 3, 4, 1]\n",
      "[3, 5, 2, 4, 1]\n",
      "[5, 3, 2, 4, 1]\n",
      "[2, 3, 5, 4, 1]\n",
      "[3, 2, 5, 4, 1]\n",
      "Result: None\n",
      "Runtime: 0.00874\n"
     ]
    }
   ],
   "source": [
    "data = [1, 2, 3, 4, 5]\n",
    "\n",
    "tick = time.time()\n",
    "result = heap_permutation(data, size=len(data))\n",
    "print(f'Result: {result}')\n",
    "tock = time.time()\n",
    "\n",
    "print(f'Runtime: {tock-tick:.5f}')"
   ]
  },
  {
   "cell_type": "markdown",
   "id": "527a1c48",
   "metadata": {},
   "source": [
    "---"
   ]
  }
 ],
 "metadata": {
  "kernelspec": {
   "display_name": "Python 3",
   "language": "python",
   "name": "python3"
  },
  "language_info": {
   "codemirror_mode": {
    "name": "ipython",
    "version": 3
   },
   "file_extension": ".py",
   "mimetype": "text/x-python",
   "name": "python",
   "nbconvert_exporter": "python",
   "pygments_lexer": "ipython3",
   "version": "3.8.8"
  }
 },
 "nbformat": 4,
 "nbformat_minor": 5
}
