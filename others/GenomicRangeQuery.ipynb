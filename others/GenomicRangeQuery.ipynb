{
 "cells": [
  {
   "cell_type": "markdown",
   "id": "22ae7621",
   "metadata": {},
   "source": [
    "Find the minimal nucleotide from a range of sequence DNA."
   ]
  },
  {
   "cell_type": "code",
   "execution_count": 1,
   "id": "ca637ca9",
   "metadata": {},
   "outputs": [],
   "source": [
    "def find_minimal_nucleotide(S, P, Q):\n",
    "    \n",
    "    S_length = len(S)\n",
    "    last_seen = [[-1, -1, -1, -1] for _ in range(S_length)]\n",
    "    \n",
    "    for x in range(S_length):\n",
    "        \n",
    "        for i, j in enumerate(list('ACGT')):\n",
    "            \n",
    "            if S[x] == j:\n",
    "                last_seen[x][i] = x\n",
    "            elif x>0:\n",
    "                last_seen[x][i] = last_seen[x-1][i]\n",
    "                \n",
    "    result = []\n",
    "    \n",
    "    for x in range(len(P)):\n",
    "        \n",
    "        start_idx = P[x]\n",
    "        relevant_last_seen = last_seen[Q[x]]\n",
    "        result.append((min([i+1 for i,x in enumerate(relevant_last_seen) if x>= start_idx])))\n",
    "        \n",
    "    return result"
   ]
  },
  {
   "cell_type": "code",
   "execution_count": 2,
   "id": "57eed9f4",
   "metadata": {},
   "outputs": [
    {
     "data": {
      "text/plain": [
       "[2, 4, 1]"
      ]
     },
     "execution_count": 2,
     "metadata": {},
     "output_type": "execute_result"
    }
   ],
   "source": [
    "S = 'CAGCCTA'\n",
    "P = [2, 5, 0]\n",
    "Q = [4, 5, 6]\n",
    "\n",
    "find_minimal_nucleotide(S, P, Q)"
   ]
  },
  {
   "cell_type": "markdown",
   "id": "44468df7",
   "metadata": {},
   "source": [
    "---"
   ]
  }
 ],
 "metadata": {
  "kernelspec": {
   "display_name": "Python 3",
   "language": "python",
   "name": "python3"
  },
  "language_info": {
   "codemirror_mode": {
    "name": "ipython",
    "version": 3
   },
   "file_extension": ".py",
   "mimetype": "text/x-python",
   "name": "python",
   "nbconvert_exporter": "python",
   "pygments_lexer": "ipython3",
   "version": "3.8.8"
  }
 },
 "nbformat": 4,
 "nbformat_minor": 5
}
