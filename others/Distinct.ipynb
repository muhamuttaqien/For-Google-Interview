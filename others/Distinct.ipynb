{
 "cells": [
  {
   "cell_type": "markdown",
   "id": "f0ba92b5",
   "metadata": {},
   "source": [
    "Compute number of distinct values in an array."
   ]
  },
  {
   "cell_type": "code",
   "execution_count": 9,
   "id": "11392254",
   "metadata": {},
   "outputs": [],
   "source": [
    "def count_distinct(data):\n",
    "    \n",
    "    data_length = len(data)\n",
    "    \n",
    "    counter = 0\n",
    "    \n",
    "    for i in range(1, data_length):\n",
    "        \n",
    "        j = 0\n",
    "        \n",
    "        for j in range(i):\n",
    "            \n",
    "            if (data[i] == data[j]):\n",
    "                break\n",
    "        \n",
    "        if (i == j + 1):\n",
    "            counter += 1\n",
    "        \n",
    "    return counter"
   ]
  },
  {
   "cell_type": "code",
   "execution_count": 10,
   "id": "60586890",
   "metadata": {},
   "outputs": [
    {
     "data": {
      "text/plain": [
       "3"
      ]
     },
     "execution_count": 10,
     "metadata": {},
     "output_type": "execute_result"
    }
   ],
   "source": [
    "data = [2, 1, 1, 2, 3, 1]\n",
    "count_distinct(data)"
   ]
  },
  {
   "cell_type": "markdown",
   "id": "5864cfbc",
   "metadata": {},
   "source": [
    "---"
   ]
  }
 ],
 "metadata": {
  "kernelspec": {
   "display_name": "Python 3",
   "language": "python",
   "name": "python3"
  },
  "language_info": {
   "codemirror_mode": {
    "name": "ipython",
    "version": 3
   },
   "file_extension": ".py",
   "mimetype": "text/x-python",
   "name": "python",
   "nbconvert_exporter": "python",
   "pygments_lexer": "ipython3",
   "version": "3.8.8"
  }
 },
 "nbformat": 4,
 "nbformat_minor": 5
}
