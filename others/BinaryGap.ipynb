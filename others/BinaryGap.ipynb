{
 "cells": [
  {
   "cell_type": "markdown",
   "id": "4cbdadb3",
   "metadata": {},
   "source": [
    "Find longest sequence of zeros in binary representation of an integer."
   ]
  },
  {
   "cell_type": "code",
   "execution_count": 1,
   "id": "0d90ccb3",
   "metadata": {},
   "outputs": [],
   "source": [
    "def find_binary_gap(N):\n",
    "    \n",
    "    max_gap_length = 0\n",
    "    current_gap_length = 0\n",
    "    \n",
    "    ignorance = False\n",
    "    \n",
    "    for i in range(N.bit_length()):\n",
    "        \n",
    "        if N & (1 << i):\n",
    "            # set, any gap is over.\n",
    "            if current_gap_length > max_gap_length:\n",
    "                max_gap_length = current_gap_length\n",
    "                \n",
    "            current_gap_length = 0\n",
    "            \n",
    "            ignorance = False\n",
    "            \n",
    "        else:\n",
    "            \n",
    "            # ignore when 0 starting from the last\n",
    "            if i == 0 or ignorance:\n",
    "                current_gap_length = 0\n",
    "                ignorance = True\n",
    "            else: \n",
    "                # not set, the gap widens\n",
    "                current_gap_length += 1\n",
    "    \n",
    "    # gap might end at the end\n",
    "    if current_gap_length > max_gap_length:\n",
    "        max_gap_length = current_gap_length\n",
    "    \n",
    "    return max_gap_length"
   ]
  },
  {
   "cell_type": "code",
   "execution_count": 2,
   "id": "4e5ca487",
   "metadata": {
    "scrolled": true
   },
   "outputs": [
    {
     "data": {
      "text/plain": [
       "2"
      ]
     },
     "execution_count": 2,
     "metadata": {},
     "output_type": "execute_result"
    }
   ],
   "source": [
    "find_binary_gap(9) # 1001"
   ]
  },
  {
   "cell_type": "code",
   "execution_count": 3,
   "id": "2f212932",
   "metadata": {},
   "outputs": [
    {
     "data": {
      "text/plain": [
       "4"
      ]
     },
     "execution_count": 3,
     "metadata": {},
     "output_type": "execute_result"
    }
   ],
   "source": [
    "find_binary_gap(529) # 1000010001"
   ]
  },
  {
   "cell_type": "code",
   "execution_count": 4,
   "id": "e94b0c54",
   "metadata": {},
   "outputs": [
    {
     "data": {
      "text/plain": [
       "1"
      ]
     },
     "execution_count": 4,
     "metadata": {},
     "output_type": "execute_result"
    }
   ],
   "source": [
    "find_binary_gap(20) # 10100 (should be 1)"
   ]
  },
  {
   "cell_type": "code",
   "execution_count": 5,
   "id": "6f8b41fd",
   "metadata": {},
   "outputs": [
    {
     "data": {
      "text/plain": [
       "0"
      ]
     },
     "execution_count": 5,
     "metadata": {},
     "output_type": "execute_result"
    }
   ],
   "source": [
    "find_binary_gap(15) # 1111"
   ]
  },
  {
   "cell_type": "code",
   "execution_count": 6,
   "id": "221bc163",
   "metadata": {},
   "outputs": [
    {
     "data": {
      "text/plain": [
       "0"
      ]
     },
     "execution_count": 6,
     "metadata": {},
     "output_type": "execute_result"
    }
   ],
   "source": [
    "find_binary_gap(32) # 100000 (should be 0)"
   ]
  },
  {
   "cell_type": "markdown",
   "id": "34a17ef0",
   "metadata": {},
   "source": [
    "---"
   ]
  }
 ],
 "metadata": {
  "kernelspec": {
   "display_name": "Python 3",
   "language": "python",
   "name": "python3"
  },
  "language_info": {
   "codemirror_mode": {
    "name": "ipython",
    "version": 3
   },
   "file_extension": ".py",
   "mimetype": "text/x-python",
   "name": "python",
   "nbconvert_exporter": "python",
   "pygments_lexer": "ipython3",
   "version": "3.8.8"
  }
 },
 "nbformat": 4,
 "nbformat_minor": 5
}
