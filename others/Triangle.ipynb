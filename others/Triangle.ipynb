{
 "cells": [
  {
   "cell_type": "markdown",
   "id": "af4193a3",
   "metadata": {},
   "source": [
    "Determine whether a triangle can be built from a given set of edges."
   ]
  },
  {
   "cell_type": "code",
   "execution_count": 1,
   "id": "93f05906",
   "metadata": {},
   "outputs": [],
   "source": [
    "def determine_triangle(data):\n",
    "    \n",
    "    data.sort(reverse=True)\n",
    "    \n",
    "    list_length = len(data) - 2\n",
    "    \n",
    "    for i in range(list_length):\n",
    "        if data[i] < data[i+1] + data[i+2]:\n",
    "            return 1\n",
    "        \n",
    "    return 0"
   ]
  },
  {
   "cell_type": "code",
   "execution_count": 2,
   "id": "3696efc7",
   "metadata": {},
   "outputs": [
    {
     "data": {
      "text/plain": [
       "1"
      ]
     },
     "execution_count": 2,
     "metadata": {},
     "output_type": "execute_result"
    }
   ],
   "source": [
    "data = [10, 2, 5, 1, 8, 20]\n",
    "determine_triangle(data)"
   ]
  },
  {
   "cell_type": "code",
   "execution_count": 3,
   "id": "21e97a7d",
   "metadata": {},
   "outputs": [
    {
     "data": {
      "text/plain": [
       "0"
      ]
     },
     "execution_count": 3,
     "metadata": {},
     "output_type": "execute_result"
    }
   ],
   "source": [
    "data = [10, 50, 5, 1]\n",
    "determine_triangle(data)"
   ]
  },
  {
   "cell_type": "markdown",
   "id": "948108b4",
   "metadata": {},
   "source": [
    "---"
   ]
  }
 ],
 "metadata": {
  "kernelspec": {
   "display_name": "Python 3",
   "language": "python",
   "name": "python3"
  },
  "language_info": {
   "codemirror_mode": {
    "name": "ipython",
    "version": 3
   },
   "file_extension": ".py",
   "mimetype": "text/x-python",
   "name": "python",
   "nbconvert_exporter": "python",
   "pygments_lexer": "ipython3",
   "version": "3.8.8"
  }
 },
 "nbformat": 4,
 "nbformat_minor": 5
}
