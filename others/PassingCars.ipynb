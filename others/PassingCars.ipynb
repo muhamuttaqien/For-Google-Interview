{
 "cells": [
  {
   "cell_type": "markdown",
   "id": "e2e0e56a",
   "metadata": {},
   "source": [
    "Count the number of passing cars on the road."
   ]
  },
  {
   "cell_type": "code",
   "execution_count": 1,
   "id": "7bb7bed3",
   "metadata": {},
   "outputs": [],
   "source": [
    "def get_passing_cars(data):\n",
    "    \n",
    "    data_length = len(data)\n",
    "    counter = 0\n",
    "    \n",
    "    for i in range(0, data_length-1, 1):\n",
    "        \n",
    "        if (data[i] == 0):\n",
    "            for j in range(i+1, data_length, 1):\n",
    "                \n",
    "                if (data[j]):\n",
    "                    counter += 1\n",
    "                    \n",
    "    return counter "
   ]
  },
  {
   "cell_type": "code",
   "execution_count": 2,
   "id": "a9b23867",
   "metadata": {},
   "outputs": [
    {
     "data": {
      "text/plain": [
       "5"
      ]
     },
     "execution_count": 2,
     "metadata": {},
     "output_type": "execute_result"
    }
   ],
   "source": [
    "data = [0, 1, 0, 1, 1]\n",
    "get_passing_cars(data)"
   ]
  },
  {
   "cell_type": "markdown",
   "id": "aac67a88",
   "metadata": {},
   "source": [
    "---"
   ]
  }
 ],
 "metadata": {
  "kernelspec": {
   "display_name": "Python 3",
   "language": "python",
   "name": "python3"
  },
  "language_info": {
   "codemirror_mode": {
    "name": "ipython",
    "version": 3
   },
   "file_extension": ".py",
   "mimetype": "text/x-python",
   "name": "python",
   "nbconvert_exporter": "python",
   "pygments_lexer": "ipython3",
   "version": "3.8.8"
  }
 },
 "nbformat": 4,
 "nbformat_minor": 5
}
