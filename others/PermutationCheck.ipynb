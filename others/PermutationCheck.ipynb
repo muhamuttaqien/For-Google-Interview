{
 "cells": [
  {
   "cell_type": "markdown",
   "id": "f76825a3",
   "metadata": {},
   "source": [
    "Check whether array A is a permutation."
   ]
  },
  {
   "cell_type": "code",
   "execution_count": 1,
   "id": "8aceca85",
   "metadata": {},
   "outputs": [],
   "source": [
    "def is_permutation(data):\n",
    "    \n",
    "    data_length = len(data)\n",
    "    data = list(set(data))\n",
    "    \n",
    "    if data_length != len(data):\n",
    "        return 0\n",
    "    \n",
    "    if len(data) != max(data):\n",
    "        return 0\n",
    "    \n",
    "    return 1"
   ]
  },
  {
   "cell_type": "code",
   "execution_count": 2,
   "id": "426c4af6",
   "metadata": {},
   "outputs": [
    {
     "data": {
      "text/plain": [
       "1"
      ]
     },
     "execution_count": 2,
     "metadata": {},
     "output_type": "execute_result"
    }
   ],
   "source": [
    "data = [4, 1, 3, 2]\n",
    "is_permutation(data)"
   ]
  },
  {
   "cell_type": "code",
   "execution_count": 3,
   "id": "69a8ed2f",
   "metadata": {},
   "outputs": [
    {
     "data": {
      "text/plain": [
       "0"
      ]
     },
     "execution_count": 3,
     "metadata": {},
     "output_type": "execute_result"
    }
   ],
   "source": [
    "data = [4, 1, 3]\n",
    "is_permutation(data)"
   ]
  },
  {
   "cell_type": "markdown",
   "id": "620965dd",
   "metadata": {},
   "source": [
    "---"
   ]
  }
 ],
 "metadata": {
  "kernelspec": {
   "display_name": "Python 3",
   "language": "python",
   "name": "python3"
  },
  "language_info": {
   "codemirror_mode": {
    "name": "ipython",
    "version": 3
   },
   "file_extension": ".py",
   "mimetype": "text/x-python",
   "name": "python",
   "nbconvert_exporter": "python",
   "pygments_lexer": "ipython3",
   "version": "3.8.8"
  }
 },
 "nbformat": 4,
 "nbformat_minor": 5
}
