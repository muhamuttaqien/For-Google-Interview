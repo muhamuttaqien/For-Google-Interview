{
 "cells": [
  {
   "cell_type": "markdown",
   "id": "544d2dea",
   "metadata": {},
   "source": [
    "Maximize A[P] * A[Q] * A[R] for any triplet (P, Q, R)."
   ]
  },
  {
   "cell_type": "code",
   "execution_count": 1,
   "id": "c0fa00f9",
   "metadata": {},
   "outputs": [],
   "source": [
    "def maximize_triplet(data):\n",
    "    \n",
    "    data_length = len(data)\n",
    "    \n",
    "    if (data == None or data_length < 3):\n",
    "        return 0\n",
    "    \n",
    "    data.sort()\n",
    "    \n",
    "    last_index = data_length - 1\n",
    "    biggest_element = data[last_index] * data[last_index - 1] * data[last_index - 2]\n",
    "    two_biggest_negs = data[0] * data[1] * data[last_index]\n",
    "    \n",
    "    max_product = max(biggest_element, two_biggest_negs)\n",
    "    \n",
    "    return max_product"
   ]
  },
  {
   "cell_type": "code",
   "execution_count": 2,
   "id": "98310576",
   "metadata": {},
   "outputs": [
    {
     "data": {
      "text/plain": [
       "60"
      ]
     },
     "execution_count": 2,
     "metadata": {},
     "output_type": "execute_result"
    }
   ],
   "source": [
    "data = [-3, 1, 2, -2, 5, 6]\n",
    "maximize_triplet(data)"
   ]
  },
  {
   "cell_type": "markdown",
   "id": "f8b82e92",
   "metadata": {},
   "source": [
    "---"
   ]
  }
 ],
 "metadata": {
  "kernelspec": {
   "display_name": "Python 3",
   "language": "python",
   "name": "python3"
  },
  "language_info": {
   "codemirror_mode": {
    "name": "ipython",
    "version": 3
   },
   "file_extension": ".py",
   "mimetype": "text/x-python",
   "name": "python",
   "nbconvert_exporter": "python",
   "pygments_lexer": "ipython3",
   "version": "3.8.8"
  }
 },
 "nbformat": 4,
 "nbformat_minor": 5
}
