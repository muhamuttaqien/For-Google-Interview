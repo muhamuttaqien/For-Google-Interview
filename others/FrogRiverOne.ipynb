{
 "cells": [
  {
   "cell_type": "markdown",
   "id": "1bfaf3df",
   "metadata": {},
   "source": [
    "Find the earliest time when a frog can jump to the other side of a river."
   ]
  },
  {
   "cell_type": "code",
   "execution_count": 1,
   "id": "65b4fec1",
   "metadata": {},
   "outputs": [],
   "source": [
    "def find_earliest_time(X, A):\n",
    "    \n",
    "    i = 0\n",
    "    dict_temp = {}\n",
    "    \n",
    "    while i < len(A):\n",
    "        dict_temp[A[i]] = i\n",
    "        if len(dict_temp) == X:\n",
    "            return i\n",
    "        i += 1\n",
    "        \n",
    "    return -1"
   ]
  },
  {
   "cell_type": "code",
   "execution_count": 2,
   "id": "b3d95b2f",
   "metadata": {},
   "outputs": [
    {
     "data": {
      "text/plain": [
       "6"
      ]
     },
     "execution_count": 2,
     "metadata": {},
     "output_type": "execute_result"
    }
   ],
   "source": [
    "X = 5\n",
    "A = [1, 3, 1, 4, 2, 3, 5, 4]\n",
    "find_earliest_time(X, A)"
   ]
  },
  {
   "cell_type": "markdown",
   "id": "410886b2",
   "metadata": {},
   "source": [
    "---"
   ]
  }
 ],
 "metadata": {
  "kernelspec": {
   "display_name": "Python 3",
   "language": "python",
   "name": "python3"
  },
  "language_info": {
   "codemirror_mode": {
    "name": "ipython",
    "version": 3
   },
   "file_extension": ".py",
   "mimetype": "text/x-python",
   "name": "python",
   "nbconvert_exporter": "python",
   "pygments_lexer": "ipython3",
   "version": "3.8.8"
  }
 },
 "nbformat": 4,
 "nbformat_minor": 5
}
