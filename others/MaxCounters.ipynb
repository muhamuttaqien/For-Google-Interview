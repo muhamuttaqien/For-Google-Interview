{
 "cells": [
  {
   "cell_type": "markdown",
   "id": "5a0ab3d2",
   "metadata": {},
   "source": [
    "Calculate the values of counters after applying all alternating operations: increase counter by 1; set value of all counters to current maximum."
   ]
  },
  {
   "cell_type": "code",
   "execution_count": 1,
   "id": "f465f5eb",
   "metadata": {},
   "outputs": [],
   "source": [
    "def calculate_counters(N, data):\n",
    "    \n",
    "    counters = [0] * N\n",
    "    \n",
    "    max_element = 0\n",
    "    base = 0\n",
    "    \n",
    "    for item in data:\n",
    "        \n",
    "        if item >= 1 and N >= item:\n",
    "            counters[item-1] = max(counters[item-1], base) + 1\n",
    "            max_element = max(counters[item - 1], max_element)\n",
    "            \n",
    "        elif item == N + 1:\n",
    "            base = max_element\n",
    "                        \n",
    "    for i in range(N):\n",
    "        counters[i] = max(counters[i], base)\n",
    "    \n",
    "    return counters"
   ]
  },
  {
   "cell_type": "code",
   "execution_count": 2,
   "id": "6b12542e",
   "metadata": {},
   "outputs": [
    {
     "data": {
      "text/plain": [
       "[3, 2, 2, 4, 2]"
      ]
     },
     "execution_count": 2,
     "metadata": {},
     "output_type": "execute_result"
    }
   ],
   "source": [
    "N = 5\n",
    "data = [3, 4, 4, 6, 1, 4, 4]\n",
    "calculate_counters(N, data)"
   ]
  },
  {
   "cell_type": "markdown",
   "id": "be937a66",
   "metadata": {},
   "source": [
    "---"
   ]
  }
 ],
 "metadata": {
  "kernelspec": {
   "display_name": "Python 3",
   "language": "python",
   "name": "python3"
  },
  "language_info": {
   "codemirror_mode": {
    "name": "ipython",
    "version": 3
   },
   "file_extension": ".py",
   "mimetype": "text/x-python",
   "name": "python",
   "nbconvert_exporter": "python",
   "pygments_lexer": "ipython3",
   "version": "3.8.8"
  }
 },
 "nbformat": 4,
 "nbformat_minor": 5
}
