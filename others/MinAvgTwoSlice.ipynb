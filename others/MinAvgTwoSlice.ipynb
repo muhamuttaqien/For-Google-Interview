{
 "cells": [
  {
   "cell_type": "markdown",
   "id": "9a78ccd5",
   "metadata": {},
   "source": [
    "Find the minimal average of any slice containing at least two elements."
   ]
  },
  {
   "cell_type": "code",
   "execution_count": 1,
   "id": "9bf121d4",
   "metadata": {},
   "outputs": [],
   "source": [
    "def prefix_sum(data):\n",
    "    \n",
    "    data_length = len(data)\n",
    "    P = [0] * (data_length + 1)\n",
    "    \n",
    "    for k in range(1, data_length+1):\n",
    "        P[k] = P[k - 1] + data[k - 1]\n",
    "\n",
    "    return P"
   ]
  },
  {
   "cell_type": "code",
   "execution_count": 2,
   "id": "5ea0a461",
   "metadata": {},
   "outputs": [],
   "source": [
    "def find_minimal_average(data):\n",
    "    \n",
    "    data_length = len(data)\n",
    "    \n",
    "    prefix = prefix_sum(data)\n",
    "    min_mean = 1e4\n",
    "    min_idx_from = 0\n",
    "    \n",
    "    for i in range(data_length):\n",
    "        \n",
    "        for j in range(i+1, min(i+3, data_length)):\n",
    "            \n",
    "            mean = (prefix[j+1] - prefix[i]) / (j-i+1)\n",
    "            if mean < min_mean:\n",
    "                min_mean = mean\n",
    "                min_idx_from = i\n",
    "                \n",
    "    return min_idx_from"
   ]
  },
  {
   "cell_type": "code",
   "execution_count": 3,
   "id": "d90aeb9e",
   "metadata": {},
   "outputs": [
    {
     "data": {
      "text/plain": [
       "1"
      ]
     },
     "execution_count": 3,
     "metadata": {},
     "output_type": "execute_result"
    }
   ],
   "source": [
    "data = [4, 2, 2, 5, 1, 5, 8]\n",
    "find_minimal_average(data)"
   ]
  },
  {
   "cell_type": "markdown",
   "id": "2fda9290",
   "metadata": {},
   "source": [
    "---"
   ]
  }
 ],
 "metadata": {
  "kernelspec": {
   "display_name": "Python 3",
   "language": "python",
   "name": "python3"
  },
  "language_info": {
   "codemirror_mode": {
    "name": "ipython",
    "version": 3
   },
   "file_extension": ".py",
   "mimetype": "text/x-python",
   "name": "python",
   "nbconvert_exporter": "python",
   "pygments_lexer": "ipython3",
   "version": "3.8.8"
  }
 },
 "nbformat": 4,
 "nbformat_minor": 5
}
