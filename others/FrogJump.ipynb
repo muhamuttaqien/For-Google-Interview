{
 "cells": [
  {
   "cell_type": "markdown",
   "id": "21052334",
   "metadata": {},
   "source": [
    "Count minimal number of jumps from position X to Y."
   ]
  },
  {
   "cell_type": "code",
   "execution_count": 1,
   "id": "944f7fe8",
   "metadata": {},
   "outputs": [],
   "source": [
    "def count_min_frog_jump(start, end, distance):\n",
    "    \n",
    "    progress = start\n",
    "    count = 0\n",
    "    \n",
    "    while progress < end:\n",
    "        \n",
    "        progress = progress + distance\n",
    "        count += 1\n",
    "        \n",
    "    return count"
   ]
  },
  {
   "cell_type": "code",
   "execution_count": 2,
   "id": "eff3eb03",
   "metadata": {},
   "outputs": [
    {
     "data": {
      "text/plain": [
       "3"
      ]
     },
     "execution_count": 2,
     "metadata": {},
     "output_type": "execute_result"
    }
   ],
   "source": [
    "X = 10\n",
    "Y = 85\n",
    "D = 30\n",
    "\n",
    "count_min_frog_jump(X, Y, D)"
   ]
  },
  {
   "cell_type": "markdown",
   "id": "907b7e31",
   "metadata": {},
   "source": [
    "---"
   ]
  }
 ],
 "metadata": {
  "kernelspec": {
   "display_name": "Python 3",
   "language": "python",
   "name": "python3"
  },
  "language_info": {
   "codemirror_mode": {
    "name": "ipython",
    "version": 3
   },
   "file_extension": ".py",
   "mimetype": "text/x-python",
   "name": "python",
   "nbconvert_exporter": "python",
   "pygments_lexer": "ipython3",
   "version": "3.8.8"
  }
 },
 "nbformat": 4,
 "nbformat_minor": 5
}
