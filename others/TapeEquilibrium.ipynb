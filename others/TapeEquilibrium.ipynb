{
 "cells": [
  {
   "cell_type": "markdown",
   "id": "23af6ce5",
   "metadata": {},
   "source": [
    "Minimize the value |(A[0] + … + A[P-1]) – (A[P] + … + A[N-1])|."
   ]
  },
  {
   "cell_type": "code",
   "execution_count": 1,
   "id": "126df0be",
   "metadata": {},
   "outputs": [],
   "source": [
    "def find_tape_equilibrium(data):\n",
    "    \n",
    "    left = data[0]\n",
    "    right = sum(data[1::])\n",
    "    difference = abs(left - right)\n",
    "    \n",
    "    data_length = len(data)\n",
    "    \n",
    "    for i in range(1, data_length):\n",
    "        \n",
    "        lowest_difference = abs(left - right)\n",
    "        \n",
    "        if lowest_difference < difference:\n",
    "            difference = lowest_difference\n",
    "            \n",
    "        left += data[i]\n",
    "        right -= data[i]\n",
    "        \n",
    "    return difference"
   ]
  },
  {
   "cell_type": "code",
   "execution_count": 2,
   "id": "377667f2",
   "metadata": {},
   "outputs": [
    {
     "data": {
      "text/plain": [
       "1"
      ]
     },
     "execution_count": 2,
     "metadata": {},
     "output_type": "execute_result"
    }
   ],
   "source": [
    "data = [3, 1, 2, 4, 3]\n",
    "find_tape_equilibrium(data)"
   ]
  },
  {
   "cell_type": "markdown",
   "id": "65f3a798",
   "metadata": {},
   "source": [
    "---"
   ]
  }
 ],
 "metadata": {
  "kernelspec": {
   "display_name": "Python 3",
   "language": "python",
   "name": "python3"
  },
  "language_info": {
   "codemirror_mode": {
    "name": "ipython",
    "version": 3
   },
   "file_extension": ".py",
   "mimetype": "text/x-python",
   "name": "python",
   "nbconvert_exporter": "python",
   "pygments_lexer": "ipython3",
   "version": "3.8.8"
  }
 },
 "nbformat": 4,
 "nbformat_minor": 5
}
