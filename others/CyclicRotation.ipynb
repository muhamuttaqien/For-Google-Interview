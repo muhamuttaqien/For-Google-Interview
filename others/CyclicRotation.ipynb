{
 "cells": [
  {
   "cell_type": "markdown",
   "id": "521774ea",
   "metadata": {},
   "source": [
    "Rotate an array to the right by a given number of steps."
   ]
  },
  {
   "cell_type": "code",
   "execution_count": 1,
   "id": "0c3afd87",
   "metadata": {},
   "outputs": [],
   "source": [
    "def display_cyclic_rotation(data, N):\n",
    "\n",
    "    data_length = len(data)\n",
    "    \n",
    "    # rotate the given array by N times toward right\n",
    "    for i in range(N):\n",
    "\n",
    "        # stores the last element of array\n",
    "        last = data[-1]\n",
    "\n",
    "        for j in range(data_length-1, -1, -1):\n",
    "            # shift element of array by one\n",
    "            data[j] = data[j-1]\n",
    "\n",
    "        # last element of the array will be added to the start of the array\n",
    "        data[0] = last\n",
    "        \n",
    "    return data"
   ]
  },
  {
   "cell_type": "code",
   "execution_count": 2,
   "id": "00050eaa",
   "metadata": {},
   "outputs": [
    {
     "data": {
      "text/plain": [
       "[6, 3, 8, 9, 7]"
      ]
     },
     "execution_count": 2,
     "metadata": {},
     "output_type": "execute_result"
    }
   ],
   "source": [
    "data = [3, 8, 9, 7, 6]\n",
    "display_cyclic_rotation(data, N=6)"
   ]
  },
  {
   "cell_type": "code",
   "execution_count": 3,
   "id": "6c4da4ff",
   "metadata": {},
   "outputs": [
    {
     "data": {
      "text/plain": [
       "[9, 7, 6, 3, 8]"
      ]
     },
     "execution_count": 3,
     "metadata": {},
     "output_type": "execute_result"
    }
   ],
   "source": [
    "data = [3, 8, 9, 7, 6]\n",
    "display_cyclic_rotation(data, N=3)"
   ]
  },
  {
   "cell_type": "code",
   "execution_count": 4,
   "id": "c401dae6",
   "metadata": {},
   "outputs": [
    {
     "data": {
      "text/plain": [
       "[4, 1, 2, 3]"
      ]
     },
     "execution_count": 4,
     "metadata": {},
     "output_type": "execute_result"
    }
   ],
   "source": [
    "data = [1, 2, 3, 4]\n",
    "display_cyclic_rotation(data, N=1)"
   ]
  },
  {
   "cell_type": "code",
   "execution_count": 5,
   "id": "69c10f3c",
   "metadata": {},
   "outputs": [
    {
     "data": {
      "text/plain": [
       "[1, 2, 3, 4]"
      ]
     },
     "execution_count": 5,
     "metadata": {},
     "output_type": "execute_result"
    }
   ],
   "source": [
    "data = [1, 2, 3, 4]\n",
    "display_cyclic_rotation(data, N=4)"
   ]
  },
  {
   "cell_type": "markdown",
   "id": "159dddeb",
   "metadata": {},
   "source": [
    "---"
   ]
  }
 ],
 "metadata": {
  "kernelspec": {
   "display_name": "Python 3",
   "language": "python",
   "name": "python3"
  },
  "language_info": {
   "codemirror_mode": {
    "name": "ipython",
    "version": 3
   },
   "file_extension": ".py",
   "mimetype": "text/x-python",
   "name": "python",
   "nbconvert_exporter": "python",
   "pygments_lexer": "ipython3",
   "version": "3.8.8"
  }
 },
 "nbformat": 4,
 "nbformat_minor": 5
}
