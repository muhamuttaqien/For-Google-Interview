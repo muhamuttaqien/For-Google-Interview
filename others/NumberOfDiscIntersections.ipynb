{
 "cells": [
  {
   "cell_type": "markdown",
   "id": "3b0edead",
   "metadata": {},
   "source": [
    "Compute the number of intersections in a sequence of discs."
   ]
  },
  {
   "cell_type": "code",
   "execution_count": 1,
   "id": "da6588a5",
   "metadata": {},
   "outputs": [],
   "source": [
    "def compute_the_intersections(data):\n",
    "    \n",
    "    data_length = len(data)\n",
    "    \n",
    "    summation = [0] * data_length\n",
    "    \n",
    "    for i in range(data_length):\n",
    "        \n",
    "        if (data_length - 1 >= data[i] + i):\n",
    "            right = i + data[i]\n",
    "        else:\n",
    "            right = data_length - 1\n",
    "            \n",
    "        summation[right] += 1\n",
    "        \n",
    "    for i in range(1, data_length):\n",
    "        summation[i] += summation[i - 1]\n",
    "        \n",
    "    result = data_length * (data_length - 1) // 2\n",
    "    \n",
    "    for j in range(data_length):\n",
    "        \n",
    "        if (j - data[j] < 0):\n",
    "            left = 0\n",
    "        else:\n",
    "            left = j - data[j]\n",
    "            \n",
    "    if (left > 0):\n",
    "        result -= summation[left - 1]\n",
    "        \n",
    "    return result"
   ]
  },
  {
   "cell_type": "code",
   "execution_count": 2,
   "id": "3351a79c",
   "metadata": {},
   "outputs": [
    {
     "data": {
      "text/plain": [
       "12"
      ]
     },
     "execution_count": 2,
     "metadata": {},
     "output_type": "execute_result"
    }
   ],
   "source": [
    "data = [1, 5, 2, 1, 4, 0]\n",
    "compute_the_intersections(data)"
   ]
  },
  {
   "cell_type": "markdown",
   "id": "d1a22e15",
   "metadata": {},
   "source": [
    "---"
   ]
  }
 ],
 "metadata": {
  "kernelspec": {
   "display_name": "Python 3",
   "language": "python",
   "name": "python3"
  },
  "language_info": {
   "codemirror_mode": {
    "name": "ipython",
    "version": 3
   },
   "file_extension": ".py",
   "mimetype": "text/x-python",
   "name": "python",
   "nbconvert_exporter": "python",
   "pygments_lexer": "ipython3",
   "version": "3.8.8"
  }
 },
 "nbformat": 4,
 "nbformat_minor": 5
}
