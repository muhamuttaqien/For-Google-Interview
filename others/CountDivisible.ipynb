{
 "cells": [
  {
   "cell_type": "markdown",
   "id": "3085ff20",
   "metadata": {},
   "source": [
    "Compute number of integers divisible by k in range [a..b]."
   ]
  },
  {
   "cell_type": "code",
   "execution_count": 1,
   "id": "f4762a1a",
   "metadata": {},
   "outputs": [],
   "source": [
    "def count_divisible(A, B, M):\n",
    "    \n",
    "    counter = 0\n",
    "    \n",
    "    for i in range(A, B):\n",
    "        if (i % M == 0):\n",
    "            counter += 1\n",
    "            \n",
    "    return counter"
   ]
  },
  {
   "cell_type": "code",
   "execution_count": 2,
   "id": "0b85da8b",
   "metadata": {},
   "outputs": [
    {
     "data": {
      "text/plain": [
       "3"
      ]
     },
     "execution_count": 2,
     "metadata": {},
     "output_type": "execute_result"
    }
   ],
   "source": [
    "A = 6\n",
    "B = 11\n",
    "M = 2\n",
    "count_divisible(A, B, M)"
   ]
  },
  {
   "cell_type": "markdown",
   "id": "4714bfd9",
   "metadata": {},
   "source": [
    "---"
   ]
  }
 ],
 "metadata": {
  "kernelspec": {
   "display_name": "Python 3",
   "language": "python",
   "name": "python3"
  },
  "language_info": {
   "codemirror_mode": {
    "name": "ipython",
    "version": 3
   },
   "file_extension": ".py",
   "mimetype": "text/x-python",
   "name": "python",
   "nbconvert_exporter": "python",
   "pygments_lexer": "ipython3",
   "version": "3.8.8"
  }
 },
 "nbformat": 4,
 "nbformat_minor": 5
}
