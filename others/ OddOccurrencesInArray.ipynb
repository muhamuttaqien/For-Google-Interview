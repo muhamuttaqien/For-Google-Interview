{
 "cells": [
  {
   "cell_type": "markdown",
   "id": "7c15d5d2",
   "metadata": {},
   "source": [
    "Find value that occurs in odd number of elements."
   ]
  },
  {
   "cell_type": "code",
   "execution_count": 1,
   "id": "f6725cf7",
   "metadata": {},
   "outputs": [],
   "source": [
    "def get_odd_occurrence(data):\n",
    "    \n",
    "    data_length = len(data)\n",
    "\n",
    "    for i in range(data_length):\n",
    "\n",
    "        count = 0\n",
    "\n",
    "        for j in range(data_length):\n",
    "\n",
    "            if data[i] == data[j]:\n",
    "                count += 1\n",
    "\n",
    "        if (count %2 != 0):\n",
    "            return data[i]\n",
    "\n",
    "    return -1"
   ]
  },
  {
   "cell_type": "code",
   "execution_count": 2,
   "id": "4b2945eb",
   "metadata": {},
   "outputs": [
    {
     "data": {
      "text/plain": [
       "7"
      ]
     },
     "execution_count": 2,
     "metadata": {},
     "output_type": "execute_result"
    }
   ],
   "source": [
    "data = [9, 3, 9, 3, 9, 7, 9]\n",
    "get_odd_occurrence(data)"
   ]
  },
  {
   "cell_type": "code",
   "execution_count": 3,
   "id": "45af1d39",
   "metadata": {},
   "outputs": [
    {
     "data": {
      "text/plain": [
       "3"
      ]
     },
     "execution_count": 3,
     "metadata": {},
     "output_type": "execute_result"
    }
   ],
   "source": [
    "data = [1, 2, 3, 2, 3, 1, 3]\n",
    "get_odd_occurrence(data)"
   ]
  },
  {
   "cell_type": "code",
   "execution_count": 4,
   "id": "c46e1aca",
   "metadata": {},
   "outputs": [
    {
     "data": {
      "text/plain": [
       "5"
      ]
     },
     "execution_count": 4,
     "metadata": {},
     "output_type": "execute_result"
    }
   ],
   "source": [
    "data = [5, 7, 2, 7, 5, 2, 5]\n",
    "get_odd_occurrence(data)"
   ]
  },
  {
   "cell_type": "markdown",
   "id": "a9fee0e7",
   "metadata": {},
   "source": [
    "---"
   ]
  }
 ],
 "metadata": {
  "kernelspec": {
   "display_name": "Python 3",
   "language": "python",
   "name": "python3"
  },
  "language_info": {
   "codemirror_mode": {
    "name": "ipython",
    "version": 3
   },
   "file_extension": ".py",
   "mimetype": "text/x-python",
   "name": "python",
   "nbconvert_exporter": "python",
   "pygments_lexer": "ipython3",
   "version": "3.8.8"
  }
 },
 "nbformat": 4,
 "nbformat_minor": 5
}
