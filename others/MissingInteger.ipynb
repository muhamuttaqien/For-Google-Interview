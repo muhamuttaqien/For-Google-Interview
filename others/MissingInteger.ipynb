{
 "cells": [
  {
   "cell_type": "markdown",
   "id": "7ba65472",
   "metadata": {},
   "source": [
    "Find the smallest positive integer that does not occur in a given sequence."
   ]
  },
  {
   "cell_type": "code",
   "execution_count": 1,
   "id": "90212b8d",
   "metadata": {},
   "outputs": [],
   "source": [
    "def find_smallest_positive_integer(data):\n",
    "    \n",
    "    maximum = max(data)\n",
    "    \n",
    "    if maximum < 1:\n",
    "        return 1\n",
    "    \n",
    "    data = set(data)\n",
    "    complete_integer = set(range(1, maximum+1))\n",
    "    missing_integer = complete_integer - data\n",
    "    \n",
    "    if len(missing_integer) == 0:\n",
    "        return maximum + 1\n",
    "    else:\n",
    "        return min(missing_integer)"
   ]
  },
  {
   "cell_type": "code",
   "execution_count": 2,
   "id": "58048117",
   "metadata": {},
   "outputs": [
    {
     "data": {
      "text/plain": [
       "5"
      ]
     },
     "execution_count": 2,
     "metadata": {},
     "output_type": "execute_result"
    }
   ],
   "source": [
    "data = [1, 3, 6, 4, 1, 2]\n",
    "find_smallest_positive_integer(data)"
   ]
  },
  {
   "cell_type": "code",
   "execution_count": 3,
   "id": "8c0c90b4",
   "metadata": {},
   "outputs": [
    {
     "data": {
      "text/plain": [
       "4"
      ]
     },
     "execution_count": 3,
     "metadata": {},
     "output_type": "execute_result"
    }
   ],
   "source": [
    "data = [1, 2, 3]\n",
    "find_smallest_positive_integer(data)"
   ]
  },
  {
   "cell_type": "code",
   "execution_count": 4,
   "id": "244acd3b",
   "metadata": {},
   "outputs": [
    {
     "data": {
      "text/plain": [
       "1"
      ]
     },
     "execution_count": 4,
     "metadata": {},
     "output_type": "execute_result"
    }
   ],
   "source": [
    "data = [-1, -3]\n",
    "find_smallest_positive_integer(data)"
   ]
  },
  {
   "cell_type": "markdown",
   "id": "e480ae88",
   "metadata": {},
   "source": [
    "---"
   ]
  }
 ],
 "metadata": {
  "kernelspec": {
   "display_name": "Python 3",
   "language": "python",
   "name": "python3"
  },
  "language_info": {
   "codemirror_mode": {
    "name": "ipython",
    "version": 3
   },
   "file_extension": ".py",
   "mimetype": "text/x-python",
   "name": "python",
   "nbconvert_exporter": "python",
   "pygments_lexer": "ipython3",
   "version": "3.8.8"
  }
 },
 "nbformat": 4,
 "nbformat_minor": 5
}
