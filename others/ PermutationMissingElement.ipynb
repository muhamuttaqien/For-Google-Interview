{
 "cells": [
  {
   "cell_type": "markdown",
   "id": "3d951dcb",
   "metadata": {},
   "source": [
    "Find the missing element in a given permutation."
   ]
  },
  {
   "cell_type": "code",
   "execution_count": 1,
   "id": "49ed7bda",
   "metadata": {},
   "outputs": [],
   "source": [
    "def get_missing_elemet(data):\n",
    "    \n",
    "    data_length = len(data)\n",
    "    \n",
    "    total = (data_length + 1) * (data_length + 2) / 2\n",
    "    sum_of_data = sum(data)\n",
    "    missing = int(total - sum_of_data)\n",
    "    \n",
    "    return missing"
   ]
  },
  {
   "cell_type": "code",
   "execution_count": 2,
   "id": "16d0bc07",
   "metadata": {},
   "outputs": [
    {
     "data": {
      "text/plain": [
       "3"
      ]
     },
     "execution_count": 2,
     "metadata": {},
     "output_type": "execute_result"
    }
   ],
   "source": [
    "data = [1, 2, 4, 5, 6]\n",
    "get_missing_elemet(data)"
   ]
  },
  {
   "cell_type": "markdown",
   "id": "0144adb1",
   "metadata": {},
   "source": [
    "---"
   ]
  }
 ],
 "metadata": {
  "kernelspec": {
   "display_name": "Python 3",
   "language": "python",
   "name": "python3"
  },
  "language_info": {
   "codemirror_mode": {
    "name": "ipython",
    "version": 3
   },
   "file_extension": ".py",
   "mimetype": "text/x-python",
   "name": "python",
   "nbconvert_exporter": "python",
   "pygments_lexer": "ipython3",
   "version": "3.8.8"
  }
 },
 "nbformat": 4,
 "nbformat_minor": 5
}
